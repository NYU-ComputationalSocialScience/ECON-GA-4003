{
 "cells": [
  {
   "cell_type": "markdown",
   "metadata": {
    "slideshow": {
     "slide_type": "slide"
    }
   },
   "source": [
    "# BLS Labor Statistics\n",
    "\n",
    "We will now use the data that we downloaded to explore the labor market reactions during times of economic turbulence"
   ]
  },
  {
   "cell_type": "code",
   "execution_count": 1,
   "metadata": {
    "slideshow": {
     "slide_type": "-"
    }
   },
   "outputs": [],
   "source": [
    "import matplotlib.pyplot as plt\n",
    "import numpy as np\n",
    "import pandas as pd\n",
    "\n",
    "%matplotlib inline"
   ]
  },
  {
   "cell_type": "markdown",
   "metadata": {
    "slideshow": {
     "slide_type": "subslide"
    }
   },
   "source": [
    "## Clean the data\n",
    "\n",
    "We are going to assume that the data is stored in the same directory as you are in right now under `bls_metadata.parquet` and `bls_data.parquet`."
   ]
  },
  {
   "cell_type": "code",
   "execution_count": 2,
   "metadata": {
    "slideshow": {
     "slide_type": "-"
    }
   },
   "outputs": [],
   "source": [
    "data = pd.read_parquet(\"bls_data.parquet\")\n",
    "metadata = pd.read_parquet(\"bls_metadata.parquet\")\n"
   ]
  },
  {
   "cell_type": "markdown",
   "metadata": {
    "slideshow": {
     "slide_type": "subslide"
    }
   },
   "source": [
    "### Convert to numeric data"
   ]
  },
  {
   "cell_type": "code",
   "execution_count": 3,
   "metadata": {
    "slideshow": {
     "slide_type": "-"
    }
   },
   "outputs": [],
   "source": [
    "data[\"value\"] = pd.to_numeric(data[\"value\"])"
   ]
  },
  {
   "cell_type": "markdown",
   "metadata": {
    "slideshow": {
     "slide_type": "subslide"
    }
   },
   "source": [
    "### Convert date information to datetime\n"
   ]
  },
  {
   "cell_type": "code",
   "execution_count": 4,
   "metadata": {},
   "outputs": [
    {
     "data": {
      "text/html": [
       "<div>\n",
       "<style scoped>\n",
       "    .dataframe tbody tr th:only-of-type {\n",
       "        vertical-align: middle;\n",
       "    }\n",
       "\n",
       "    .dataframe tbody tr th {\n",
       "        vertical-align: top;\n",
       "    }\n",
       "\n",
       "    .dataframe thead th {\n",
       "        text-align: right;\n",
       "    }\n",
       "</style>\n",
       "<table border=\"1\" class=\"dataframe\">\n",
       "  <thead>\n",
       "    <tr style=\"text-align: right;\">\n",
       "      <th></th>\n",
       "      <th>year</th>\n",
       "      <th>period</th>\n",
       "      <th>periodName</th>\n",
       "      <th>latest</th>\n",
       "      <th>value</th>\n",
       "      <th>series_id</th>\n",
       "    </tr>\n",
       "  </thead>\n",
       "  <tbody>\n",
       "    <tr>\n",
       "      <th>0</th>\n",
       "      <td>2020</td>\n",
       "      <td>M09</td>\n",
       "      <td>September</td>\n",
       "      <td>true</td>\n",
       "      <td>147796</td>\n",
       "      <td>LNU02000000</td>\n",
       "    </tr>\n",
       "    <tr>\n",
       "      <th>1</th>\n",
       "      <td>2020</td>\n",
       "      <td>M08</td>\n",
       "      <td>August</td>\n",
       "      <td>None</td>\n",
       "      <td>147224</td>\n",
       "      <td>LNU02000000</td>\n",
       "    </tr>\n",
       "    <tr>\n",
       "      <th>2</th>\n",
       "      <td>2020</td>\n",
       "      <td>M07</td>\n",
       "      <td>July</td>\n",
       "      <td>None</td>\n",
       "      <td>144492</td>\n",
       "      <td>LNU02000000</td>\n",
       "    </tr>\n",
       "    <tr>\n",
       "      <th>3</th>\n",
       "      <td>2020</td>\n",
       "      <td>M06</td>\n",
       "      <td>June</td>\n",
       "      <td>None</td>\n",
       "      <td>142811</td>\n",
       "      <td>LNU02000000</td>\n",
       "    </tr>\n",
       "    <tr>\n",
       "      <th>4</th>\n",
       "      <td>2020</td>\n",
       "      <td>M05</td>\n",
       "      <td>May</td>\n",
       "      <td>None</td>\n",
       "      <td>137461</td>\n",
       "      <td>LNU02000000</td>\n",
       "    </tr>\n",
       "  </tbody>\n",
       "</table>\n",
       "</div>"
      ],
      "text/plain": [
       "   year period periodName latest   value    series_id\n",
       "0  2020    M09  September   true  147796  LNU02000000\n",
       "1  2020    M08     August   None  147224  LNU02000000\n",
       "2  2020    M07       July   None  144492  LNU02000000\n",
       "3  2020    M06       June   None  142811  LNU02000000\n",
       "4  2020    M05        May   None  137461  LNU02000000"
      ]
     },
     "execution_count": 4,
     "metadata": {},
     "output_type": "execute_result"
    }
   ],
   "source": [
    "data.head()"
   ]
  },
  {
   "cell_type": "code",
   "execution_count": 5,
   "metadata": {
    "slideshow": {
     "slide_type": "-"
    }
   },
   "outputs": [
    {
     "data": {
      "text/html": [
       "<div>\n",
       "<style scoped>\n",
       "    .dataframe tbody tr th:only-of-type {\n",
       "        vertical-align: middle;\n",
       "    }\n",
       "\n",
       "    .dataframe tbody tr th {\n",
       "        vertical-align: top;\n",
       "    }\n",
       "\n",
       "    .dataframe thead th {\n",
       "        text-align: right;\n",
       "    }\n",
       "</style>\n",
       "<table border=\"1\" class=\"dataframe\">\n",
       "  <thead>\n",
       "    <tr style=\"text-align: right;\">\n",
       "      <th></th>\n",
       "      <th>series_id</th>\n",
       "      <th>dt</th>\n",
       "      <th>value</th>\n",
       "    </tr>\n",
       "  </thead>\n",
       "  <tbody>\n",
       "    <tr>\n",
       "      <th>947</th>\n",
       "      <td>LNS12000000</td>\n",
       "      <td>2001-01-01</td>\n",
       "      <td>137778</td>\n",
       "    </tr>\n",
       "    <tr>\n",
       "      <th>946</th>\n",
       "      <td>LNS12000000</td>\n",
       "      <td>2001-02-01</td>\n",
       "      <td>137612</td>\n",
       "    </tr>\n",
       "    <tr>\n",
       "      <th>945</th>\n",
       "      <td>LNS12000000</td>\n",
       "      <td>2001-03-01</td>\n",
       "      <td>137783</td>\n",
       "    </tr>\n",
       "  </tbody>\n",
       "</table>\n",
       "</div>"
      ],
      "text/plain": [
       "       series_id         dt   value\n",
       "947  LNS12000000 2001-01-01  137778\n",
       "946  LNS12000000 2001-02-01  137612\n",
       "945  LNS12000000 2001-03-01  137783"
      ]
     },
     "execution_count": 5,
     "metadata": {},
     "output_type": "execute_result"
    }
   ],
   "source": [
    "data[\"dt\"] = pd.to_datetime(\n",
    "    data.apply(lambda x: f\"1 {x['periodName']} {x['year']}\", axis=1)\n",
    ")\n",
    "\n",
    "# Drop unneeded date info\n",
    "data = data.drop(\n",
    "    [\"year\", \"periodName\", \"period\", \"latest\"], axis=1\n",
    ").sort_values(\n",
    "    [\"series_id\", \"dt\"]\n",
    ")[[\"series_id\", \"dt\", \"value\"]]\n",
    "\n",
    "data.head(3)\n"
   ]
  },
  {
   "cell_type": "markdown",
   "metadata": {
    "slideshow": {
     "slide_type": "subslide"
    }
   },
   "source": [
    "### Rename `cps_labor_force_status`"
   ]
  },
  {
   "cell_type": "code",
   "execution_count": 6,
   "metadata": {
    "slideshow": {
     "slide_type": "-"
    }
   },
   "outputs": [
    {
     "data": {
      "text/html": [
       "<div>\n",
       "<style scoped>\n",
       "    .dataframe tbody tr th:only-of-type {\n",
       "        vertical-align: middle;\n",
       "    }\n",
       "\n",
       "    .dataframe tbody tr th {\n",
       "        vertical-align: top;\n",
       "    }\n",
       "\n",
       "    .dataframe thead th {\n",
       "        text-align: right;\n",
       "    }\n",
       "</style>\n",
       "<table border=\"1\" class=\"dataframe\">\n",
       "  <thead>\n",
       "    <tr style=\"text-align: right;\">\n",
       "      <th></th>\n",
       "      <th>series_title</th>\n",
       "      <th>series_id</th>\n",
       "      <th>seasonality</th>\n",
       "      <th>survey_name</th>\n",
       "      <th>survey_abbreviation</th>\n",
       "      <th>measure_data_type</th>\n",
       "      <th>commerce_industry</th>\n",
       "      <th>occupation</th>\n",
       "      <th>cps_labor_force_status</th>\n",
       "      <th>demographic_age</th>\n",
       "      <th>demographic_ethnic_origin</th>\n",
       "      <th>demographic_race</th>\n",
       "      <th>demographic_gender</th>\n",
       "      <th>demographic_marital_status</th>\n",
       "      <th>demographic_education</th>\n",
       "    </tr>\n",
       "  </thead>\n",
       "  <tbody>\n",
       "    <tr>\n",
       "      <th>0</th>\n",
       "      <td>(Unadj) Employment Level</td>\n",
       "      <td>LNU02000000</td>\n",
       "      <td>Not Seasonally Adjusted</td>\n",
       "      <td>Labor Force Statistics from the Current Popula...</td>\n",
       "      <td>LN</td>\n",
       "      <td>Number in thousands</td>\n",
       "      <td>All Industries</td>\n",
       "      <td>All Occupations</td>\n",
       "      <td>employed</td>\n",
       "      <td>16 years and over</td>\n",
       "      <td>All Origins</td>\n",
       "      <td>All Races</td>\n",
       "      <td>Both Sexes</td>\n",
       "      <td>All marital statuses</td>\n",
       "      <td>All educational levels</td>\n",
       "    </tr>\n",
       "    <tr>\n",
       "      <th>1</th>\n",
       "      <td>(Unadj) Employment Level - Men</td>\n",
       "      <td>LNU02000001</td>\n",
       "      <td>Not Seasonally Adjusted</td>\n",
       "      <td>Labor Force Statistics from the Current Popula...</td>\n",
       "      <td>LN</td>\n",
       "      <td>Number in thousands</td>\n",
       "      <td>All Industries</td>\n",
       "      <td>All Occupations</td>\n",
       "      <td>employed</td>\n",
       "      <td>16 years and over</td>\n",
       "      <td>All Origins</td>\n",
       "      <td>All Races</td>\n",
       "      <td>Men</td>\n",
       "      <td>All marital statuses</td>\n",
       "      <td>All educational levels</td>\n",
       "    </tr>\n",
       "  </tbody>\n",
       "</table>\n",
       "</div>"
      ],
      "text/plain": [
       "                     series_title    series_id              seasonality  \\\n",
       "0        (Unadj) Employment Level  LNU02000000  Not Seasonally Adjusted   \n",
       "1  (Unadj) Employment Level - Men  LNU02000001  Not Seasonally Adjusted   \n",
       "\n",
       "                                         survey_name survey_abbreviation  \\\n",
       "0  Labor Force Statistics from the Current Popula...                  LN   \n",
       "1  Labor Force Statistics from the Current Popula...                  LN   \n",
       "\n",
       "     measure_data_type commerce_industry       occupation  \\\n",
       "0  Number in thousands    All Industries  All Occupations   \n",
       "1  Number in thousands    All Industries  All Occupations   \n",
       "\n",
       "  cps_labor_force_status    demographic_age demographic_ethnic_origin  \\\n",
       "0               employed  16 years and over               All Origins   \n",
       "1               employed  16 years and over               All Origins   \n",
       "\n",
       "  demographic_race demographic_gender demographic_marital_status  \\\n",
       "0        All Races         Both Sexes       All marital statuses   \n",
       "1        All Races                Men       All marital statuses   \n",
       "\n",
       "    demographic_education  \n",
       "0  All educational levels  \n",
       "1  All educational levels  "
      ]
     },
     "execution_count": 6,
     "metadata": {},
     "output_type": "execute_result"
    }
   ],
   "source": [
    "lfs_status = {\n",
    "    \"Employed\": \"employed\",\n",
    "    \"Unemployed\": \"unemployed\",\n",
    "    \"Labor Force Flows Employed to Employed\": \"ee\",\n",
    "    \"Labor Force Flows Employed to Unemployed\": \"eu\",\n",
    "    \"Labor Force Flows Unemployed to Employed\": \"ue\",\n",
    "    \"Labor Force Flows Unemployed to Unemployed\": \"uu\",                \n",
    "}\n",
    "\n",
    "metadata = metadata.replace({\"cps_labor_force_status\": lfs_status})\n",
    "\n",
    "metadata.head(2)\n"
   ]
  },
  {
   "cell_type": "markdown",
   "metadata": {
    "slideshow": {
     "slide_type": "subslide"
    }
   },
   "source": [
    "### Only keep subset of metadata"
   ]
  },
  {
   "cell_type": "code",
   "execution_count": 7,
   "metadata": {
    "slideshow": {
     "slide_type": "-"
    }
   },
   "outputs": [
    {
     "data": {
      "text/html": [
       "<div>\n",
       "<style scoped>\n",
       "    .dataframe tbody tr th:only-of-type {\n",
       "        vertical-align: middle;\n",
       "    }\n",
       "\n",
       "    .dataframe tbody tr th {\n",
       "        vertical-align: top;\n",
       "    }\n",
       "\n",
       "    .dataframe thead th {\n",
       "        text-align: right;\n",
       "    }\n",
       "</style>\n",
       "<table border=\"1\" class=\"dataframe\">\n",
       "  <thead>\n",
       "    <tr style=\"text-align: right;\">\n",
       "      <th></th>\n",
       "      <th>series_title</th>\n",
       "      <th>series_id</th>\n",
       "      <th>seasonality</th>\n",
       "      <th>survey_name</th>\n",
       "      <th>survey_abbreviation</th>\n",
       "      <th>measure_data_type</th>\n",
       "      <th>commerce_industry</th>\n",
       "      <th>occupation</th>\n",
       "      <th>cps_labor_force_status</th>\n",
       "      <th>demographic_age</th>\n",
       "      <th>demographic_ethnic_origin</th>\n",
       "      <th>demographic_race</th>\n",
       "      <th>demographic_gender</th>\n",
       "      <th>demographic_marital_status</th>\n",
       "      <th>demographic_education</th>\n",
       "    </tr>\n",
       "  </thead>\n",
       "  <tbody>\n",
       "    <tr>\n",
       "      <th>0</th>\n",
       "      <td>(Unadj) Employment Level</td>\n",
       "      <td>LNU02000000</td>\n",
       "      <td>Not Seasonally Adjusted</td>\n",
       "      <td>Labor Force Statistics from the Current Popula...</td>\n",
       "      <td>LN</td>\n",
       "      <td>Number in thousands</td>\n",
       "      <td>All Industries</td>\n",
       "      <td>All Occupations</td>\n",
       "      <td>employed</td>\n",
       "      <td>16 years and over</td>\n",
       "      <td>All Origins</td>\n",
       "      <td>All Races</td>\n",
       "      <td>Both Sexes</td>\n",
       "      <td>All marital statuses</td>\n",
       "      <td>All educational levels</td>\n",
       "    </tr>\n",
       "    <tr>\n",
       "      <th>6</th>\n",
       "      <td>(Unadj) Labor Force Flows Employed to Employed</td>\n",
       "      <td>LNU07000000</td>\n",
       "      <td>Not Seasonally Adjusted</td>\n",
       "      <td>Labor Force Statistics from the Current Popula...</td>\n",
       "      <td>LN</td>\n",
       "      <td>Number in thousands</td>\n",
       "      <td>All Industries</td>\n",
       "      <td>All Occupations</td>\n",
       "      <td>ee</td>\n",
       "      <td>16 years and over</td>\n",
       "      <td>All Origins</td>\n",
       "      <td>All Races</td>\n",
       "      <td>Both Sexes</td>\n",
       "      <td>All marital statuses</td>\n",
       "      <td>All educational levels</td>\n",
       "    </tr>\n",
       "  </tbody>\n",
       "</table>\n",
       "</div>"
      ],
      "text/plain": [
       "                                     series_title    series_id  \\\n",
       "0                        (Unadj) Employment Level  LNU02000000   \n",
       "6  (Unadj) Labor Force Flows Employed to Employed  LNU07000000   \n",
       "\n",
       "               seasonality                                        survey_name  \\\n",
       "0  Not Seasonally Adjusted  Labor Force Statistics from the Current Popula...   \n",
       "6  Not Seasonally Adjusted  Labor Force Statistics from the Current Popula...   \n",
       "\n",
       "  survey_abbreviation    measure_data_type commerce_industry       occupation  \\\n",
       "0                  LN  Number in thousands    All Industries  All Occupations   \n",
       "6                  LN  Number in thousands    All Industries  All Occupations   \n",
       "\n",
       "  cps_labor_force_status    demographic_age demographic_ethnic_origin  \\\n",
       "0               employed  16 years and over               All Origins   \n",
       "6                     ee  16 years and over               All Origins   \n",
       "\n",
       "  demographic_race demographic_gender demographic_marital_status  \\\n",
       "0        All Races         Both Sexes       All marital statuses   \n",
       "6        All Races         Both Sexes       All marital statuses   \n",
       "\n",
       "    demographic_education  \n",
       "0  All educational levels  \n",
       "6  All educational levels  "
      ]
     },
     "execution_count": 7,
     "metadata": {},
     "output_type": "execute_result"
    }
   ],
   "source": [
    "and_filters = [\n",
    "    \"(commerce_industry == 'All Industries')\",\n",
    "    \"(occupation == 'All Occupations')\",\n",
    "    \"(seasonality == 'Not Seasonally Adjusted')\",\n",
    "    \"(demographic_race == 'All Races')\",\n",
    "    \"(demographic_gender == 'Both Sexes')\",\n",
    "]\n",
    "\n",
    "metadata_lf = metadata.query(\n",
    "    \"&\".join(and_filters)\n",
    ").loc[metadata[\"cps_labor_force_status\"].isin(lfs_status.values()), :]\n",
    "\n",
    "metadata_lf.head(2)\n"
   ]
  },
  {
   "cell_type": "markdown",
   "metadata": {
    "slideshow": {
     "slide_type": "subslide"
    }
   },
   "source": [
    "### Merge variable names to `data`"
   ]
  },
  {
   "cell_type": "code",
   "execution_count": 8,
   "metadata": {
    "slideshow": {
     "slide_type": "-"
    }
   },
   "outputs": [
    {
     "data": {
      "text/html": [
       "<div>\n",
       "<style scoped>\n",
       "    .dataframe tbody tr th:only-of-type {\n",
       "        vertical-align: middle;\n",
       "    }\n",
       "\n",
       "    .dataframe tbody tr th {\n",
       "        vertical-align: top;\n",
       "    }\n",
       "\n",
       "    .dataframe thead th {\n",
       "        text-align: right;\n",
       "    }\n",
       "</style>\n",
       "<table border=\"1\" class=\"dataframe\">\n",
       "  <thead>\n",
       "    <tr style=\"text-align: right;\">\n",
       "      <th></th>\n",
       "      <th>variable</th>\n",
       "      <th>dt</th>\n",
       "      <th>value</th>\n",
       "    </tr>\n",
       "  </thead>\n",
       "  <tbody>\n",
       "    <tr>\n",
       "      <th>0</th>\n",
       "      <td>employed</td>\n",
       "      <td>2001-01-01</td>\n",
       "      <td>136181</td>\n",
       "    </tr>\n",
       "    <tr>\n",
       "      <th>1</th>\n",
       "      <td>employed</td>\n",
       "      <td>2001-02-01</td>\n",
       "      <td>136577</td>\n",
       "    </tr>\n",
       "    <tr>\n",
       "      <th>2</th>\n",
       "      <td>employed</td>\n",
       "      <td>2001-03-01</td>\n",
       "      <td>137155</td>\n",
       "    </tr>\n",
       "    <tr>\n",
       "      <th>3</th>\n",
       "      <td>employed</td>\n",
       "      <td>2001-04-01</td>\n",
       "      <td>137022</td>\n",
       "    </tr>\n",
       "    <tr>\n",
       "      <th>4</th>\n",
       "      <td>employed</td>\n",
       "      <td>2001-05-01</td>\n",
       "      <td>137121</td>\n",
       "    </tr>\n",
       "  </tbody>\n",
       "</table>\n",
       "</div>"
      ],
      "text/plain": [
       "   variable         dt   value\n",
       "0  employed 2001-01-01  136181\n",
       "1  employed 2001-02-01  136577\n",
       "2  employed 2001-03-01  137155\n",
       "3  employed 2001-04-01  137022\n",
       "4  employed 2001-05-01  137121"
      ]
     },
     "execution_count": 8,
     "metadata": {},
     "output_type": "execute_result"
    }
   ],
   "source": [
    "df = pd.merge(\n",
    "    data, metadata_lf[[\"series_id\", \"cps_labor_force_status\"]],\n",
    "    on=\"series_id\", how=\"right\"\n",
    ").rename(\n",
    "    columns={\"cps_labor_force_status\": \"variable\"}\n",
    ")[[\"variable\", \"dt\", \"value\"]]\n",
    "\n",
    "df.head()\n"
   ]
  },
  {
   "cell_type": "markdown",
   "metadata": {
    "slideshow": {
     "slide_type": "slide"
    }
   },
   "source": [
    "## Generate series from dates\n",
    "\n",
    "Create a function that will give us a series starting from a particular date and going forward a certain number of days"
   ]
  },
  {
   "cell_type": "code",
   "execution_count": 9,
   "metadata": {
    "slideshow": {
     "slide_type": "-"
    }
   },
   "outputs": [],
   "source": [
    "def filter_days_from(data, start_date, ndays=3*365):\n",
    "    \"\"\"\n",
    "    Creates a history of data starting at a particular date and running\n",
    "    forward for `ndays` days.\n",
    "    \n",
    "    Parameters\n",
    "    ----------\n",
    "    data : pd.DataFrame\n",
    "        A DataFrame with relevant data that we'd like to  consider\n",
    "        starting from a particular date. Must have a column `dt` with\n",
    "        datetime data\n",
    "    start_date : str or datetime\n",
    "        The moment we would like our history to start\n",
    "    ndays : int\n",
    "        The number of days that we would like to keep in our history\n",
    "    \n",
    "    Returns\n",
    "    -------\n",
    "    out : pd.DataFrame\n",
    "        A copy of `data` with only data from `start_date` to\n",
    "        `start_date + f'{ndays} days'` and a new column that counts\n",
    "        the number of days since `start_date`\n",
    "    \"\"\"\n",
    "    # Determine number of days from certain date\n",
    "    days_from = (data[\"dt\"] - pd.to_datetime(start_date)).dt.days\n",
    "    \n",
    "    # Check for >=0 days and <ndays\n",
    "    dates_to_keep = (days_from >= 0) & (days_from < ndays)\n",
    "    \n",
    "    # Create copy of DataFrame that we'll use as the return\n",
    "    out = data.copy()\n",
    "    out[\"days_from\"] = days_from\n",
    "    out = out.loc[dates_to_keep, :]\n",
    "\n",
    "    return out"
   ]
  },
  {
   "cell_type": "markdown",
   "metadata": {
    "slideshow": {
     "slide_type": "subslide"
    }
   },
   "source": [
    "### What does this function do?"
   ]
  },
  {
   "cell_type": "code",
   "execution_count": 10,
   "metadata": {
    "slideshow": {
     "slide_type": "-"
    }
   },
   "outputs": [
    {
     "data": {
      "text/html": [
       "<div>\n",
       "<style scoped>\n",
       "    .dataframe tbody tr th:only-of-type {\n",
       "        vertical-align: middle;\n",
       "    }\n",
       "\n",
       "    .dataframe tbody tr th {\n",
       "        vertical-align: top;\n",
       "    }\n",
       "\n",
       "    .dataframe thead th {\n",
       "        text-align: right;\n",
       "    }\n",
       "</style>\n",
       "<table border=\"1\" class=\"dataframe\">\n",
       "  <thead>\n",
       "    <tr style=\"text-align: right;\">\n",
       "      <th></th>\n",
       "      <th>variable</th>\n",
       "      <th>dt</th>\n",
       "      <th>value</th>\n",
       "      <th>days_from</th>\n",
       "    </tr>\n",
       "  </thead>\n",
       "  <tbody>\n",
       "    <tr>\n",
       "      <th>132</th>\n",
       "      <td>employed</td>\n",
       "      <td>2012-01-01</td>\n",
       "      <td>139944</td>\n",
       "      <td>0</td>\n",
       "    </tr>\n",
       "    <tr>\n",
       "      <th>133</th>\n",
       "      <td>employed</td>\n",
       "      <td>2012-02-01</td>\n",
       "      <td>140684</td>\n",
       "      <td>31</td>\n",
       "    </tr>\n",
       "    <tr>\n",
       "      <th>134</th>\n",
       "      <td>employed</td>\n",
       "      <td>2012-03-01</td>\n",
       "      <td>141412</td>\n",
       "      <td>60</td>\n",
       "    </tr>\n",
       "    <tr>\n",
       "      <th>135</th>\n",
       "      <td>employed</td>\n",
       "      <td>2012-04-01</td>\n",
       "      <td>141995</td>\n",
       "      <td>91</td>\n",
       "    </tr>\n",
       "    <tr>\n",
       "      <th>136</th>\n",
       "      <td>employed</td>\n",
       "      <td>2012-05-01</td>\n",
       "      <td>142727</td>\n",
       "      <td>121</td>\n",
       "    </tr>\n",
       "  </tbody>\n",
       "</table>\n",
       "</div>"
      ],
      "text/plain": [
       "     variable         dt   value  days_from\n",
       "132  employed 2012-01-01  139944          0\n",
       "133  employed 2012-02-01  140684         31\n",
       "134  employed 2012-03-01  141412         60\n",
       "135  employed 2012-04-01  141995         91\n",
       "136  employed 2012-05-01  142727        121"
      ]
     },
     "execution_count": 10,
     "metadata": {},
     "output_type": "execute_result"
    }
   ],
   "source": [
    "df_nt = filter_days_from(df, \"2012-01-01\", ndays=5*365)\n",
    "\n",
    "df_nt.head()\n"
   ]
  },
  {
   "cell_type": "markdown",
   "metadata": {
    "slideshow": {
     "slide_type": "slide"
    }
   },
   "source": [
    "## UE and EU during 'normal times'"
   ]
  },
  {
   "cell_type": "code",
   "execution_count": 11,
   "metadata": {
    "slideshow": {
     "slide_type": "-"
    }
   },
   "outputs": [
    {
     "data": {
      "text/html": [
       "<div>\n",
       "<style scoped>\n",
       "    .dataframe tbody tr th:only-of-type {\n",
       "        vertical-align: middle;\n",
       "    }\n",
       "\n",
       "    .dataframe tbody tr th {\n",
       "        vertical-align: top;\n",
       "    }\n",
       "\n",
       "    .dataframe thead th {\n",
       "        text-align: right;\n",
       "    }\n",
       "</style>\n",
       "<table border=\"1\" class=\"dataframe\">\n",
       "  <thead>\n",
       "    <tr style=\"text-align: right;\">\n",
       "      <th>variable</th>\n",
       "      <th>ee</th>\n",
       "      <th>employed</th>\n",
       "      <th>eu</th>\n",
       "      <th>ue</th>\n",
       "      <th>unemployed</th>\n",
       "      <th>uu</th>\n",
       "      <th>laborforce</th>\n",
       "    </tr>\n",
       "    <tr>\n",
       "      <th>dt</th>\n",
       "      <th></th>\n",
       "      <th></th>\n",
       "      <th></th>\n",
       "      <th></th>\n",
       "      <th></th>\n",
       "      <th></th>\n",
       "      <th></th>\n",
       "    </tr>\n",
       "  </thead>\n",
       "  <tbody>\n",
       "    <tr>\n",
       "      <th>2012-01-01</th>\n",
       "      <td>0.956647</td>\n",
       "      <td>139944</td>\n",
       "      <td>0.018457</td>\n",
       "      <td>0.145189</td>\n",
       "      <td>13541</td>\n",
       "      <td>0.587180</td>\n",
       "      <td>153485</td>\n",
       "    </tr>\n",
       "    <tr>\n",
       "      <th>2012-02-01</th>\n",
       "      <td>0.956989</td>\n",
       "      <td>140684</td>\n",
       "      <td>0.014422</td>\n",
       "      <td>0.188980</td>\n",
       "      <td>13430</td>\n",
       "      <td>0.618764</td>\n",
       "      <td>154114</td>\n",
       "    </tr>\n",
       "    <tr>\n",
       "      <th>2012-03-01</th>\n",
       "      <td>0.959077</td>\n",
       "      <td>141412</td>\n",
       "      <td>0.013485</td>\n",
       "      <td>0.188779</td>\n",
       "      <td>12904</td>\n",
       "      <td>0.634997</td>\n",
       "      <td>154316</td>\n",
       "    </tr>\n",
       "    <tr>\n",
       "      <th>2012-04-01</th>\n",
       "      <td>0.960273</td>\n",
       "      <td>141995</td>\n",
       "      <td>0.010944</td>\n",
       "      <td>0.199412</td>\n",
       "      <td>11910</td>\n",
       "      <td>0.651637</td>\n",
       "      <td>153905</td>\n",
       "    </tr>\n",
       "    <tr>\n",
       "      <th>2012-05-01</th>\n",
       "      <td>0.959916</td>\n",
       "      <td>142727</td>\n",
       "      <td>0.011764</td>\n",
       "      <td>0.169668</td>\n",
       "      <td>12271</td>\n",
       "      <td>0.605330</td>\n",
       "      <td>154998</td>\n",
       "    </tr>\n",
       "  </tbody>\n",
       "</table>\n",
       "</div>"
      ],
      "text/plain": [
       "variable          ee  employed        eu        ue  unemployed        uu  \\\n",
       "dt                                                                         \n",
       "2012-01-01  0.956647    139944  0.018457  0.145189       13541  0.587180   \n",
       "2012-02-01  0.956989    140684  0.014422  0.188980       13430  0.618764   \n",
       "2012-03-01  0.959077    141412  0.013485  0.188779       12904  0.634997   \n",
       "2012-04-01  0.960273    141995  0.010944  0.199412       11910  0.651637   \n",
       "2012-05-01  0.959916    142727  0.011764  0.169668       12271  0.605330   \n",
       "\n",
       "variable    laborforce  \n",
       "dt                      \n",
       "2012-01-01      153485  \n",
       "2012-02-01      154114  \n",
       "2012-03-01      154316  \n",
       "2012-04-01      153905  \n",
       "2012-05-01      154998  "
      ]
     },
     "execution_count": 11,
     "metadata": {},
     "output_type": "execute_result"
    }
   ],
   "source": [
    "pt_nt = df_nt.pivot(index=\"dt\", columns=\"variable\", values=\"value\")\n",
    "\n",
    "pt_nt[\"laborforce\"] = pt_nt.eval(\"employed + unemployed\")\n",
    "\n",
    "for col in [\"ee\", \"eu\"]:\n",
    "    pt_nt.loc[:, col] = pt_nt.eval(f\"{col} / employed\")\n",
    "\n",
    "for col in [\"ue\", \"uu\"]:\n",
    "    pt_nt.loc[:, col] = pt_nt.eval(f\"{col} / unemployed\")\n",
    "\n",
    "pt_nt.head()\n"
   ]
  },
  {
   "cell_type": "code",
   "execution_count": 12,
   "metadata": {
    "scrolled": false,
    "slideshow": {
     "slide_type": "fragment"
    }
   },
   "outputs": [
    {
     "data": {
      "text/plain": [
       "Text(0.5, 1.0, \"EU and UE during 'normal times'\")"
      ]
     },
     "execution_count": 12,
     "metadata": {},
     "output_type": "execute_result"
    },
    {
     "data": {
      "image/png": "[encoded data removed]",
      "text/plain": [
       "<Figure size 720x576 with 1 Axes>"
      ]
     },
     "metadata": {
      "needs_background": "light"
     },
     "output_type": "display_data"
    }
   ],
   "source": [
    "fig, ax = plt.subplots(figsize=(10, 8))\n",
    "\n",
    "pt_nt.plot(\n",
    "    y=\"eu\", ax=ax,\n",
    "    color=\"Red\", legend=False, linewidth=2.0\n",
    ")\n",
    "pt_nt.plot(\n",
    "    y=\"ue\", ax=ax,\n",
    "    color=\"Green\", legend=False, linewidth=2.0\n",
    ")\n",
    "\n",
    "ax.hlines(\n",
    "    pt_nt[\"eu\"].mean(), pt_nt.index[0], pt_nt.index[-1],\n",
    "    linewidth=1.0, linestyle=\"--\", color=\"Red\"\n",
    ")\n",
    "ax.hlines(\n",
    "    pt_nt[\"ue\"].mean(), pt_nt.index[0], pt_nt.index[-1],\n",
    "    linewidth=1.0, linestyle=\"--\", color=\"Green\"\n",
    ")\n",
    "\n",
    "xs, xe = ax.get_xlim()\n",
    "ax.annotate(\n",
    "    \"EU\", xy=(xs + 0.33*(xe-xs), 0.020),\n",
    "    color=\"Red\", size=16\n",
    ")\n",
    "ax.annotate(\n",
    "    \"UE\", xy=(xs + 0.15*(xe-xs), 0.22),\n",
    "    color=\"Green\", size=16\n",
    ")\n",
    "\n",
    "ax.spines[\"right\"].set_visible(False)\n",
    "ax.spines[\"top\"].set_visible(False)\n",
    "\n",
    "ax.set_title(\"EU and UE during 'normal times'\", size=18)"
   ]
  },
  {
   "cell_type": "markdown",
   "metadata": {
    "slideshow": {
     "slide_type": "slide"
    }
   },
   "source": [
    "## Labor statistics during 'turbulent times'\n",
    "\n",
    "We are going to start our plots of \"turbulent times\" one year prior to the trough of unemployment...\n",
    "\n",
    "\n",
    "Note that we did this approximately, but writing code to do this would be a great exercise if you're looking for practice!"
   ]
  },
  {
   "cell_type": "code",
   "execution_count": 13,
   "metadata": {
    "slideshow": {
     "slide_type": "-"
    }
   },
   "outputs": [],
   "source": [
    "df_covid = filter_days_from(\n",
    "    df, \"2019-03-01\", 5*365\n",
    ").pivot(\n",
    "    index=\"days_from\", columns=\"variable\", values=\"value\"\n",
    ").assign(\n",
    "    laborforce= lambda x: x.eval(\"employed + unemployed\"),\n",
    "    ee=lambda x: x.eval(\"ee / employed\"),\n",
    "    eu=lambda x: x.eval(\"eu / employed\"),\n",
    "    ue=lambda x: x.eval(\"ue / unemployed\"),\n",
    "    uu=lambda x: x.eval(\"uu / unemployed\"),\n",
    ")\n"
   ]
  },
  {
   "cell_type": "code",
   "execution_count": 14,
   "metadata": {
    "slideshow": {
     "slide_type": "-"
    }
   },
   "outputs": [],
   "source": [
    "df_gr = filter_days_from(\n",
    "    df, \"2007-02-01\", 5*365\n",
    ").pivot(\n",
    "    index=\"days_from\", columns=\"variable\", values=\"value\"\n",
    ").assign(\n",
    "    laborforce= lambda x: x.eval(\"employed + unemployed\"),\n",
    "    ee=lambda x: x.eval(\"ee / employed\"),\n",
    "    eu=lambda x: x.eval(\"eu / employed\"),\n",
    "    ue=lambda x: x.eval(\"ue / unemployed\"),\n",
    "    uu=lambda x: x.eval(\"uu / unemployed\"),\n",
    ")\n"
   ]
  },
  {
   "cell_type": "markdown",
   "metadata": {
    "slideshow": {
     "slide_type": "subslide"
    }
   },
   "source": [
    "### Changes in employment and unemployment"
   ]
  },
  {
   "cell_type": "code",
   "execution_count": 15,
   "metadata": {
    "slideshow": {
     "slide_type": "-"
    }
   },
   "outputs": [
    {
     "data": {
      "image/png": "[encoded data removed]",
      "text/plain": [
       "<Figure size 720x576 with 2 Axes>"
      ]
     },
     "metadata": {
      "needs_background": "light"
     },
     "output_type": "display_data"
    }
   ],
   "source": [
    "fig, ax = plt.subplots(2, 1, figsize=(10, 8), sharex=True)\n",
    "\n",
    "df_covid.plot(\n",
    "    y=\"employed\", ax=ax[0],\n",
    "    color=\"k\", linewidth=1.0, legend=False\n",
    ")\n",
    "df_gr.plot(\n",
    "    y=\"employed\", ax=ax[0],\n",
    "    color=\"k\", alpha=0.5, linestyle=\"--\", linewidth=0.5,\n",
    "    legend=False\n",
    ")\n",
    "ax[0].set_title(\"Number of employed\")\n",
    "ax[0].set_ylabel(\"People in thousands\")\n",
    "\n",
    "df_covid.plot(\n",
    "    y=\"unemployed\", ax=ax[1],\n",
    "    color=\"k\", linewidth=1.0, legend=False\n",
    ")\n",
    "df_gr.plot(\n",
    "    y=\"unemployed\", ax=ax[1],\n",
    "    color=\"k\", alpha=0.5, linestyle=\"--\", linewidth=0.5,\n",
    "    legend=False\n",
    ")\n",
    "ax[1].set_title(\"Number of unemployed\")\n",
    "ax[1].set_xlabel(\"Days since one year before trough\")\n",
    "ax[1].set_ylabel(\"People in thousands\")\n",
    "\n",
    "for _ax in ax:\n",
    "    _ax.spines[\"right\"].set_visible(False)\n",
    "    _ax.spines[\"top\"].set_visible(False)\n",
    "\n",
    "ax[0].annotate(\"COVID\", (385, 155_000))\n",
    "ax[0].annotate(\"Great Recession\", (1_250, 142_000), alpha=0.5)\n",
    "\n",
    "fig.tight_layout()"
   ]
  },
  {
   "cell_type": "markdown",
   "metadata": {
    "slideshow": {
     "slide_type": "subslide"
    }
   },
   "source": [
    "### Changes in EU and UE"
   ]
  },
  {
   "cell_type": "code",
   "execution_count": 16,
   "metadata": {
    "slideshow": {
     "slide_type": "-"
    }
   },
   "outputs": [
    {
     "data": {
      "image/png": "[encoded data removed]",
      "text/plain": [
       "<Figure size 720x576 with 2 Axes>"
      ]
     },
     "metadata": {
      "needs_background": "light"
     },
     "output_type": "display_data"
    }
   ],
   "source": [
    "fig, ax = plt.subplots(2, 1, figsize=(10, 8), sharex=True)\n",
    "\n",
    "df_covid.plot(\n",
    "    y=\"ue\", ax=ax[0],\n",
    "    color=\"k\", linewidth=1.0, legend=False\n",
    ")\n",
    "df_gr.plot(\n",
    "    y=\"ue\", ax=ax[0],\n",
    "    color=\"k\", alpha=0.5, linestyle=\"--\", linewidth=0.5,\n",
    "    legend=False\n",
    ")\n",
    "ax[0].set_title(\"Unemployed to Employed\")\n",
    "ax[0].set_ylabel(\"Percent of unemployed\")\n",
    "\n",
    "df_covid.plot(\n",
    "    y=\"eu\", ax=ax[1],\n",
    "    color=\"k\", linewidth=1.0, legend=False\n",
    ")\n",
    "df_gr.plot(\n",
    "    y=\"eu\", ax=ax[1],\n",
    "    color=\"k\", alpha=0.5, linestyle=\"--\", linewidth=0.5,\n",
    "    legend=False\n",
    ")\n",
    "ax[1].set_title(\"Employed to Unmployed\")\n",
    "ax[1].set_xlabel(\"Days since one year before trough\")\n",
    "ax[1].set_ylabel(\"Percent of employed\")\n",
    "\n",
    "for _ax in ax:\n",
    "    _ax.spines[\"right\"].set_visible(False)\n",
    "    _ax.spines[\"top\"].set_visible(False)\n",
    "\n",
    "ax[0].hlines(pt_nt[\"ue\"].mean(), 0, 5*365, color=\"Green\", linewidth=0.75, alpha=0.75)\n",
    "ax[1].hlines(pt_nt[\"eu\"].mean(), 0, 5*365, color=\"Green\", linewidth=0.75, alpha=0.75)\n",
    "\n",
    "ax[0].annotate(\"COVID\", (550, 0.35))\n",
    "ax[0].annotate(\"Great Recession\", (750, 0.10), alpha=0.5)\n",
    "ax[0].annotate(\"Normal times\", (1000, 0.24), color=\"Green\", alpha=0.75)\n",
    "\n",
    "fig.tight_layout()\n"
   ]
  },
  {
   "cell_type": "code",
   "execution_count": null,
   "metadata": {},
   "outputs": [],
   "source": []
  }
 ],
 "metadata": {
  "celltoolbar": "Slideshow",
  "interpreter": {
   "hash": "31582b9feba862c420bc95ad7fac43fb721c474490d1710b4e50ac63470f9531"
  },
  "kernelspec": {
   "display_name": "Python 3.8.8 64-bit ('base': conda)",
   "name": "python3"
  },
  "language_info": {
   "codemirror_mode": {
    "name": "ipython",
    "version": 3
   },
   "file_extension": ".py",
   "mimetype": "text/x-python",
   "name": "python",
   "nbconvert_exporter": "python",
   "pygments_lexer": "ipython3",
   "version": "3.8.8"
  }
 },
 "nbformat": 4,
 "nbformat_minor": 4
}
