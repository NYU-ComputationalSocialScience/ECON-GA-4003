{
 "cells": [
  {
   "cell_type": "markdown",
   "metadata": {
    "slideshow": {
     "slide_type": "slide"
    }
   },
   "source": [
    "# Time series\n",
    "\n",
    "**Prerequisites**\n",
    "\n",
    "- Python functions\n",
    "- GroupBy\n",
    "\n",
    "\n",
    "**Outcomes**\n",
    "\n",
    "- Know how pandas handles dates  \n",
    "- Understand how to parse strings into `datetime` objects  \n",
    "- Know how to write dates as custom formatted strings  \n",
    "- Be able to access day, month, year, etc. for a `DateTimeIndex` and\n",
    "  a column with `dtype` `datetime`  \n",
    "- Understand both rolling and re-sampling operations and the difference\n",
    "  between the two  \n",
    "\n",
    "\n",
    "**Data**\n",
    "\n",
    "- Bitcoin to USD exchange rates from March 2014 to the present  "
   ]
  },
  {
   "cell_type": "markdown",
   "metadata": {
    "slideshow": {
     "slide_type": "subslide"
    }
   },
   "source": [
    "## Outline\n",
    "\n",
    "- [Time series](#Time-series)  \n",
    "  - [Intro](#Intro)  \n",
    "  - [Parsing Strings as Dates](#Parsing-Strings-as-Dates)  \n",
    "  - [Date Formatting](#Date-Formatting)  \n",
    "  - [Extracting Data](#Extracting-Data)  \n",
    "  - [Accessing Date Properties](#Accessing-Date-Properties)  \n",
    "  - [Leads and Lags: `df.shift`](#Leads-and-Lags:-`df.shift`)  \n",
    "  - [Rolling Computations: `.rolling`](#Rolling-Computations:-`.rolling`)  \n",
    "  - [Changing Frequencies: `.resample`](#Changing-Frequencies:-`.resample`)  \n",
    "  - [Optional: API keys](#Optional:-API-keys)  \n",
    "  - [Exercises](#Exercises)  "
   ]
  },
  {
   "cell_type": "code",
   "execution_count": 41,
   "metadata": {
    "hide-output": false,
    "slideshow": {
     "slide_type": "subslide"
    }
   },
   "outputs": [
    {
     "name": "stdout",
     "output_type": "stream",
     "text": [
      "Requirement already satisfied: quandl in /Users/fabrizio/opt/anaconda3/lib/python3.8/site-packages (3.6.1)\n",
      "Requirement already satisfied: python-dateutil in /Users/fabrizio/opt/anaconda3/lib/python3.8/site-packages (from quandl) (2.8.1)\n",
      "Requirement already satisfied: six in /Users/fabrizio/opt/anaconda3/lib/python3.8/site-packages (from quandl) (1.15.0)\n",
      "Requirement already satisfied: requests>=2.7.0 in /Users/fabrizio/opt/anaconda3/lib/python3.8/site-packages (from quandl) (2.25.1)\n",
      "Requirement already satisfied: numpy>=1.8 in /Users/fabrizio/opt/anaconda3/lib/python3.8/site-packages (from quandl) (1.20.1)\n",
      "Requirement already satisfied: more-itertools in /Users/fabrizio/opt/anaconda3/lib/python3.8/site-packages (from quandl) (8.7.0)\n",
      "Requirement already satisfied: pandas>=0.14 in /Users/fabrizio/opt/anaconda3/lib/python3.8/site-packages (from quandl) (1.2.4)\n",
      "Requirement already satisfied: inflection>=0.3.1 in /Users/fabrizio/opt/anaconda3/lib/python3.8/site-packages (from quandl) (0.5.1)\n",
      "Requirement already satisfied: pytz>=2017.3 in /Users/fabrizio/opt/anaconda3/lib/python3.8/site-packages (from pandas>=0.14->quandl) (2021.1)\n",
      "Requirement already satisfied: chardet<5,>=3.0.2 in /Users/fabrizio/opt/anaconda3/lib/python3.8/site-packages (from requests>=2.7.0->quandl) (4.0.0)\n",
      "Requirement already satisfied: idna<3,>=2.5 in /Users/fabrizio/opt/anaconda3/lib/python3.8/site-packages (from requests>=2.7.0->quandl) (2.10)\n",
      "Requirement already satisfied: urllib3<1.27,>=1.21.1 in /Users/fabrizio/opt/anaconda3/lib/python3.8/site-packages (from requests>=2.7.0->quandl) (1.26.4)\n",
      "Requirement already satisfied: certifi>=2017.4.17 in /Users/fabrizio/opt/anaconda3/lib/python3.8/site-packages (from requests>=2.7.0->quandl) (2020.12.5)\n",
      "\u001b[33mWARNING: You are using pip version 21.2.4; however, version 21.3.1 is available.\n",
      "You should consider upgrading via the '/Users/fabrizio/opt/anaconda3/bin/python -m pip install --upgrade pip' command.\u001b[0m\n",
      "Note: you may need to restart the kernel to use updated packages.\n"
     ]
    }
   ],
   "source": [
    "# Uncomment following line to install on colab\n",
    "%pip install quandl"
   ]
  },
  {
   "cell_type": "code",
   "execution_count": 42,
   "metadata": {
    "execution": {
     "iopub.status.idle": "2020-11-03T15:03:50.165336Z",
     "shell.execute_reply": "2020-11-03T15:03:50.164644Z",
     "shell.execute_reply.started": "2020-11-03T15:03:49.755777Z"
    },
    "hide-output": false
   },
   "outputs": [],
   "source": [
    "import os\n",
    "import pandas as pd\n",
    "import matplotlib.pyplot as plt\n",
    "import quandl\n",
    "\n",
    "# see section on API keys at end of lecture!\n",
    "quandl.ApiConfig.api_key = os.environ.get(\"QUANDL_AUTH\", \"Dn6BtVoBhzuKTuyo6hbp\")\n",
    "start_date = \"2014-05-01\"\n",
    "\n",
    "%matplotlib inline\n",
    "# activate plot theme\n",
    "plt.style.use(\"ggplot\")"
   ]
  },
  {
   "cell_type": "markdown",
   "metadata": {
    "slideshow": {
     "slide_type": "slide"
    }
   },
   "source": [
    "## Intro\n",
    "\n",
    "pandas has extensive support for handling dates and times\n",
    "\n",
    "We will loosely refer to data with date or time information as time\n",
    "series data\n",
    "\n",
    "Today we'll explore pandas timeseries capabilities"
   ]
  },
  {
   "cell_type": "markdown",
   "metadata": {
    "slideshow": {
     "slide_type": "subslide"
    }
   },
   "source": [
    "Among these topics are:\n",
    "\n",
    "- Parsing strings as dates  \n",
    "- Writing `datetime` objects as (inverse operation of previous point)  \n",
    "- Extracting data from a DataFrame or Series with date information in\n",
    "  the index  \n",
    "- Shifting data through time (taking leads or lags)  \n",
    "- Re-sampling data to a different frequency and rolling operations  \n",
    "\n",
    "**NOTE:** here, even more than with previous topics, we will skip a lot of the\n",
    "functionality pandas offers, and we urge you to refer to the [official\n",
    "documentation](https://pandas.pydata.org/pandas-docs/stable/timeseries.html)\n",
    "for more information"
   ]
  },
  {
   "cell_type": "markdown",
   "metadata": {
    "slideshow": {
     "slide_type": "slide"
    }
   },
   "source": [
    "## Parsing Strings as Dates\n",
    "\n",
    "Dates often come to us as strings\n",
    "\n",
    "Hopefully, the date strings follow a structured format or pattern\n",
    "\n",
    "One common pattern is `YYYY-MM-DD`: 4 numbers for the year, 2 for the\n",
    "month, and 2 for the day with each section separated by a `-`\n",
    "\n",
    "For example, we write Christmas day 2017 in this format as"
   ]
  },
  {
   "cell_type": "code",
   "execution_count": 43,
   "metadata": {
    "execution": {
     "iopub.execute_input": "2020-11-03T15:03:50.166529Z",
     "iopub.status.busy": "2020-11-03T15:03:50.166397Z",
     "iopub.status.idle": "2020-11-03T15:03:50.169284Z",
     "shell.execute_reply": "2020-11-03T15:03:50.168585Z",
     "shell.execute_reply.started": "2020-11-03T15:03:50.166507Z"
    },
    "hide-output": false
   },
   "outputs": [],
   "source": [
    "christmas_str = \"2020-12-25\""
   ]
  },
  {
   "cell_type": "markdown",
   "metadata": {
    "slideshow": {
     "slide_type": "subslide"
    }
   },
   "source": [
    "To convert a string into a time-aware object, we use the\n",
    "`pd.to_datetime` function."
   ]
  },
  {
   "cell_type": "code",
   "execution_count": 44,
   "metadata": {
    "execution": {
     "iopub.execute_input": "2020-11-03T15:03:50.170326Z",
     "iopub.status.busy": "2020-11-03T15:03:50.170214Z",
     "iopub.status.idle": "2020-11-03T15:03:50.178824Z",
     "shell.execute_reply": "2020-11-03T15:03:50.178350Z",
     "shell.execute_reply.started": "2020-11-03T15:03:50.170306Z"
    },
    "hide-output": false
   },
   "outputs": [
    {
     "name": "stdout",
     "output_type": "stream",
     "text": [
      "The type of christmas is <class 'pandas._libs.tslibs.timestamps.Timestamp'>\n"
     ]
    },
    {
     "data": {
      "text/plain": [
       "Timestamp('2020-12-25 00:00:00')"
      ]
     },
     "execution_count": 44,
     "metadata": {},
     "output_type": "execute_result"
    }
   ],
   "source": [
    "christmas = pd.to_datetime(christmas_str)\n",
    "print(\"The type of christmas is\", type(christmas))\n",
    "christmas"
   ]
  },
  {
   "cell_type": "markdown",
   "metadata": {
    "slideshow": {
     "slide_type": "subslide"
    }
   },
   "source": [
    "The `pd.to_datetime` function is pretty smart at guessing the format\n",
    "of the date…"
   ]
  },
  {
   "cell_type": "code",
   "execution_count": 45,
   "metadata": {
    "execution": {
     "iopub.execute_input": "2020-11-03T15:03:50.179551Z",
     "iopub.status.busy": "2020-11-03T15:03:50.179433Z",
     "iopub.status.idle": "2020-11-03T15:03:50.188770Z",
     "shell.execute_reply": "2020-11-03T15:03:50.188275Z",
     "shell.execute_reply.started": "2020-11-03T15:03:50.179531Z"
    },
    "hide-output": false
   },
   "outputs": [
    {
     "name": "stdout",
     "output_type": "stream",
     "text": [
      "pandas interprets December 25, 2020 as 2020-12-25 00:00:00\n",
      "pandas interprets Dec. 25, 2020 as 2020-12-25 00:00:00\n",
      "pandas interprets Monday, Dec. 25, 2020 as 2020-12-25 00:00:00\n",
      "pandas interprets 25 Dec. 2020 as 2020-12-25 00:00:00\n",
      "pandas interprets 25th Dec. 2020 as 2020-12-25 00:00:00\n"
     ]
    }
   ],
   "source": [
    "# this means to parse striings as dates\n",
    "\n",
    "for date in [\"December 25, 2020\", \"Dec. 25, 2020\",\n",
    "             \"Monday, Dec. 25, 2020\", \"25 Dec. 2020\", \"25th Dec. 2020\"]:\n",
    "    print(\"pandas interprets {} as {}\".format(date, pd.to_datetime(date)))"
   ]
  },
  {
   "cell_type": "markdown",
   "metadata": {
    "slideshow": {
     "slide_type": "subslide"
    }
   },
   "source": [
    "However, sometimes we will need to give pandas a hint\n",
    "\n",
    "For example, that same time (midnight on Christmas) would be reported on\n",
    "an Amazon transaction report as"
   ]
  },
  {
   "cell_type": "code",
   "execution_count": 46,
   "metadata": {
    "execution": {
     "iopub.execute_input": "2020-11-03T15:03:50.189489Z",
     "iopub.status.busy": "2020-11-03T15:03:50.189362Z",
     "iopub.status.idle": "2020-11-03T15:03:50.194258Z",
     "shell.execute_reply": "2020-11-03T15:03:50.193489Z",
     "shell.execute_reply.started": "2020-11-03T15:03:50.189467Z"
    },
    "hide-output": false,
    "slideshow": {
     "slide_type": "-"
    }
   },
   "outputs": [],
   "source": [
    "christmas_amzn = \"2020-12-25T00:00:00+ 00 :00\""
   ]
  },
  {
   "cell_type": "markdown",
   "metadata": {},
   "source": [
    "If we try to pass this to `pd.to_datetime`, it will fail"
   ]
  },
  {
   "cell_type": "code",
   "execution_count": 47,
   "metadata": {
    "execution": {
     "iopub.execute_input": "2020-11-03T15:03:50.194912Z",
     "iopub.status.busy": "2020-11-03T15:03:50.194797Z",
     "iopub.status.idle": "2020-11-03T15:03:50.261732Z",
     "shell.execute_reply": "2020-11-03T15:03:50.260199Z",
     "shell.execute_reply.started": "2020-11-03T15:03:50.194892Z"
    },
    "hide-output": false
   },
   "outputs": [
    {
     "data": {
      "text/plain": [
       "'\\npd.to_datetime(christmas_amzn)\\n'"
      ]
     },
     "execution_count": 47,
     "metadata": {},
     "output_type": "execute_result"
    }
   ],
   "source": [
    "# we knew that it was going to fail\n",
    "'''\n",
    "pd.to_datetime(christmas_amzn)\n",
    "'''"
   ]
  },
  {
   "cell_type": "markdown",
   "metadata": {
    "slideshow": {
     "slide_type": "subslide"
    }
   },
   "source": [
    "To parse a date with this format, we need to specify the `format`\n",
    "argument for `pd.to_datetime`"
   ]
  },
  {
   "cell_type": "code",
   "execution_count": 48,
   "metadata": {
    "execution": {
     "iopub.execute_input": "2020-11-03T15:04:01.438918Z",
     "iopub.status.busy": "2020-11-03T15:04:01.438595Z",
     "iopub.status.idle": "2020-11-03T15:04:01.445655Z",
     "shell.execute_reply": "2020-11-03T15:04:01.444984Z",
     "shell.execute_reply.started": "2020-11-03T15:04:01.438874Z"
    },
    "hide-output": false
   },
   "outputs": [
    {
     "data": {
      "text/plain": [
       "Timestamp('2020-12-25 00:00:00')"
      ]
     },
     "execution_count": 48,
     "metadata": {},
     "output_type": "execute_result"
    }
   ],
   "source": [
    "# now we pass the same argument as before, but we add the method format\n",
    "# amzn_strftime --> relates veery closely to christmas_amzn\n",
    "# see next\n",
    "\n",
    "amzn_strftime = \"%Y-%m-%dT%H:%M:%S+ 00 :00\"\n",
    "pd.to_datetime(christmas_amzn, format=amzn_strftime)"
   ]
  },
  {
   "cell_type": "markdown",
   "metadata": {},
   "source": [
    "Can you guess what `amzn_strftime` represents?"
   ]
  },
  {
   "cell_type": "markdown",
   "metadata": {
    "slideshow": {
     "slide_type": "subslide"
    }
   },
   "source": [
    "Let’s take a closer look at `amzn_strftime` and `christmas_amzn`"
   ]
  },
  {
   "cell_type": "code",
   "execution_count": 49,
   "metadata": {
    "execution": {
     "iopub.execute_input": "2020-11-03T15:04:02.402508Z",
     "iopub.status.busy": "2020-11-03T15:04:02.402187Z",
     "iopub.status.idle": "2020-11-03T15:04:02.406241Z",
     "shell.execute_reply": "2020-11-03T15:04:02.405635Z",
     "shell.execute_reply.started": "2020-11-03T15:04:02.402446Z"
    },
    "hide-output": false
   },
   "outputs": [
    {
     "name": "stdout",
     "output_type": "stream",
     "text": [
      "%Y-%m-%dT%H:%M:%S+ 00 :00\n",
      "2020-12-25T00:00:00+ 00 :00\n"
     ]
    }
   ],
   "source": [
    "print(amzn_strftime)\n",
    "print(christmas_amzn)\n",
    "\n",
    "#oveerall format structure is very similar\n",
    "# %Y--> 4 digits\n",
    "# %m--> 2 digits\n",
    "# %dT%H:%M:%S+ --> 25T00:00:00+"
   ]
  },
  {
   "cell_type": "markdown",
   "metadata": {
    "slideshow": {
     "slide_type": "-"
    }
   },
   "source": [
    "Notice that both of the strings have a similar form, but that instead of actual numerical values, `amzn_strftime` has *placeholders*\n",
    "\n",
    "Specifically, anywhere the `%` shows up is a signal to the `pd.to_datetime`\n",
    "function that it is where relevant information is stored\n",
    "\n",
    "For example, the `%Y` is a stand-in for a four digit year, `%m` is\n",
    "for 2 a digit month, and so on…"
   ]
  },
  {
   "cell_type": "markdown",
   "metadata": {
    "slideshow": {
     "slide_type": "subslide"
    }
   },
   "source": [
    "The official [Python\n",
    "documentation](https://docs.python.org/3/library/datetime.html#strftime-and-strptime-behavior) contains a complete list of possible `%`something patterns that are accepted\n",
    "in the `format` argument"
   ]
  },
  {
   "cell_type": "markdown",
   "metadata": {
    "slideshow": {
     "slide_type": "subslide"
    }
   },
   "source": [
    "<a id='exercise-0'></a>\n",
    "**Exercise 1**\n",
    "\n",
    "By referring to table found at the link above, figure out the correct argument to\n",
    "pass as `format` in order to parse the dates in the next three cells below.\n",
    "\n",
    "Test your work by passing your format string to `pd.to_datetime`."
   ]
  },
  {
   "cell_type": "code",
   "execution_count": 50,
   "metadata": {},
   "outputs": [
    {
     "data": {
      "text/plain": [
       "Timestamp('2020-12-25 00:00:00')"
      ]
     },
     "execution_count": 50,
     "metadata": {},
     "output_type": "execute_result"
    }
   ],
   "source": [
    "christmas_str2 = \"2020:12:25\"\n",
    "christmas_str2_strftime = \"%Y:%m:%d\"\n",
    "pd.to_datetime(christmas_str2,  format=christmas_str2_strftime)\n"
   ]
  },
  {
   "cell_type": "code",
   "execution_count": 51,
   "metadata": {},
   "outputs": [
    {
     "data": {
      "text/plain": [
       "'M:11 D:4 Y:2001 9:15 PM'"
      ]
     },
     "execution_count": 51,
     "metadata": {},
     "output_type": "execute_result"
    }
   ],
   "source": [
    "dbacks_win = \"M:11 D:4 Y:2001 9:15 PM\"\n",
    "dbacks_win_strftime = \"%m-%d-%Y-%H:%M-%p\"  \n",
    "pd.to_datetime(dbacks_win,  format=dbacks_win_strftime, errors='ignore')\n"
   ]
  },
  {
   "cell_type": "code",
   "execution_count": 52,
   "metadata": {
    "execution": {
     "iopub.execute_input": "2020-11-03T15:04:03.487985Z",
     "iopub.status.busy": "2020-11-03T15:04:03.487672Z",
     "iopub.status.idle": "2020-11-03T15:04:03.491166Z",
     "shell.execute_reply": "2020-11-03T15:04:03.490559Z",
     "shell.execute_reply.started": "2020-11-03T15:04:03.487942Z"
    },
    "hide-output": false
   },
   "outputs": [
    {
     "name": "stdout",
     "output_type": "stream",
     "text": [
      "America was born on July 4, 1776\n"
     ]
    }
   ],
   "source": [
    "america_bday = \"July 4, 1776\"\n",
    "america_bday_strftime = \"%B %d, %Y\"\n",
    "print(\"America was born on \" + pd.to_datetime(america_bday,  format=\"%B-%d-%Y\", errors='ignore'))"
   ]
  },
  {
   "cell_type": "markdown",
   "metadata": {
    "slideshow": {
     "slide_type": "subslide"
    }
   },
   "source": [
    "### Multiple Dates\n",
    "\n",
    "`pd.to_datetime` can convert a collection (e.g. list, tuple, Series) of date strings to dates in one go\n"
   ]
  },
  {
   "cell_type": "code",
   "execution_count": 53,
   "metadata": {
    "execution": {
     "iopub.execute_input": "2020-11-03T15:04:03.801679Z",
     "iopub.status.busy": "2020-11-03T15:04:03.801430Z",
     "iopub.status.idle": "2020-11-03T15:04:03.807852Z",
     "shell.execute_reply": "2020-11-03T15:04:03.807311Z",
     "shell.execute_reply.started": "2020-11-03T15:04:03.801643Z"
    },
    "hide-output": false
   },
   "outputs": [
    {
     "data": {
      "text/plain": [
       "DatetimeIndex(['2020-12-25', '2020-12-31'], dtype='datetime64[ns]', freq=None)"
      ]
     },
     "execution_count": 53,
     "metadata": {},
     "output_type": "execute_result"
    }
   ],
   "source": [
    "pd.to_datetime([\"2020-12-25\", \"2020-12-31\"])"
   ]
  },
  {
   "cell_type": "code",
   "execution_count": 54,
   "metadata": {},
   "outputs": [],
   "source": [
    "### pd.date_range\n",
    "\n",
    "# pd.date_range(START, END, freq=\"\") \n"
   ]
  },
  {
   "cell_type": "code",
   "execution_count": 55,
   "metadata": {},
   "outputs": [
    {
     "data": {
      "text/plain": [
       "DatetimeIndex(['2020-12-31', '2021-12-31', '2022-12-31', '2023-12-31',\n",
       "               '2024-12-31'],\n",
       "              dtype='datetime64[ns]', freq='A-DEC')"
      ]
     },
     "execution_count": 55,
     "metadata": {},
     "output_type": "execute_result"
    }
   ],
   "source": [
    "pd.date_range(\"2020-12-25\", \"2024-12-31\", freq=\"A\") \n",
    "\n",
    "# START, END, A=YEAR"
   ]
  },
  {
   "cell_type": "code",
   "execution_count": 56,
   "metadata": {},
   "outputs": [
    {
     "data": {
      "text/plain": [
       "DatetimeIndex(['2020-12-25', '2020-12-26', '2020-12-27', '2020-12-28',\n",
       "               '2020-12-29', '2020-12-30', '2020-12-31', '2021-01-01',\n",
       "               '2021-01-02', '2021-01-03',\n",
       "               ...\n",
       "               '2021-12-22', '2021-12-23', '2021-12-24', '2021-12-25',\n",
       "               '2021-12-26', '2021-12-27', '2021-12-28', '2021-12-29',\n",
       "               '2021-12-30', '2021-12-31'],\n",
       "              dtype='datetime64[ns]', length=372, freq='D')"
      ]
     },
     "execution_count": 56,
     "metadata": {},
     "output_type": "execute_result"
    }
   ],
   "source": [
    "pd.date_range(\"2020-12-25\", \"2021-12-31\")\n",
    "\n",
    "# default daily"
   ]
  },
  {
   "cell_type": "code",
   "execution_count": 57,
   "metadata": {},
   "outputs": [
    {
     "data": {
      "text/plain": [
       "DatetimeIndex(['2020-04-01 00:00:00', '2020-04-01 01:00:00',\n",
       "               '2020-04-01 02:00:00', '2020-04-01 03:00:00',\n",
       "               '2020-04-01 04:00:00', '2020-04-01 05:00:00',\n",
       "               '2020-04-01 06:00:00', '2020-04-01 07:00:00',\n",
       "               '2020-04-01 08:00:00', '2020-04-01 09:00:00',\n",
       "               '2020-04-01 10:00:00', '2020-04-01 11:00:00',\n",
       "               '2020-04-01 12:00:00', '2020-04-01 13:00:00',\n",
       "               '2020-04-01 14:00:00', '2020-04-01 15:00:00',\n",
       "               '2020-04-01 16:00:00', '2020-04-01 17:00:00',\n",
       "               '2020-04-01 18:00:00', '2020-04-01 19:00:00',\n",
       "               '2020-04-01 20:00:00', '2020-04-01 21:00:00',\n",
       "               '2020-04-01 22:00:00', '2020-04-01 23:00:00',\n",
       "               '2020-04-02 00:00:00'],\n",
       "              dtype='datetime64[ns]', freq='H')"
      ]
     },
     "execution_count": 57,
     "metadata": {},
     "output_type": "execute_result"
    }
   ],
   "source": [
    "pd.date_range(\"2020-04-01\", periods=25, freq=\"H\")\n",
    "\n",
    "# hourly frequency\n"
   ]
  },
  {
   "cell_type": "code",
   "execution_count": 58,
   "metadata": {},
   "outputs": [
    {
     "data": {
      "text/plain": [
       "DatetimeIndex(['2020-04-30', '2020-05-31', '2020-06-30', '2020-07-31',\n",
       "               '2020-08-31', '2020-09-30', '2020-10-31', '2020-11-30',\n",
       "               '2020-12-31', '2021-01-31', '2021-02-28', '2021-03-31',\n",
       "               '2021-04-30', '2021-05-31', '2021-06-30', '2021-07-31',\n",
       "               '2021-08-31', '2021-09-30', '2021-10-31', '2021-11-30',\n",
       "               '2021-12-31', '2022-01-31', '2022-02-28', '2022-03-31',\n",
       "               '2022-04-30'],\n",
       "              dtype='datetime64[ns]', freq='M')"
      ]
     },
     "execution_count": 58,
     "metadata": {},
     "output_type": "execute_result"
    }
   ],
   "source": [
    "pd.date_range(\"2020-04-01\", periods=25, freq=\"m\")\n"
   ]
  },
  {
   "cell_type": "code",
   "execution_count": 59,
   "metadata": {},
   "outputs": [],
   "source": [
    "### OFFSET ALIASES "
   ]
  },
  {
   "cell_type": "code",
   "execution_count": 60,
   "metadata": {},
   "outputs": [],
   "source": [
    "### TIME DELTA"
   ]
  },
  {
   "cell_type": "code",
   "execution_count": 61,
   "metadata": {},
   "outputs": [
    {
     "name": "stdout",
     "output_type": "stream",
     "text": [
      "diff is type <class 'pandas._libs.tslibs.timedeltas.Timedelta'>\n"
     ]
    },
    {
     "data": {
      "text/plain": [
       "Timedelta('359 days 00:00:00')"
      ]
     },
     "execution_count": 61,
     "metadata": {},
     "output_type": "execute_result"
    }
   ],
   "source": [
    "new_year = pd.to_datetime(\"2020-01-01\")\n",
    "diff = christmas - new_year\n",
    "print(\"diff is type\", type(diff))\n",
    "diff"
   ]
  },
  {
   "cell_type": "code",
   "execution_count": 62,
   "metadata": {},
   "outputs": [
    {
     "data": {
      "text/plain": [
       "0"
      ]
     },
     "execution_count": 62,
     "metadata": {},
     "output_type": "execute_result"
    }
   ],
   "source": [
    "diff.seconds"
   ]
  },
  {
   "cell_type": "code",
   "execution_count": 63,
   "metadata": {},
   "outputs": [
    {
     "data": {
      "text/plain": [
       "359"
      ]
     },
     "execution_count": 63,
     "metadata": {},
     "output_type": "execute_result"
    }
   ],
   "source": [
    "diff.days"
   ]
  },
  {
   "cell_type": "code",
   "execution_count": 64,
   "metadata": {},
   "outputs": [
    {
     "data": {
      "text/plain": [
       "3590"
      ]
     },
     "execution_count": 64,
     "metadata": {},
     "output_type": "execute_result"
    }
   ],
   "source": [
    "diff.days*10"
   ]
  },
  {
   "cell_type": "code",
   "execution_count": 65,
   "metadata": {},
   "outputs": [],
   "source": [
    "# if a time delta object is added "
   ]
  },
  {
   "cell_type": "code",
   "execution_count": 66,
   "metadata": {},
   "outputs": [
    {
     "data": {
      "text/plain": [
       "Timedelta('1 days 01:00:00')"
      ]
     },
     "execution_count": 66,
     "metadata": {},
     "output_type": "execute_result"
    }
   ],
   "source": [
    "oneday = pd.Timedelta(days=1)\n",
    "onehour = pd.Timedelta(hours=1)\n",
    "oneday + onehour"
   ]
  },
  {
   "cell_type": "code",
   "execution_count": 67,
   "metadata": {},
   "outputs": [
    {
     "data": {
      "text/plain": [
       "Timestamp('2021-12-25 00:00:00')"
      ]
     },
     "execution_count": 67,
     "metadata": {},
     "output_type": "execute_result"
    }
   ],
   "source": [
    "christmas + 365*oneday"
   ]
  },
  {
   "cell_type": "markdown",
   "metadata": {},
   "source": [
    "We'll just do the one example b/c everything for one date applies to a collection of dates "
   ]
  },
  {
   "cell_type": "markdown",
   "metadata": {
    "slideshow": {
     "slide_type": "slide"
    }
   },
   "source": [
    "## Date Formatting\n",
    "\n",
    "We can use the `%`pattern format to have pandas write `datetime`\n",
    "objects as specially formatted strings using the `strftime` (string\n",
    "format time) method\n",
    "\n",
    "For example,"
   ]
  },
  {
   "cell_type": "code",
   "execution_count": 68,
   "metadata": {
    "execution": {
     "iopub.execute_input": "2020-11-03T15:04:04.334081Z",
     "iopub.status.busy": "2020-11-03T15:04:04.333768Z",
     "iopub.status.idle": "2020-11-03T15:04:04.338132Z",
     "shell.execute_reply": "2020-11-03T15:04:04.337608Z",
     "shell.execute_reply.started": "2020-11-03T15:04:04.334041Z"
    },
    "hide-output": false
   },
   "outputs": [
    {
     "data": {
      "text/plain": [
       "'We love Friday December 25 (also written Fri Dec 25 00:00:00 2020)'"
      ]
     },
     "execution_count": 68,
     "metadata": {},
     "output_type": "execute_result"
    }
   ],
   "source": [
    "christmas.strftime(\"We love %A %B %d (also written %c)\")\n",
    "\n",
    "# there is a documentation with all the codes"
   ]
  },
  {
   "cell_type": "markdown",
   "metadata": {
    "slideshow": {
     "slide_type": "subslide"
    }
   },
   "source": [
    "\n",
    "<a id='exercise-1'></a>\n",
    "**Exercise 2**\n",
    "\n",
    "Use `pd.to_datetime` to express the birthday of one of your friends\n",
    "or family members as a `datetime` object.\n",
    "\n",
    "Then use the `strftime` method to write a message of the format:"
   ]
  },
  {
   "cell_type": "code",
   "execution_count": 112,
   "metadata": {
    "hide-output": false
   },
   "outputs": [
    {
     "ename": "TypeError",
     "evalue": "can only concatenate str (not \"Timestamp\") to str",
     "output_type": "error",
     "traceback": [
      "\u001b[0;31m---------------------------------------------------------------------------\u001b[0m",
      "\u001b[0;31mTypeError\u001b[0m                                 Traceback (most recent call last)",
      "\u001b[0;32m<ipython-input-112-c000c41dd5d1>\u001b[0m in \u001b[0;36m<module>\u001b[0;34m\u001b[0m\n\u001b[1;32m      3\u001b[0m \u001b[0mbirthday_strftime\u001b[0m \u001b[0;34m=\u001b[0m \u001b[0;34m\"%m %d %Y\"\u001b[0m\u001b[0;34m\u001b[0m\u001b[0;34m\u001b[0m\u001b[0m\n\u001b[1;32m      4\u001b[0m \u001b[0;31m# pd.to_datetime(birthday,  format=birthday_strftime)\u001b[0m\u001b[0;34m\u001b[0m\u001b[0;34m\u001b[0m\u001b[0;34m\u001b[0m\u001b[0m\n\u001b[0;32m----> 5\u001b[0;31m \u001b[0mprint\u001b[0m\u001b[0;34m(\u001b[0m\u001b[0;34m\"Fabrizio's birthday is \"\u001b[0m \u001b[0;34m+\u001b[0m \u001b[0mpd\u001b[0m\u001b[0;34m.\u001b[0m\u001b[0mto_datetime\u001b[0m\u001b[0;34m(\u001b[0m\u001b[0mbirthday\u001b[0m\u001b[0;34m,\u001b[0m \u001b[0mformat\u001b[0m\u001b[0;34m=\u001b[0m\u001b[0mbirthday_strftime\u001b[0m\u001b[0;34m,\u001b[0m \u001b[0merrors\u001b[0m\u001b[0;34m=\u001b[0m\u001b[0;34m'ignore'\u001b[0m\u001b[0;34m)\u001b[0m\u001b[0;34m)\u001b[0m\u001b[0;34m\u001b[0m\u001b[0;34m\u001b[0m\u001b[0m\n\u001b[0m\u001b[1;32m      6\u001b[0m \u001b[0;31m# birthday.strftime(\"Fabrizio's birthday is %B %d %Y (a a% A%)\")\u001b[0m\u001b[0;34m\u001b[0m\u001b[0;34m\u001b[0m\u001b[0;34m\u001b[0m\u001b[0m\n",
      "\u001b[0;31mTypeError\u001b[0m: can only concatenate str (not \"Timestamp\") to str"
     ]
    }
   ],
   "source": [
    "# NAME's birthday is June 10, 1989 (a Saturday)\\\n",
    "birthday = \"12 13 1997\"\n",
    "birthday_strftime = \"%m %d %Y\"\n",
    "# pd.to_datetime(birthday,  format=birthday_strftime)\n",
    "print(\"Fabrizio's birthday is \" + pd.to_datetime(birthday, format=birthday_strftime, errors='ignore'))\n",
    "# birthday.strftime(\"Fabrizio's birthday is %B %d %Y (a a% A%)\")\n"
   ]
  },
  {
   "cell_type": "markdown",
   "metadata": {},
   "source": [
    "(where the name and date are replaced by the appropriate values)"
   ]
  },
  {
   "cell_type": "markdown",
   "metadata": {
    "slideshow": {
     "slide_type": "slide"
    }
   },
   "source": [
    "## Extracting Data\n",
    "\n",
    "Pandas is aware of when DataFrames or Series have dates on the index\n",
    "\n",
    "In these cases it uses a special `DateTimeIndex` for the index\n",
    "\n",
    "The special index comes with many convenient data access features\n",
    "\n",
    "We will explore these now"
   ]
  },
  {
   "cell_type": "markdown",
   "metadata": {
    "slideshow": {
     "slide_type": "subslide"
    }
   },
   "source": [
    "It's easiest to understand how they work by example, so we'll lload in some real world data:"
   ]
  },
  {
   "cell_type": "code",
   "execution_count": 70,
   "metadata": {
    "execution": {
     "iopub.execute_input": "2020-11-03T15:04:05.631582Z",
     "iopub.status.busy": "2020-11-03T15:04:05.631264Z",
     "iopub.status.idle": "2020-11-03T15:04:06.434325Z",
     "shell.execute_reply": "2020-11-03T15:04:06.433489Z",
     "shell.execute_reply.started": "2020-11-03T15:04:05.631540Z"
    },
    "hide-output": false
   },
   "outputs": [
    {
     "name": "stdout",
     "output_type": "stream",
     "text": [
      "<class 'pandas.core.frame.DataFrame'>\n",
      "DatetimeIndex: 2599 entries, 2014-05-01 to 2021-06-20\n",
      "Data columns (total 7 columns):\n",
      " #   Column             Non-Null Count  Dtype  \n",
      "---  ------             --------------  -----  \n",
      " 0   Open               2599 non-null   float64\n",
      " 1   High               2599 non-null   float64\n",
      " 2   Low                2599 non-null   float64\n",
      " 3   Close              2599 non-null   float64\n",
      " 4   Volume (BTC)       2599 non-null   float64\n",
      " 5   Volume (Currency)  2599 non-null   float64\n",
      " 6   Weighted Price     2599 non-null   float64\n",
      "dtypes: float64(7)\n",
      "memory usage: 162.4 KB\n"
     ]
    },
    {
     "data": {
      "text/html": [
       "<div>\n",
       "<style scoped>\n",
       "    .dataframe tbody tr th:only-of-type {\n",
       "        vertical-align: middle;\n",
       "    }\n",
       "\n",
       "    .dataframe tbody tr th {\n",
       "        vertical-align: top;\n",
       "    }\n",
       "\n",
       "    .dataframe thead th {\n",
       "        text-align: right;\n",
       "    }\n",
       "</style>\n",
       "<table border=\"1\" class=\"dataframe\">\n",
       "  <thead>\n",
       "    <tr style=\"text-align: right;\">\n",
       "      <th></th>\n",
       "      <th>Open</th>\n",
       "      <th>High</th>\n",
       "      <th>Low</th>\n",
       "      <th>Close</th>\n",
       "      <th>Volume (BTC)</th>\n",
       "      <th>Volume (Currency)</th>\n",
       "      <th>Weighted Price</th>\n",
       "    </tr>\n",
       "    <tr>\n",
       "      <th>Date</th>\n",
       "      <th></th>\n",
       "      <th></th>\n",
       "      <th></th>\n",
       "      <th></th>\n",
       "      <th></th>\n",
       "      <th></th>\n",
       "      <th></th>\n",
       "    </tr>\n",
       "  </thead>\n",
       "  <tbody>\n",
       "    <tr>\n",
       "      <th>2014-05-01</th>\n",
       "      <td>449.00</td>\n",
       "      <td>465.88</td>\n",
       "      <td>447.97</td>\n",
       "      <td>460.97</td>\n",
       "      <td>9556.037886</td>\n",
       "      <td>4.381969e+06</td>\n",
       "      <td>458.554960</td>\n",
       "    </tr>\n",
       "    <tr>\n",
       "      <th>2014-05-02</th>\n",
       "      <td>460.97</td>\n",
       "      <td>462.99</td>\n",
       "      <td>444.51</td>\n",
       "      <td>454.50</td>\n",
       "      <td>8269.891417</td>\n",
       "      <td>3.731061e+06</td>\n",
       "      <td>451.162018</td>\n",
       "    </tr>\n",
       "    <tr>\n",
       "      <th>2014-05-03</th>\n",
       "      <td>452.00</td>\n",
       "      <td>454.50</td>\n",
       "      <td>431.00</td>\n",
       "      <td>439.00</td>\n",
       "      <td>7431.626480</td>\n",
       "      <td>3.271086e+06</td>\n",
       "      <td>440.157544</td>\n",
       "    </tr>\n",
       "    <tr>\n",
       "      <th>2014-05-04</th>\n",
       "      <td>439.00</td>\n",
       "      <td>442.83</td>\n",
       "      <td>429.55</td>\n",
       "      <td>438.04</td>\n",
       "      <td>5154.407794</td>\n",
       "      <td>2.245293e+06</td>\n",
       "      <td>435.606483</td>\n",
       "    </tr>\n",
       "    <tr>\n",
       "      <th>2014-05-05</th>\n",
       "      <td>435.88</td>\n",
       "      <td>445.00</td>\n",
       "      <td>425.00</td>\n",
       "      <td>433.00</td>\n",
       "      <td>8188.082795</td>\n",
       "      <td>3.547855e+06</td>\n",
       "      <td>433.294968</td>\n",
       "    </tr>\n",
       "  </tbody>\n",
       "</table>\n",
       "</div>"
      ],
      "text/plain": [
       "              Open    High     Low   Close  Volume (BTC)  Volume (Currency)  \\\n",
       "Date                                                                          \n",
       "2014-05-01  449.00  465.88  447.97  460.97   9556.037886       4.381969e+06   \n",
       "2014-05-02  460.97  462.99  444.51  454.50   8269.891417       3.731061e+06   \n",
       "2014-05-03  452.00  454.50  431.00  439.00   7431.626480       3.271086e+06   \n",
       "2014-05-04  439.00  442.83  429.55  438.04   5154.407794       2.245293e+06   \n",
       "2014-05-05  435.88  445.00  425.00  433.00   8188.082795       3.547855e+06   \n",
       "\n",
       "            Weighted Price  \n",
       "Date                        \n",
       "2014-05-01      458.554960  \n",
       "2014-05-02      451.162018  \n",
       "2014-05-03      440.157544  \n",
       "2014-05-04      435.606483  \n",
       "2014-05-05      433.294968  "
      ]
     },
     "execution_count": 70,
     "metadata": {},
     "output_type": "execute_result"
    }
   ],
   "source": [
    "btc_usd = quandl.get(\"BCHARTS/BITSTAMPUSD\", start_date=start_date)\n",
    "btc_usd.info()\n",
    "btc_usd.head()\n",
    "\n",
    "# we can see the DatetimeIndex and there are 2599 rows\n",
    "# the dates START and END\n",
    "# Open = first transaction price\n",
    "# close = last transaction price\n",
    "# high = highest transaction price\n",
    "\n",
    "# we have all the dates on the index"
   ]
  },
  {
   "cell_type": "markdown",
   "metadata": {},
   "source": [
    "Here, we have the Bitcoin (BTC) to US dollar (USD) exchange rate from\n",
    "March 2014 until today.\n",
    "\n",
    "Notice that the type of index is `DateTimeIndex`.\n",
    "\n",
    "This is the key that enables things like…"
   ]
  },
  {
   "cell_type": "markdown",
   "metadata": {
    "slideshow": {
     "slide_type": "subslide"
    }
   },
   "source": [
    "Extracting all data for the year 2015 by passing `\"2015\"` to `.loc`."
   ]
  },
  {
   "cell_type": "code",
   "execution_count": 71,
   "metadata": {
    "execution": {
     "iopub.execute_input": "2020-11-03T15:04:06.435232Z",
     "iopub.status.busy": "2020-11-03T15:04:06.435102Z",
     "iopub.status.idle": "2020-11-03T15:04:06.447076Z",
     "shell.execute_reply": "2020-11-03T15:04:06.446439Z",
     "shell.execute_reply.started": "2020-11-03T15:04:06.435209Z"
    },
    "hide-output": false
   },
   "outputs": [
    {
     "data": {
      "text/html": [
       "<div>\n",
       "<style scoped>\n",
       "    .dataframe tbody tr th:only-of-type {\n",
       "        vertical-align: middle;\n",
       "    }\n",
       "\n",
       "    .dataframe tbody tr th {\n",
       "        vertical-align: top;\n",
       "    }\n",
       "\n",
       "    .dataframe thead th {\n",
       "        text-align: right;\n",
       "    }\n",
       "</style>\n",
       "<table border=\"1\" class=\"dataframe\">\n",
       "  <thead>\n",
       "    <tr style=\"text-align: right;\">\n",
       "      <th></th>\n",
       "      <th>Open</th>\n",
       "      <th>High</th>\n",
       "      <th>Low</th>\n",
       "      <th>Close</th>\n",
       "      <th>Volume (BTC)</th>\n",
       "      <th>Volume (Currency)</th>\n",
       "      <th>Weighted Price</th>\n",
       "    </tr>\n",
       "    <tr>\n",
       "      <th>Date</th>\n",
       "      <th></th>\n",
       "      <th></th>\n",
       "      <th></th>\n",
       "      <th></th>\n",
       "      <th></th>\n",
       "      <th></th>\n",
       "      <th></th>\n",
       "    </tr>\n",
       "  </thead>\n",
       "  <tbody>\n",
       "    <tr>\n",
       "      <th>2015-01-01</th>\n",
       "      <td>321.00</td>\n",
       "      <td>321.00</td>\n",
       "      <td>312.60</td>\n",
       "      <td>313.81</td>\n",
       "      <td>3087.436554</td>\n",
       "      <td>9.745096e+05</td>\n",
       "      <td>315.637119</td>\n",
       "    </tr>\n",
       "    <tr>\n",
       "      <th>2015-01-02</th>\n",
       "      <td>313.82</td>\n",
       "      <td>317.01</td>\n",
       "      <td>311.96</td>\n",
       "      <td>315.42</td>\n",
       "      <td>3468.281375</td>\n",
       "      <td>1.092446e+06</td>\n",
       "      <td>314.981849</td>\n",
       "    </tr>\n",
       "    <tr>\n",
       "      <th>2015-01-03</th>\n",
       "      <td>315.42</td>\n",
       "      <td>316.58</td>\n",
       "      <td>280.00</td>\n",
       "      <td>282.00</td>\n",
       "      <td>21752.719146</td>\n",
       "      <td>6.475952e+06</td>\n",
       "      <td>297.707695</td>\n",
       "    </tr>\n",
       "    <tr>\n",
       "      <th>2015-01-04</th>\n",
       "      <td>280.00</td>\n",
       "      <td>289.39</td>\n",
       "      <td>255.00</td>\n",
       "      <td>264.00</td>\n",
       "      <td>41441.278553</td>\n",
       "      <td>1.126676e+07</td>\n",
       "      <td>271.872950</td>\n",
       "    </tr>\n",
       "    <tr>\n",
       "      <th>2015-01-05</th>\n",
       "      <td>264.55</td>\n",
       "      <td>280.00</td>\n",
       "      <td>264.07</td>\n",
       "      <td>276.80</td>\n",
       "      <td>9528.271002</td>\n",
       "      <td>2.596898e+06</td>\n",
       "      <td>272.546601</td>\n",
       "    </tr>\n",
       "    <tr>\n",
       "      <th>...</th>\n",
       "      <td>...</td>\n",
       "      <td>...</td>\n",
       "      <td>...</td>\n",
       "      <td>...</td>\n",
       "      <td>...</td>\n",
       "      <td>...</td>\n",
       "      <td>...</td>\n",
       "    </tr>\n",
       "    <tr>\n",
       "      <th>2015-12-27</th>\n",
       "      <td>417.11</td>\n",
       "      <td>425.42</td>\n",
       "      <td>410.50</td>\n",
       "      <td>421.76</td>\n",
       "      <td>6968.573659</td>\n",
       "      <td>2.921475e+06</td>\n",
       "      <td>419.235752</td>\n",
       "    </tr>\n",
       "    <tr>\n",
       "      <th>2015-12-28</th>\n",
       "      <td>421.78</td>\n",
       "      <td>429.86</td>\n",
       "      <td>417.01</td>\n",
       "      <td>421.46</td>\n",
       "      <td>7560.562992</td>\n",
       "      <td>3.204102e+06</td>\n",
       "      <td>423.791428</td>\n",
       "    </tr>\n",
       "    <tr>\n",
       "      <th>2015-12-29</th>\n",
       "      <td>420.81</td>\n",
       "      <td>433.33</td>\n",
       "      <td>418.55</td>\n",
       "      <td>431.82</td>\n",
       "      <td>10419.585366</td>\n",
       "      <td>4.444308e+06</td>\n",
       "      <td>426.534057</td>\n",
       "    </tr>\n",
       "    <tr>\n",
       "      <th>2015-12-30</th>\n",
       "      <td>431.70</td>\n",
       "      <td>434.97</td>\n",
       "      <td>420.75</td>\n",
       "      <td>425.84</td>\n",
       "      <td>7717.510263</td>\n",
       "      <td>3.315825e+06</td>\n",
       "      <td>429.649630</td>\n",
       "    </tr>\n",
       "    <tr>\n",
       "      <th>2015-12-31</th>\n",
       "      <td>426.09</td>\n",
       "      <td>433.89</td>\n",
       "      <td>419.99</td>\n",
       "      <td>430.89</td>\n",
       "      <td>6634.863167</td>\n",
       "      <td>2.833320e+06</td>\n",
       "      <td>427.035137</td>\n",
       "    </tr>\n",
       "  </tbody>\n",
       "</table>\n",
       "<p>365 rows × 7 columns</p>\n",
       "</div>"
      ],
      "text/plain": [
       "              Open    High     Low   Close  Volume (BTC)  Volume (Currency)  \\\n",
       "Date                                                                          \n",
       "2015-01-01  321.00  321.00  312.60  313.81   3087.436554       9.745096e+05   \n",
       "2015-01-02  313.82  317.01  311.96  315.42   3468.281375       1.092446e+06   \n",
       "2015-01-03  315.42  316.58  280.00  282.00  21752.719146       6.475952e+06   \n",
       "2015-01-04  280.00  289.39  255.00  264.00  41441.278553       1.126676e+07   \n",
       "2015-01-05  264.55  280.00  264.07  276.80   9528.271002       2.596898e+06   \n",
       "...            ...     ...     ...     ...           ...                ...   \n",
       "2015-12-27  417.11  425.42  410.50  421.76   6968.573659       2.921475e+06   \n",
       "2015-12-28  421.78  429.86  417.01  421.46   7560.562992       3.204102e+06   \n",
       "2015-12-29  420.81  433.33  418.55  431.82  10419.585366       4.444308e+06   \n",
       "2015-12-30  431.70  434.97  420.75  425.84   7717.510263       3.315825e+06   \n",
       "2015-12-31  426.09  433.89  419.99  430.89   6634.863167       2.833320e+06   \n",
       "\n",
       "            Weighted Price  \n",
       "Date                        \n",
       "2015-01-01      315.637119  \n",
       "2015-01-02      314.981849  \n",
       "2015-01-03      297.707695  \n",
       "2015-01-04      271.872950  \n",
       "2015-01-05      272.546601  \n",
       "...                    ...  \n",
       "2015-12-27      419.235752  \n",
       "2015-12-28      423.791428  \n",
       "2015-12-29      426.534057  \n",
       "2015-12-30      429.649630  \n",
       "2015-12-31      427.035137  \n",
       "\n",
       "[365 rows x 7 columns]"
      ]
     },
     "execution_count": 71,
     "metadata": {},
     "output_type": "execute_result"
    }
   ],
   "source": [
    "btc_usd.loc[\"2015\"]\n",
    "\n",
    "# if we want to extract information from 2015"
   ]
  },
  {
   "cell_type": "markdown",
   "metadata": {
    "slideshow": {
     "slide_type": "subslide"
    }
   },
   "source": [
    "We can also narrow down to specific months."
   ]
  },
  {
   "cell_type": "code",
   "execution_count": 72,
   "metadata": {
    "execution": {
     "iopub.execute_input": "2020-11-03T15:04:06.447972Z",
     "iopub.status.busy": "2020-11-03T15:04:06.447848Z",
     "iopub.status.idle": "2020-11-03T15:04:06.466242Z",
     "shell.execute_reply": "2020-11-03T15:04:06.465635Z",
     "shell.execute_reply.started": "2020-11-03T15:04:06.447950Z"
    },
    "hide-output": false
   },
   "outputs": [
    {
     "data": {
      "text/html": [
       "<div>\n",
       "<style scoped>\n",
       "    .dataframe tbody tr th:only-of-type {\n",
       "        vertical-align: middle;\n",
       "    }\n",
       "\n",
       "    .dataframe tbody tr th {\n",
       "        vertical-align: top;\n",
       "    }\n",
       "\n",
       "    .dataframe thead th {\n",
       "        text-align: right;\n",
       "    }\n",
       "</style>\n",
       "<table border=\"1\" class=\"dataframe\">\n",
       "  <thead>\n",
       "    <tr style=\"text-align: right;\">\n",
       "      <th></th>\n",
       "      <th>Open</th>\n",
       "      <th>High</th>\n",
       "      <th>Low</th>\n",
       "      <th>Close</th>\n",
       "      <th>Volume (BTC)</th>\n",
       "      <th>Volume (Currency)</th>\n",
       "      <th>Weighted Price</th>\n",
       "    </tr>\n",
       "    <tr>\n",
       "      <th>Date</th>\n",
       "      <th></th>\n",
       "      <th></th>\n",
       "      <th></th>\n",
       "      <th></th>\n",
       "      <th></th>\n",
       "      <th></th>\n",
       "      <th></th>\n",
       "    </tr>\n",
       "  </thead>\n",
       "  <tbody>\n",
       "    <tr>\n",
       "      <th>2017-08-01</th>\n",
       "      <td>2855.81</td>\n",
       "      <td>2929.17</td>\n",
       "      <td>2615.00</td>\n",
       "      <td>2731.00</td>\n",
       "      <td>12525.076691</td>\n",
       "      <td>3.432280e+07</td>\n",
       "      <td>2740.326259</td>\n",
       "    </tr>\n",
       "    <tr>\n",
       "      <th>2017-08-02</th>\n",
       "      <td>2732.00</td>\n",
       "      <td>2760.00</td>\n",
       "      <td>2650.00</td>\n",
       "      <td>2703.51</td>\n",
       "      <td>9486.625526</td>\n",
       "      <td>2.570111e+07</td>\n",
       "      <td>2709.193699</td>\n",
       "    </tr>\n",
       "    <tr>\n",
       "      <th>2017-08-03</th>\n",
       "      <td>2703.51</td>\n",
       "      <td>2807.44</td>\n",
       "      <td>2698.83</td>\n",
       "      <td>2793.37</td>\n",
       "      <td>7963.697999</td>\n",
       "      <td>2.193830e+07</td>\n",
       "      <td>2754.788542</td>\n",
       "    </tr>\n",
       "    <tr>\n",
       "      <th>2017-08-04</th>\n",
       "      <td>2793.34</td>\n",
       "      <td>2877.52</td>\n",
       "      <td>2765.91</td>\n",
       "      <td>2855.00</td>\n",
       "      <td>7635.821672</td>\n",
       "      <td>2.165009e+07</td>\n",
       "      <td>2835.331752</td>\n",
       "    </tr>\n",
       "    <tr>\n",
       "      <th>2017-08-05</th>\n",
       "      <td>2851.01</td>\n",
       "      <td>3339.66</td>\n",
       "      <td>2848.32</td>\n",
       "      <td>3263.62</td>\n",
       "      <td>16996.273101</td>\n",
       "      <td>5.386193e+07</td>\n",
       "      <td>3169.043337</td>\n",
       "    </tr>\n",
       "    <tr>\n",
       "      <th>2017-08-06</th>\n",
       "      <td>3263.51</td>\n",
       "      <td>3296.51</td>\n",
       "      <td>3146.10</td>\n",
       "      <td>3222.75</td>\n",
       "      <td>5998.735789</td>\n",
       "      <td>1.941266e+07</td>\n",
       "      <td>3236.124519</td>\n",
       "    </tr>\n",
       "    <tr>\n",
       "      <th>2017-08-07</th>\n",
       "      <td>3216.78</td>\n",
       "      <td>3430.00</td>\n",
       "      <td>3186.00</td>\n",
       "      <td>3387.55</td>\n",
       "      <td>12046.117265</td>\n",
       "      <td>4.022585e+07</td>\n",
       "      <td>3339.320971</td>\n",
       "    </tr>\n",
       "    <tr>\n",
       "      <th>2017-08-08</th>\n",
       "      <td>3387.54</td>\n",
       "      <td>3490.00</td>\n",
       "      <td>3300.00</td>\n",
       "      <td>3412.41</td>\n",
       "      <td>15835.370208</td>\n",
       "      <td>5.405482e+07</td>\n",
       "      <td>3413.549765</td>\n",
       "    </tr>\n",
       "    <tr>\n",
       "      <th>2017-08-09</th>\n",
       "      <td>3408.46</td>\n",
       "      <td>3423.10</td>\n",
       "      <td>3178.72</td>\n",
       "      <td>3342.99</td>\n",
       "      <td>14286.844138</td>\n",
       "      <td>4.735646e+07</td>\n",
       "      <td>3314.690350</td>\n",
       "    </tr>\n",
       "    <tr>\n",
       "      <th>2017-08-10</th>\n",
       "      <td>3342.99</td>\n",
       "      <td>3448.00</td>\n",
       "      <td>3311.17</td>\n",
       "      <td>3413.03</td>\n",
       "      <td>9031.121280</td>\n",
       "      <td>3.065844e+07</td>\n",
       "      <td>3394.754600</td>\n",
       "    </tr>\n",
       "    <tr>\n",
       "      <th>2017-08-11</th>\n",
       "      <td>3410.00</td>\n",
       "      <td>3705.00</td>\n",
       "      <td>3390.67</td>\n",
       "      <td>3645.06</td>\n",
       "      <td>11927.373334</td>\n",
       "      <td>4.188802e+07</td>\n",
       "      <td>3511.923462</td>\n",
       "    </tr>\n",
       "    <tr>\n",
       "      <th>2017-08-12</th>\n",
       "      <td>3651.74</td>\n",
       "      <td>3934.00</td>\n",
       "      <td>3586.95</td>\n",
       "      <td>3855.10</td>\n",
       "      <td>12351.074661</td>\n",
       "      <td>4.679980e+07</td>\n",
       "      <td>3789.127641</td>\n",
       "    </tr>\n",
       "    <tr>\n",
       "      <th>2017-08-13</th>\n",
       "      <td>3855.04</td>\n",
       "      <td>4190.00</td>\n",
       "      <td>3841.71</td>\n",
       "      <td>4053.87</td>\n",
       "      <td>15889.829788</td>\n",
       "      <td>6.367210e+07</td>\n",
       "      <td>4007.097892</td>\n",
       "    </tr>\n",
       "    <tr>\n",
       "      <th>2017-08-14</th>\n",
       "      <td>4053.87</td>\n",
       "      <td>4329.43</td>\n",
       "      <td>3964.96</td>\n",
       "      <td>4306.23</td>\n",
       "      <td>14212.304207</td>\n",
       "      <td>5.983600e+07</td>\n",
       "      <td>4210.154943</td>\n",
       "    </tr>\n",
       "    <tr>\n",
       "      <th>2017-08-15</th>\n",
       "      <td>4320.95</td>\n",
       "      <td>4400.00</td>\n",
       "      <td>3800.00</td>\n",
       "      <td>4155.67</td>\n",
       "      <td>25515.718014</td>\n",
       "      <td>1.046514e+08</td>\n",
       "      <td>4101.447155</td>\n",
       "    </tr>\n",
       "    <tr>\n",
       "      <th>2017-08-16</th>\n",
       "      <td>4154.99</td>\n",
       "      <td>4379.78</td>\n",
       "      <td>3926.06</td>\n",
       "      <td>4378.84</td>\n",
       "      <td>12923.637280</td>\n",
       "      <td>5.419433e+07</td>\n",
       "      <td>4193.426713</td>\n",
       "    </tr>\n",
       "    <tr>\n",
       "      <th>2017-08-17</th>\n",
       "      <td>4361.99</td>\n",
       "      <td>4480.00</td>\n",
       "      <td>4167.21</td>\n",
       "      <td>4276.50</td>\n",
       "      <td>14573.185929</td>\n",
       "      <td>6.322860e+07</td>\n",
       "      <td>4338.694675</td>\n",
       "    </tr>\n",
       "    <tr>\n",
       "      <th>2017-08-18</th>\n",
       "      <td>4260.47</td>\n",
       "      <td>4368.00</td>\n",
       "      <td>3964.96</td>\n",
       "      <td>4100.00</td>\n",
       "      <td>17516.993361</td>\n",
       "      <td>7.322403e+07</td>\n",
       "      <td>4180.171091</td>\n",
       "    </tr>\n",
       "    <tr>\n",
       "      <th>2017-08-19</th>\n",
       "      <td>4100.00</td>\n",
       "      <td>4188.00</td>\n",
       "      <td>3900.00</td>\n",
       "      <td>4099.55</td>\n",
       "      <td>15036.184051</td>\n",
       "      <td>6.060491e+07</td>\n",
       "      <td>4030.604133</td>\n",
       "    </tr>\n",
       "    <tr>\n",
       "      <th>2017-08-20</th>\n",
       "      <td>4091.99</td>\n",
       "      <td>4125.95</td>\n",
       "      <td>4000.00</td>\n",
       "      <td>4058.68</td>\n",
       "      <td>6237.972896</td>\n",
       "      <td>2.528964e+07</td>\n",
       "      <td>4054.143713</td>\n",
       "    </tr>\n",
       "    <tr>\n",
       "      <th>2017-08-21</th>\n",
       "      <td>4058.64</td>\n",
       "      <td>4080.00</td>\n",
       "      <td>3949.78</td>\n",
       "      <td>3987.52</td>\n",
       "      <td>9782.056594</td>\n",
       "      <td>3.920391e+07</td>\n",
       "      <td>4007.736878</td>\n",
       "    </tr>\n",
       "    <tr>\n",
       "      <th>2017-08-22</th>\n",
       "      <td>3987.51</td>\n",
       "      <td>4139.31</td>\n",
       "      <td>3600.00</td>\n",
       "      <td>4085.00</td>\n",
       "      <td>23522.758166</td>\n",
       "      <td>9.160033e+07</td>\n",
       "      <td>3894.115013</td>\n",
       "    </tr>\n",
       "    <tr>\n",
       "      <th>2017-08-23</th>\n",
       "      <td>4078.00</td>\n",
       "      <td>4248.97</td>\n",
       "      <td>4051.94</td>\n",
       "      <td>4108.12</td>\n",
       "      <td>14979.403481</td>\n",
       "      <td>6.211729e+07</td>\n",
       "      <td>4146.846811</td>\n",
       "    </tr>\n",
       "    <tr>\n",
       "      <th>2017-08-24</th>\n",
       "      <td>4121.78</td>\n",
       "      <td>4350.00</td>\n",
       "      <td>4082.57</td>\n",
       "      <td>4300.34</td>\n",
       "      <td>10782.694367</td>\n",
       "      <td>4.517407e+07</td>\n",
       "      <td>4189.497275</td>\n",
       "    </tr>\n",
       "    <tr>\n",
       "      <th>2017-08-25</th>\n",
       "      <td>4308.80</td>\n",
       "      <td>4449.98</td>\n",
       "      <td>4270.00</td>\n",
       "      <td>4355.98</td>\n",
       "      <td>9699.610034</td>\n",
       "      <td>4.227406e+07</td>\n",
       "      <td>4358.326082</td>\n",
       "    </tr>\n",
       "    <tr>\n",
       "      <th>2017-08-26</th>\n",
       "      <td>4348.17</td>\n",
       "      <td>4369.78</td>\n",
       "      <td>4232.43</td>\n",
       "      <td>4333.38</td>\n",
       "      <td>6559.668604</td>\n",
       "      <td>2.822792e+07</td>\n",
       "      <td>4303.253256</td>\n",
       "    </tr>\n",
       "    <tr>\n",
       "      <th>2017-08-27</th>\n",
       "      <td>4333.38</td>\n",
       "      <td>4393.30</td>\n",
       "      <td>4290.32</td>\n",
       "      <td>4337.68</td>\n",
       "      <td>3979.124453</td>\n",
       "      <td>1.726397e+07</td>\n",
       "      <td>4338.634650</td>\n",
       "    </tr>\n",
       "    <tr>\n",
       "      <th>2017-08-28</th>\n",
       "      <td>4329.91</td>\n",
       "      <td>4399.72</td>\n",
       "      <td>4169.01</td>\n",
       "      <td>4379.99</td>\n",
       "      <td>8641.002446</td>\n",
       "      <td>3.707720e+07</td>\n",
       "      <td>4290.845145</td>\n",
       "    </tr>\n",
       "    <tr>\n",
       "      <th>2017-08-29</th>\n",
       "      <td>4385.00</td>\n",
       "      <td>4649.78</td>\n",
       "      <td>4336.26</td>\n",
       "      <td>4578.82</td>\n",
       "      <td>11879.642831</td>\n",
       "      <td>5.349117e+07</td>\n",
       "      <td>4502.758977</td>\n",
       "    </tr>\n",
       "    <tr>\n",
       "      <th>2017-08-30</th>\n",
       "      <td>4578.82</td>\n",
       "      <td>4642.22</td>\n",
       "      <td>4479.00</td>\n",
       "      <td>4573.20</td>\n",
       "      <td>8720.035040</td>\n",
       "      <td>3.980054e+07</td>\n",
       "      <td>4564.263673</td>\n",
       "    </tr>\n",
       "    <tr>\n",
       "      <th>2017-08-31</th>\n",
       "      <td>4573.15</td>\n",
       "      <td>4765.21</td>\n",
       "      <td>4566.66</td>\n",
       "      <td>4734.26</td>\n",
       "      <td>8911.412459</td>\n",
       "      <td>4.172621e+07</td>\n",
       "      <td>4682.334106</td>\n",
       "    </tr>\n",
       "  </tbody>\n",
       "</table>\n",
       "</div>"
      ],
      "text/plain": [
       "               Open     High      Low    Close  Volume (BTC)  \\\n",
       "Date                                                           \n",
       "2017-08-01  2855.81  2929.17  2615.00  2731.00  12525.076691   \n",
       "2017-08-02  2732.00  2760.00  2650.00  2703.51   9486.625526   \n",
       "2017-08-03  2703.51  2807.44  2698.83  2793.37   7963.697999   \n",
       "2017-08-04  2793.34  2877.52  2765.91  2855.00   7635.821672   \n",
       "2017-08-05  2851.01  3339.66  2848.32  3263.62  16996.273101   \n",
       "2017-08-06  3263.51  3296.51  3146.10  3222.75   5998.735789   \n",
       "2017-08-07  3216.78  3430.00  3186.00  3387.55  12046.117265   \n",
       "2017-08-08  3387.54  3490.00  3300.00  3412.41  15835.370208   \n",
       "2017-08-09  3408.46  3423.10  3178.72  3342.99  14286.844138   \n",
       "2017-08-10  3342.99  3448.00  3311.17  3413.03   9031.121280   \n",
       "2017-08-11  3410.00  3705.00  3390.67  3645.06  11927.373334   \n",
       "2017-08-12  3651.74  3934.00  3586.95  3855.10  12351.074661   \n",
       "2017-08-13  3855.04  4190.00  3841.71  4053.87  15889.829788   \n",
       "2017-08-14  4053.87  4329.43  3964.96  4306.23  14212.304207   \n",
       "2017-08-15  4320.95  4400.00  3800.00  4155.67  25515.718014   \n",
       "2017-08-16  4154.99  4379.78  3926.06  4378.84  12923.637280   \n",
       "2017-08-17  4361.99  4480.00  4167.21  4276.50  14573.185929   \n",
       "2017-08-18  4260.47  4368.00  3964.96  4100.00  17516.993361   \n",
       "2017-08-19  4100.00  4188.00  3900.00  4099.55  15036.184051   \n",
       "2017-08-20  4091.99  4125.95  4000.00  4058.68   6237.972896   \n",
       "2017-08-21  4058.64  4080.00  3949.78  3987.52   9782.056594   \n",
       "2017-08-22  3987.51  4139.31  3600.00  4085.00  23522.758166   \n",
       "2017-08-23  4078.00  4248.97  4051.94  4108.12  14979.403481   \n",
       "2017-08-24  4121.78  4350.00  4082.57  4300.34  10782.694367   \n",
       "2017-08-25  4308.80  4449.98  4270.00  4355.98   9699.610034   \n",
       "2017-08-26  4348.17  4369.78  4232.43  4333.38   6559.668604   \n",
       "2017-08-27  4333.38  4393.30  4290.32  4337.68   3979.124453   \n",
       "2017-08-28  4329.91  4399.72  4169.01  4379.99   8641.002446   \n",
       "2017-08-29  4385.00  4649.78  4336.26  4578.82  11879.642831   \n",
       "2017-08-30  4578.82  4642.22  4479.00  4573.20   8720.035040   \n",
       "2017-08-31  4573.15  4765.21  4566.66  4734.26   8911.412459   \n",
       "\n",
       "            Volume (Currency)  Weighted Price  \n",
       "Date                                           \n",
       "2017-08-01       3.432280e+07     2740.326259  \n",
       "2017-08-02       2.570111e+07     2709.193699  \n",
       "2017-08-03       2.193830e+07     2754.788542  \n",
       "2017-08-04       2.165009e+07     2835.331752  \n",
       "2017-08-05       5.386193e+07     3169.043337  \n",
       "2017-08-06       1.941266e+07     3236.124519  \n",
       "2017-08-07       4.022585e+07     3339.320971  \n",
       "2017-08-08       5.405482e+07     3413.549765  \n",
       "2017-08-09       4.735646e+07     3314.690350  \n",
       "2017-08-10       3.065844e+07     3394.754600  \n",
       "2017-08-11       4.188802e+07     3511.923462  \n",
       "2017-08-12       4.679980e+07     3789.127641  \n",
       "2017-08-13       6.367210e+07     4007.097892  \n",
       "2017-08-14       5.983600e+07     4210.154943  \n",
       "2017-08-15       1.046514e+08     4101.447155  \n",
       "2017-08-16       5.419433e+07     4193.426713  \n",
       "2017-08-17       6.322860e+07     4338.694675  \n",
       "2017-08-18       7.322403e+07     4180.171091  \n",
       "2017-08-19       6.060491e+07     4030.604133  \n",
       "2017-08-20       2.528964e+07     4054.143713  \n",
       "2017-08-21       3.920391e+07     4007.736878  \n",
       "2017-08-22       9.160033e+07     3894.115013  \n",
       "2017-08-23       6.211729e+07     4146.846811  \n",
       "2017-08-24       4.517407e+07     4189.497275  \n",
       "2017-08-25       4.227406e+07     4358.326082  \n",
       "2017-08-26       2.822792e+07     4303.253256  \n",
       "2017-08-27       1.726397e+07     4338.634650  \n",
       "2017-08-28       3.707720e+07     4290.845145  \n",
       "2017-08-29       5.349117e+07     4502.758977  \n",
       "2017-08-30       3.980054e+07     4564.263673  \n",
       "2017-08-31       4.172621e+07     4682.334106  "
      ]
     },
     "execution_count": 72,
     "metadata": {},
     "output_type": "execute_result"
    }
   ],
   "source": [
    "# By month's name\n",
    "btc_usd.loc[\"August 2017\"]\n",
    "\n",
    "# [\"August 2017\"] allows us to specify other keys and labels"
   ]
  },
  {
   "cell_type": "code",
   "execution_count": 73,
   "metadata": {
    "execution": {
     "iopub.execute_input": "2020-11-03T15:04:06.617487Z",
     "iopub.status.busy": "2020-11-03T15:04:06.617199Z",
     "iopub.status.idle": "2020-11-03T15:04:06.631272Z",
     "shell.execute_reply": "2020-11-03T15:04:06.630612Z",
     "shell.execute_reply.started": "2020-11-03T15:04:06.617442Z"
    },
    "hide-output": false
   },
   "outputs": [
    {
     "data": {
      "text/html": [
       "<div>\n",
       "<style scoped>\n",
       "    .dataframe tbody tr th:only-of-type {\n",
       "        vertical-align: middle;\n",
       "    }\n",
       "\n",
       "    .dataframe tbody tr th {\n",
       "        vertical-align: top;\n",
       "    }\n",
       "\n",
       "    .dataframe thead th {\n",
       "        text-align: right;\n",
       "    }\n",
       "</style>\n",
       "<table border=\"1\" class=\"dataframe\">\n",
       "  <thead>\n",
       "    <tr style=\"text-align: right;\">\n",
       "      <th></th>\n",
       "      <th>Open</th>\n",
       "      <th>High</th>\n",
       "      <th>Low</th>\n",
       "      <th>Close</th>\n",
       "      <th>Volume (BTC)</th>\n",
       "      <th>Volume (Currency)</th>\n",
       "      <th>Weighted Price</th>\n",
       "    </tr>\n",
       "    <tr>\n",
       "      <th>Date</th>\n",
       "      <th></th>\n",
       "      <th></th>\n",
       "      <th></th>\n",
       "      <th></th>\n",
       "      <th></th>\n",
       "      <th></th>\n",
       "      <th></th>\n",
       "    </tr>\n",
       "  </thead>\n",
       "  <tbody>\n",
       "    <tr>\n",
       "      <th>2017-08-01</th>\n",
       "      <td>2855.81</td>\n",
       "      <td>2929.17</td>\n",
       "      <td>2615.00</td>\n",
       "      <td>2731.00</td>\n",
       "      <td>12525.076691</td>\n",
       "      <td>3.432280e+07</td>\n",
       "      <td>2740.326259</td>\n",
       "    </tr>\n",
       "    <tr>\n",
       "      <th>2017-08-02</th>\n",
       "      <td>2732.00</td>\n",
       "      <td>2760.00</td>\n",
       "      <td>2650.00</td>\n",
       "      <td>2703.51</td>\n",
       "      <td>9486.625526</td>\n",
       "      <td>2.570111e+07</td>\n",
       "      <td>2709.193699</td>\n",
       "    </tr>\n",
       "    <tr>\n",
       "      <th>2017-08-03</th>\n",
       "      <td>2703.51</td>\n",
       "      <td>2807.44</td>\n",
       "      <td>2698.83</td>\n",
       "      <td>2793.37</td>\n",
       "      <td>7963.697999</td>\n",
       "      <td>2.193830e+07</td>\n",
       "      <td>2754.788542</td>\n",
       "    </tr>\n",
       "    <tr>\n",
       "      <th>2017-08-04</th>\n",
       "      <td>2793.34</td>\n",
       "      <td>2877.52</td>\n",
       "      <td>2765.91</td>\n",
       "      <td>2855.00</td>\n",
       "      <td>7635.821672</td>\n",
       "      <td>2.165009e+07</td>\n",
       "      <td>2835.331752</td>\n",
       "    </tr>\n",
       "    <tr>\n",
       "      <th>2017-08-05</th>\n",
       "      <td>2851.01</td>\n",
       "      <td>3339.66</td>\n",
       "      <td>2848.32</td>\n",
       "      <td>3263.62</td>\n",
       "      <td>16996.273101</td>\n",
       "      <td>5.386193e+07</td>\n",
       "      <td>3169.043337</td>\n",
       "    </tr>\n",
       "    <tr>\n",
       "      <th>2017-08-06</th>\n",
       "      <td>3263.51</td>\n",
       "      <td>3296.51</td>\n",
       "      <td>3146.10</td>\n",
       "      <td>3222.75</td>\n",
       "      <td>5998.735789</td>\n",
       "      <td>1.941266e+07</td>\n",
       "      <td>3236.124519</td>\n",
       "    </tr>\n",
       "    <tr>\n",
       "      <th>2017-08-07</th>\n",
       "      <td>3216.78</td>\n",
       "      <td>3430.00</td>\n",
       "      <td>3186.00</td>\n",
       "      <td>3387.55</td>\n",
       "      <td>12046.117265</td>\n",
       "      <td>4.022585e+07</td>\n",
       "      <td>3339.320971</td>\n",
       "    </tr>\n",
       "    <tr>\n",
       "      <th>2017-08-08</th>\n",
       "      <td>3387.54</td>\n",
       "      <td>3490.00</td>\n",
       "      <td>3300.00</td>\n",
       "      <td>3412.41</td>\n",
       "      <td>15835.370208</td>\n",
       "      <td>5.405482e+07</td>\n",
       "      <td>3413.549765</td>\n",
       "    </tr>\n",
       "    <tr>\n",
       "      <th>2017-08-09</th>\n",
       "      <td>3408.46</td>\n",
       "      <td>3423.10</td>\n",
       "      <td>3178.72</td>\n",
       "      <td>3342.99</td>\n",
       "      <td>14286.844138</td>\n",
       "      <td>4.735646e+07</td>\n",
       "      <td>3314.690350</td>\n",
       "    </tr>\n",
       "    <tr>\n",
       "      <th>2017-08-10</th>\n",
       "      <td>3342.99</td>\n",
       "      <td>3448.00</td>\n",
       "      <td>3311.17</td>\n",
       "      <td>3413.03</td>\n",
       "      <td>9031.121280</td>\n",
       "      <td>3.065844e+07</td>\n",
       "      <td>3394.754600</td>\n",
       "    </tr>\n",
       "    <tr>\n",
       "      <th>2017-08-11</th>\n",
       "      <td>3410.00</td>\n",
       "      <td>3705.00</td>\n",
       "      <td>3390.67</td>\n",
       "      <td>3645.06</td>\n",
       "      <td>11927.373334</td>\n",
       "      <td>4.188802e+07</td>\n",
       "      <td>3511.923462</td>\n",
       "    </tr>\n",
       "    <tr>\n",
       "      <th>2017-08-12</th>\n",
       "      <td>3651.74</td>\n",
       "      <td>3934.00</td>\n",
       "      <td>3586.95</td>\n",
       "      <td>3855.10</td>\n",
       "      <td>12351.074661</td>\n",
       "      <td>4.679980e+07</td>\n",
       "      <td>3789.127641</td>\n",
       "    </tr>\n",
       "    <tr>\n",
       "      <th>2017-08-13</th>\n",
       "      <td>3855.04</td>\n",
       "      <td>4190.00</td>\n",
       "      <td>3841.71</td>\n",
       "      <td>4053.87</td>\n",
       "      <td>15889.829788</td>\n",
       "      <td>6.367210e+07</td>\n",
       "      <td>4007.097892</td>\n",
       "    </tr>\n",
       "    <tr>\n",
       "      <th>2017-08-14</th>\n",
       "      <td>4053.87</td>\n",
       "      <td>4329.43</td>\n",
       "      <td>3964.96</td>\n",
       "      <td>4306.23</td>\n",
       "      <td>14212.304207</td>\n",
       "      <td>5.983600e+07</td>\n",
       "      <td>4210.154943</td>\n",
       "    </tr>\n",
       "    <tr>\n",
       "      <th>2017-08-15</th>\n",
       "      <td>4320.95</td>\n",
       "      <td>4400.00</td>\n",
       "      <td>3800.00</td>\n",
       "      <td>4155.67</td>\n",
       "      <td>25515.718014</td>\n",
       "      <td>1.046514e+08</td>\n",
       "      <td>4101.447155</td>\n",
       "    </tr>\n",
       "    <tr>\n",
       "      <th>2017-08-16</th>\n",
       "      <td>4154.99</td>\n",
       "      <td>4379.78</td>\n",
       "      <td>3926.06</td>\n",
       "      <td>4378.84</td>\n",
       "      <td>12923.637280</td>\n",
       "      <td>5.419433e+07</td>\n",
       "      <td>4193.426713</td>\n",
       "    </tr>\n",
       "    <tr>\n",
       "      <th>2017-08-17</th>\n",
       "      <td>4361.99</td>\n",
       "      <td>4480.00</td>\n",
       "      <td>4167.21</td>\n",
       "      <td>4276.50</td>\n",
       "      <td>14573.185929</td>\n",
       "      <td>6.322860e+07</td>\n",
       "      <td>4338.694675</td>\n",
       "    </tr>\n",
       "    <tr>\n",
       "      <th>2017-08-18</th>\n",
       "      <td>4260.47</td>\n",
       "      <td>4368.00</td>\n",
       "      <td>3964.96</td>\n",
       "      <td>4100.00</td>\n",
       "      <td>17516.993361</td>\n",
       "      <td>7.322403e+07</td>\n",
       "      <td>4180.171091</td>\n",
       "    </tr>\n",
       "    <tr>\n",
       "      <th>2017-08-19</th>\n",
       "      <td>4100.00</td>\n",
       "      <td>4188.00</td>\n",
       "      <td>3900.00</td>\n",
       "      <td>4099.55</td>\n",
       "      <td>15036.184051</td>\n",
       "      <td>6.060491e+07</td>\n",
       "      <td>4030.604133</td>\n",
       "    </tr>\n",
       "    <tr>\n",
       "      <th>2017-08-20</th>\n",
       "      <td>4091.99</td>\n",
       "      <td>4125.95</td>\n",
       "      <td>4000.00</td>\n",
       "      <td>4058.68</td>\n",
       "      <td>6237.972896</td>\n",
       "      <td>2.528964e+07</td>\n",
       "      <td>4054.143713</td>\n",
       "    </tr>\n",
       "    <tr>\n",
       "      <th>2017-08-21</th>\n",
       "      <td>4058.64</td>\n",
       "      <td>4080.00</td>\n",
       "      <td>3949.78</td>\n",
       "      <td>3987.52</td>\n",
       "      <td>9782.056594</td>\n",
       "      <td>3.920391e+07</td>\n",
       "      <td>4007.736878</td>\n",
       "    </tr>\n",
       "    <tr>\n",
       "      <th>2017-08-22</th>\n",
       "      <td>3987.51</td>\n",
       "      <td>4139.31</td>\n",
       "      <td>3600.00</td>\n",
       "      <td>4085.00</td>\n",
       "      <td>23522.758166</td>\n",
       "      <td>9.160033e+07</td>\n",
       "      <td>3894.115013</td>\n",
       "    </tr>\n",
       "    <tr>\n",
       "      <th>2017-08-23</th>\n",
       "      <td>4078.00</td>\n",
       "      <td>4248.97</td>\n",
       "      <td>4051.94</td>\n",
       "      <td>4108.12</td>\n",
       "      <td>14979.403481</td>\n",
       "      <td>6.211729e+07</td>\n",
       "      <td>4146.846811</td>\n",
       "    </tr>\n",
       "    <tr>\n",
       "      <th>2017-08-24</th>\n",
       "      <td>4121.78</td>\n",
       "      <td>4350.00</td>\n",
       "      <td>4082.57</td>\n",
       "      <td>4300.34</td>\n",
       "      <td>10782.694367</td>\n",
       "      <td>4.517407e+07</td>\n",
       "      <td>4189.497275</td>\n",
       "    </tr>\n",
       "    <tr>\n",
       "      <th>2017-08-25</th>\n",
       "      <td>4308.80</td>\n",
       "      <td>4449.98</td>\n",
       "      <td>4270.00</td>\n",
       "      <td>4355.98</td>\n",
       "      <td>9699.610034</td>\n",
       "      <td>4.227406e+07</td>\n",
       "      <td>4358.326082</td>\n",
       "    </tr>\n",
       "    <tr>\n",
       "      <th>2017-08-26</th>\n",
       "      <td>4348.17</td>\n",
       "      <td>4369.78</td>\n",
       "      <td>4232.43</td>\n",
       "      <td>4333.38</td>\n",
       "      <td>6559.668604</td>\n",
       "      <td>2.822792e+07</td>\n",
       "      <td>4303.253256</td>\n",
       "    </tr>\n",
       "    <tr>\n",
       "      <th>2017-08-27</th>\n",
       "      <td>4333.38</td>\n",
       "      <td>4393.30</td>\n",
       "      <td>4290.32</td>\n",
       "      <td>4337.68</td>\n",
       "      <td>3979.124453</td>\n",
       "      <td>1.726397e+07</td>\n",
       "      <td>4338.634650</td>\n",
       "    </tr>\n",
       "    <tr>\n",
       "      <th>2017-08-28</th>\n",
       "      <td>4329.91</td>\n",
       "      <td>4399.72</td>\n",
       "      <td>4169.01</td>\n",
       "      <td>4379.99</td>\n",
       "      <td>8641.002446</td>\n",
       "      <td>3.707720e+07</td>\n",
       "      <td>4290.845145</td>\n",
       "    </tr>\n",
       "    <tr>\n",
       "      <th>2017-08-29</th>\n",
       "      <td>4385.00</td>\n",
       "      <td>4649.78</td>\n",
       "      <td>4336.26</td>\n",
       "      <td>4578.82</td>\n",
       "      <td>11879.642831</td>\n",
       "      <td>5.349117e+07</td>\n",
       "      <td>4502.758977</td>\n",
       "    </tr>\n",
       "    <tr>\n",
       "      <th>2017-08-30</th>\n",
       "      <td>4578.82</td>\n",
       "      <td>4642.22</td>\n",
       "      <td>4479.00</td>\n",
       "      <td>4573.20</td>\n",
       "      <td>8720.035040</td>\n",
       "      <td>3.980054e+07</td>\n",
       "      <td>4564.263673</td>\n",
       "    </tr>\n",
       "    <tr>\n",
       "      <th>2017-08-31</th>\n",
       "      <td>4573.15</td>\n",
       "      <td>4765.21</td>\n",
       "      <td>4566.66</td>\n",
       "      <td>4734.26</td>\n",
       "      <td>8911.412459</td>\n",
       "      <td>4.172621e+07</td>\n",
       "      <td>4682.334106</td>\n",
       "    </tr>\n",
       "  </tbody>\n",
       "</table>\n",
       "</div>"
      ],
      "text/plain": [
       "               Open     High      Low    Close  Volume (BTC)  \\\n",
       "Date                                                           \n",
       "2017-08-01  2855.81  2929.17  2615.00  2731.00  12525.076691   \n",
       "2017-08-02  2732.00  2760.00  2650.00  2703.51   9486.625526   \n",
       "2017-08-03  2703.51  2807.44  2698.83  2793.37   7963.697999   \n",
       "2017-08-04  2793.34  2877.52  2765.91  2855.00   7635.821672   \n",
       "2017-08-05  2851.01  3339.66  2848.32  3263.62  16996.273101   \n",
       "2017-08-06  3263.51  3296.51  3146.10  3222.75   5998.735789   \n",
       "2017-08-07  3216.78  3430.00  3186.00  3387.55  12046.117265   \n",
       "2017-08-08  3387.54  3490.00  3300.00  3412.41  15835.370208   \n",
       "2017-08-09  3408.46  3423.10  3178.72  3342.99  14286.844138   \n",
       "2017-08-10  3342.99  3448.00  3311.17  3413.03   9031.121280   \n",
       "2017-08-11  3410.00  3705.00  3390.67  3645.06  11927.373334   \n",
       "2017-08-12  3651.74  3934.00  3586.95  3855.10  12351.074661   \n",
       "2017-08-13  3855.04  4190.00  3841.71  4053.87  15889.829788   \n",
       "2017-08-14  4053.87  4329.43  3964.96  4306.23  14212.304207   \n",
       "2017-08-15  4320.95  4400.00  3800.00  4155.67  25515.718014   \n",
       "2017-08-16  4154.99  4379.78  3926.06  4378.84  12923.637280   \n",
       "2017-08-17  4361.99  4480.00  4167.21  4276.50  14573.185929   \n",
       "2017-08-18  4260.47  4368.00  3964.96  4100.00  17516.993361   \n",
       "2017-08-19  4100.00  4188.00  3900.00  4099.55  15036.184051   \n",
       "2017-08-20  4091.99  4125.95  4000.00  4058.68   6237.972896   \n",
       "2017-08-21  4058.64  4080.00  3949.78  3987.52   9782.056594   \n",
       "2017-08-22  3987.51  4139.31  3600.00  4085.00  23522.758166   \n",
       "2017-08-23  4078.00  4248.97  4051.94  4108.12  14979.403481   \n",
       "2017-08-24  4121.78  4350.00  4082.57  4300.34  10782.694367   \n",
       "2017-08-25  4308.80  4449.98  4270.00  4355.98   9699.610034   \n",
       "2017-08-26  4348.17  4369.78  4232.43  4333.38   6559.668604   \n",
       "2017-08-27  4333.38  4393.30  4290.32  4337.68   3979.124453   \n",
       "2017-08-28  4329.91  4399.72  4169.01  4379.99   8641.002446   \n",
       "2017-08-29  4385.00  4649.78  4336.26  4578.82  11879.642831   \n",
       "2017-08-30  4578.82  4642.22  4479.00  4573.20   8720.035040   \n",
       "2017-08-31  4573.15  4765.21  4566.66  4734.26   8911.412459   \n",
       "\n",
       "            Volume (Currency)  Weighted Price  \n",
       "Date                                           \n",
       "2017-08-01       3.432280e+07     2740.326259  \n",
       "2017-08-02       2.570111e+07     2709.193699  \n",
       "2017-08-03       2.193830e+07     2754.788542  \n",
       "2017-08-04       2.165009e+07     2835.331752  \n",
       "2017-08-05       5.386193e+07     3169.043337  \n",
       "2017-08-06       1.941266e+07     3236.124519  \n",
       "2017-08-07       4.022585e+07     3339.320971  \n",
       "2017-08-08       5.405482e+07     3413.549765  \n",
       "2017-08-09       4.735646e+07     3314.690350  \n",
       "2017-08-10       3.065844e+07     3394.754600  \n",
       "2017-08-11       4.188802e+07     3511.923462  \n",
       "2017-08-12       4.679980e+07     3789.127641  \n",
       "2017-08-13       6.367210e+07     4007.097892  \n",
       "2017-08-14       5.983600e+07     4210.154943  \n",
       "2017-08-15       1.046514e+08     4101.447155  \n",
       "2017-08-16       5.419433e+07     4193.426713  \n",
       "2017-08-17       6.322860e+07     4338.694675  \n",
       "2017-08-18       7.322403e+07     4180.171091  \n",
       "2017-08-19       6.060491e+07     4030.604133  \n",
       "2017-08-20       2.528964e+07     4054.143713  \n",
       "2017-08-21       3.920391e+07     4007.736878  \n",
       "2017-08-22       9.160033e+07     3894.115013  \n",
       "2017-08-23       6.211729e+07     4146.846811  \n",
       "2017-08-24       4.517407e+07     4189.497275  \n",
       "2017-08-25       4.227406e+07     4358.326082  \n",
       "2017-08-26       2.822792e+07     4303.253256  \n",
       "2017-08-27       1.726397e+07     4338.634650  \n",
       "2017-08-28       3.707720e+07     4290.845145  \n",
       "2017-08-29       5.349117e+07     4502.758977  \n",
       "2017-08-30       3.980054e+07     4564.263673  \n",
       "2017-08-31       4.172621e+07     4682.334106  "
      ]
     },
     "execution_count": 73,
     "metadata": {},
     "output_type": "execute_result"
    }
   ],
   "source": [
    "# By month's number\n",
    "btc_usd.loc[\"08/2017\"]"
   ]
  },
  {
   "cell_type": "code",
   "execution_count": 74,
   "metadata": {},
   "outputs": [
    {
     "data": {
      "text/html": [
       "<div>\n",
       "<style scoped>\n",
       "    .dataframe tbody tr th:only-of-type {\n",
       "        vertical-align: middle;\n",
       "    }\n",
       "\n",
       "    .dataframe tbody tr th {\n",
       "        vertical-align: top;\n",
       "    }\n",
       "\n",
       "    .dataframe thead th {\n",
       "        text-align: right;\n",
       "    }\n",
       "</style>\n",
       "<table border=\"1\" class=\"dataframe\">\n",
       "  <thead>\n",
       "    <tr style=\"text-align: right;\">\n",
       "      <th></th>\n",
       "      <th>High</th>\n",
       "    </tr>\n",
       "    <tr>\n",
       "      <th>Date</th>\n",
       "      <th></th>\n",
       "    </tr>\n",
       "  </thead>\n",
       "  <tbody>\n",
       "    <tr>\n",
       "      <th>2017-08-01</th>\n",
       "      <td>2929.17</td>\n",
       "    </tr>\n",
       "    <tr>\n",
       "      <th>2017-08-02</th>\n",
       "      <td>2760.00</td>\n",
       "    </tr>\n",
       "    <tr>\n",
       "      <th>2017-08-03</th>\n",
       "      <td>2807.44</td>\n",
       "    </tr>\n",
       "    <tr>\n",
       "      <th>2017-08-04</th>\n",
       "      <td>2877.52</td>\n",
       "    </tr>\n",
       "    <tr>\n",
       "      <th>2017-08-05</th>\n",
       "      <td>3339.66</td>\n",
       "    </tr>\n",
       "    <tr>\n",
       "      <th>2017-08-06</th>\n",
       "      <td>3296.51</td>\n",
       "    </tr>\n",
       "    <tr>\n",
       "      <th>2017-08-07</th>\n",
       "      <td>3430.00</td>\n",
       "    </tr>\n",
       "    <tr>\n",
       "      <th>2017-08-08</th>\n",
       "      <td>3490.00</td>\n",
       "    </tr>\n",
       "    <tr>\n",
       "      <th>2017-08-09</th>\n",
       "      <td>3423.10</td>\n",
       "    </tr>\n",
       "    <tr>\n",
       "      <th>2017-08-10</th>\n",
       "      <td>3448.00</td>\n",
       "    </tr>\n",
       "    <tr>\n",
       "      <th>2017-08-11</th>\n",
       "      <td>3705.00</td>\n",
       "    </tr>\n",
       "    <tr>\n",
       "      <th>2017-08-12</th>\n",
       "      <td>3934.00</td>\n",
       "    </tr>\n",
       "    <tr>\n",
       "      <th>2017-08-13</th>\n",
       "      <td>4190.00</td>\n",
       "    </tr>\n",
       "    <tr>\n",
       "      <th>2017-08-14</th>\n",
       "      <td>4329.43</td>\n",
       "    </tr>\n",
       "    <tr>\n",
       "      <th>2017-08-15</th>\n",
       "      <td>4400.00</td>\n",
       "    </tr>\n",
       "    <tr>\n",
       "      <th>2017-08-16</th>\n",
       "      <td>4379.78</td>\n",
       "    </tr>\n",
       "    <tr>\n",
       "      <th>2017-08-17</th>\n",
       "      <td>4480.00</td>\n",
       "    </tr>\n",
       "    <tr>\n",
       "      <th>2017-08-18</th>\n",
       "      <td>4368.00</td>\n",
       "    </tr>\n",
       "    <tr>\n",
       "      <th>2017-08-19</th>\n",
       "      <td>4188.00</td>\n",
       "    </tr>\n",
       "    <tr>\n",
       "      <th>2017-08-20</th>\n",
       "      <td>4125.95</td>\n",
       "    </tr>\n",
       "    <tr>\n",
       "      <th>2017-08-21</th>\n",
       "      <td>4080.00</td>\n",
       "    </tr>\n",
       "    <tr>\n",
       "      <th>2017-08-22</th>\n",
       "      <td>4139.31</td>\n",
       "    </tr>\n",
       "    <tr>\n",
       "      <th>2017-08-23</th>\n",
       "      <td>4248.97</td>\n",
       "    </tr>\n",
       "    <tr>\n",
       "      <th>2017-08-24</th>\n",
       "      <td>4350.00</td>\n",
       "    </tr>\n",
       "    <tr>\n",
       "      <th>2017-08-25</th>\n",
       "      <td>4449.98</td>\n",
       "    </tr>\n",
       "    <tr>\n",
       "      <th>2017-08-26</th>\n",
       "      <td>4369.78</td>\n",
       "    </tr>\n",
       "    <tr>\n",
       "      <th>2017-08-27</th>\n",
       "      <td>4393.30</td>\n",
       "    </tr>\n",
       "    <tr>\n",
       "      <th>2017-08-28</th>\n",
       "      <td>4399.72</td>\n",
       "    </tr>\n",
       "    <tr>\n",
       "      <th>2017-08-29</th>\n",
       "      <td>4649.78</td>\n",
       "    </tr>\n",
       "    <tr>\n",
       "      <th>2017-08-30</th>\n",
       "      <td>4642.22</td>\n",
       "    </tr>\n",
       "    <tr>\n",
       "      <th>2017-08-31</th>\n",
       "      <td>4765.21</td>\n",
       "    </tr>\n",
       "  </tbody>\n",
       "</table>\n",
       "</div>"
      ],
      "text/plain": [
       "               High\n",
       "Date               \n",
       "2017-08-01  2929.17\n",
       "2017-08-02  2760.00\n",
       "2017-08-03  2807.44\n",
       "2017-08-04  2877.52\n",
       "2017-08-05  3339.66\n",
       "2017-08-06  3296.51\n",
       "2017-08-07  3430.00\n",
       "2017-08-08  3490.00\n",
       "2017-08-09  3423.10\n",
       "2017-08-10  3448.00\n",
       "2017-08-11  3705.00\n",
       "2017-08-12  3934.00\n",
       "2017-08-13  4190.00\n",
       "2017-08-14  4329.43\n",
       "2017-08-15  4400.00\n",
       "2017-08-16  4379.78\n",
       "2017-08-17  4480.00\n",
       "2017-08-18  4368.00\n",
       "2017-08-19  4188.00\n",
       "2017-08-20  4125.95\n",
       "2017-08-21  4080.00\n",
       "2017-08-22  4139.31\n",
       "2017-08-23  4248.97\n",
       "2017-08-24  4350.00\n",
       "2017-08-25  4449.98\n",
       "2017-08-26  4369.78\n",
       "2017-08-27  4393.30\n",
       "2017-08-28  4399.72\n",
       "2017-08-29  4649.78\n",
       "2017-08-30  4642.22\n",
       "2017-08-31  4765.21"
      ]
     },
     "execution_count": 74,
     "metadata": {},
     "output_type": "execute_result"
    }
   ],
   "source": [
    "btc_usd.loc[\"08/2017\", ['High']]\n",
    "# [\"August 2017\"] allows us to specify other keys and labels"
   ]
  },
  {
   "cell_type": "markdown",
   "metadata": {
    "slideshow": {
     "slide_type": "subslide"
    }
   },
   "source": [
    "Or even a day…"
   ]
  },
  {
   "cell_type": "code",
   "execution_count": 75,
   "metadata": {
    "execution": {
     "iopub.execute_input": "2020-11-03T15:04:06.886742Z",
     "iopub.status.busy": "2020-11-03T15:04:06.886460Z",
     "iopub.status.idle": "2020-11-03T15:04:06.894147Z",
     "shell.execute_reply": "2020-11-03T15:04:06.893428Z",
     "shell.execute_reply.started": "2020-11-03T15:04:06.886699Z"
    },
    "hide-output": false
   },
   "outputs": [
    {
     "data": {
      "text/plain": [
       "Open                 1.135798e+04\n",
       "High                 1.188336e+04\n",
       "Low                  1.122800e+04\n",
       "Close                1.181749e+04\n",
       "Volume (BTC)         1.119581e+04\n",
       "Volume (Currency)    1.302246e+08\n",
       "Weighted Price       1.163155e+04\n",
       "Name: 2020-08-01 00:00:00, dtype: float64"
      ]
     },
     "execution_count": 75,
     "metadata": {},
     "output_type": "execute_result"
    }
   ],
   "source": [
    "# By date name\n",
    "btc_usd.loc[\"August 1, 2020\"]"
   ]
  },
  {
   "cell_type": "code",
   "execution_count": 114,
   "metadata": {
    "execution": {
     "iopub.execute_input": "2020-11-03T15:04:07.126029Z",
     "iopub.status.busy": "2020-11-03T15:04:07.125691Z",
     "iopub.status.idle": "2020-11-03T15:04:07.132160Z",
     "shell.execute_reply": "2020-11-03T15:04:07.131562Z",
     "shell.execute_reply.started": "2020-11-03T15:04:07.125985Z"
    },
    "hide-output": false
   },
   "outputs": [
    {
     "data": {
      "text/plain": [
       "Open                 1.135798e+04\n",
       "High                 1.188336e+04\n",
       "Low                  1.122800e+04\n",
       "Close                1.181749e+04\n",
       "Volume (BTC)         1.119581e+04\n",
       "Volume (Currency)    1.302246e+08\n",
       "Weighted Price       1.163155e+04\n",
       "oc_diff              2.970200e+02\n",
       "Name: 2020-08-01 00:00:00, dtype: float64"
      ]
     },
     "execution_count": 114,
     "metadata": {},
     "output_type": "execute_result"
    }
   ],
   "source": [
    "# By date number\n",
    "btc_usd.loc[\"08-01-2020\"]"
   ]
  },
  {
   "cell_type": "markdown",
   "metadata": {
    "slideshow": {
     "slide_type": "subslide"
    }
   },
   "source": [
    "**Question:** What can we pass as the `.loc` argument when we have a\n",
    "`DateTimeIndex`?"
   ]
  },
  {
   "cell_type": "markdown",
   "metadata": {
    "slideshow": {
     "slide_type": "fragment"
    }
   },
   "source": [
    "**Answer:** Anything that can be converted to a `datetime` using\n",
    "`pd.to_datetime`, *without* having to specify the format argument."
   ]
  },
  {
   "cell_type": "markdown",
   "metadata": {
    "slideshow": {
     "slide_type": ""
    }
   },
   "source": [
    "When we pass date-like objects to `.loc`, pandas returns *all* rows whose date in the index \"belong\" to that date or period"
   ]
  },
  {
   "cell_type": "markdown",
   "metadata": {
    "slideshow": {
     "slide_type": "subslide"
    }
   },
   "source": [
    "We can also use the range shorthand notation to give a start and end\n",
    "date for selection"
   ]
  },
  {
   "cell_type": "code",
   "execution_count": 77,
   "metadata": {
    "execution": {
     "iopub.execute_input": "2020-11-03T15:04:08.228029Z",
     "iopub.status.busy": "2020-11-03T15:04:08.227713Z",
     "iopub.status.idle": "2020-11-03T15:04:08.246260Z",
     "shell.execute_reply": "2020-11-03T15:04:08.245574Z",
     "shell.execute_reply.started": "2020-11-03T15:04:08.227992Z"
    },
    "hide-output": false
   },
   "outputs": [
    {
     "data": {
      "text/html": [
       "<div>\n",
       "<style scoped>\n",
       "    .dataframe tbody tr th:only-of-type {\n",
       "        vertical-align: middle;\n",
       "    }\n",
       "\n",
       "    .dataframe tbody tr th {\n",
       "        vertical-align: top;\n",
       "    }\n",
       "\n",
       "    .dataframe thead th {\n",
       "        text-align: right;\n",
       "    }\n",
       "</style>\n",
       "<table border=\"1\" class=\"dataframe\">\n",
       "  <thead>\n",
       "    <tr style=\"text-align: right;\">\n",
       "      <th></th>\n",
       "      <th>Open</th>\n",
       "      <th>High</th>\n",
       "      <th>Low</th>\n",
       "      <th>Close</th>\n",
       "      <th>Volume (BTC)</th>\n",
       "      <th>Volume (Currency)</th>\n",
       "      <th>Weighted Price</th>\n",
       "    </tr>\n",
       "    <tr>\n",
       "      <th>Date</th>\n",
       "      <th></th>\n",
       "      <th></th>\n",
       "      <th></th>\n",
       "      <th></th>\n",
       "      <th></th>\n",
       "      <th></th>\n",
       "      <th></th>\n",
       "    </tr>\n",
       "  </thead>\n",
       "  <tbody>\n",
       "    <tr>\n",
       "      <th>2015-04-01</th>\n",
       "      <td>243.93</td>\n",
       "      <td>246.83</td>\n",
       "      <td>239.32</td>\n",
       "      <td>246.69</td>\n",
       "      <td>6226.016464</td>\n",
       "      <td>1.513601e+06</td>\n",
       "      <td>243.109050</td>\n",
       "    </tr>\n",
       "    <tr>\n",
       "      <th>2015-04-02</th>\n",
       "      <td>246.68</td>\n",
       "      <td>256.96</td>\n",
       "      <td>244.52</td>\n",
       "      <td>253.28</td>\n",
       "      <td>9806.822203</td>\n",
       "      <td>2.453664e+06</td>\n",
       "      <td>250.199655</td>\n",
       "    </tr>\n",
       "    <tr>\n",
       "      <th>2015-04-03</th>\n",
       "      <td>253.22</td>\n",
       "      <td>256.67</td>\n",
       "      <td>251.23</td>\n",
       "      <td>254.19</td>\n",
       "      <td>5048.577376</td>\n",
       "      <td>1.283171e+06</td>\n",
       "      <td>254.164902</td>\n",
       "    </tr>\n",
       "    <tr>\n",
       "      <th>2015-04-04</th>\n",
       "      <td>254.19</td>\n",
       "      <td>255.85</td>\n",
       "      <td>250.76</td>\n",
       "      <td>253.70</td>\n",
       "      <td>2769.281658</td>\n",
       "      <td>7.002845e+05</td>\n",
       "      <td>252.875870</td>\n",
       "    </tr>\n",
       "    <tr>\n",
       "      <th>2015-04-05</th>\n",
       "      <td>253.60</td>\n",
       "      <td>261.00</td>\n",
       "      <td>251.65</td>\n",
       "      <td>260.54</td>\n",
       "      <td>5759.360160</td>\n",
       "      <td>1.479483e+06</td>\n",
       "      <td>256.883285</td>\n",
       "    </tr>\n",
       "    <tr>\n",
       "      <th>2015-04-06</th>\n",
       "      <td>260.57</td>\n",
       "      <td>262.98</td>\n",
       "      <td>254.00</td>\n",
       "      <td>255.58</td>\n",
       "      <td>5960.677633</td>\n",
       "      <td>1.535495e+06</td>\n",
       "      <td>257.604180</td>\n",
       "    </tr>\n",
       "    <tr>\n",
       "      <th>2015-04-07</th>\n",
       "      <td>255.54</td>\n",
       "      <td>256.62</td>\n",
       "      <td>251.50</td>\n",
       "      <td>253.72</td>\n",
       "      <td>6010.267582</td>\n",
       "      <td>1.528034e+06</td>\n",
       "      <td>254.237260</td>\n",
       "    </tr>\n",
       "    <tr>\n",
       "      <th>2015-04-08</th>\n",
       "      <td>253.71</td>\n",
       "      <td>254.96</td>\n",
       "      <td>243.06</td>\n",
       "      <td>244.58</td>\n",
       "      <td>11663.656155</td>\n",
       "      <td>2.878712e+06</td>\n",
       "      <td>246.810407</td>\n",
       "    </tr>\n",
       "    <tr>\n",
       "      <th>2015-04-09</th>\n",
       "      <td>244.84</td>\n",
       "      <td>246.30</td>\n",
       "      <td>238.47</td>\n",
       "      <td>243.43</td>\n",
       "      <td>7943.710541</td>\n",
       "      <td>1.932558e+06</td>\n",
       "      <td>243.281478</td>\n",
       "    </tr>\n",
       "    <tr>\n",
       "      <th>2015-04-10</th>\n",
       "      <td>243.75</td>\n",
       "      <td>243.94</td>\n",
       "      <td>231.00</td>\n",
       "      <td>235.99</td>\n",
       "      <td>11549.630656</td>\n",
       "      <td>2.728444e+06</td>\n",
       "      <td>236.236497</td>\n",
       "    </tr>\n",
       "  </tbody>\n",
       "</table>\n",
       "</div>"
      ],
      "text/plain": [
       "              Open    High     Low   Close  Volume (BTC)  Volume (Currency)  \\\n",
       "Date                                                                          \n",
       "2015-04-01  243.93  246.83  239.32  246.69   6226.016464       1.513601e+06   \n",
       "2015-04-02  246.68  256.96  244.52  253.28   9806.822203       2.453664e+06   \n",
       "2015-04-03  253.22  256.67  251.23  254.19   5048.577376       1.283171e+06   \n",
       "2015-04-04  254.19  255.85  250.76  253.70   2769.281658       7.002845e+05   \n",
       "2015-04-05  253.60  261.00  251.65  260.54   5759.360160       1.479483e+06   \n",
       "2015-04-06  260.57  262.98  254.00  255.58   5960.677633       1.535495e+06   \n",
       "2015-04-07  255.54  256.62  251.50  253.72   6010.267582       1.528034e+06   \n",
       "2015-04-08  253.71  254.96  243.06  244.58  11663.656155       2.878712e+06   \n",
       "2015-04-09  244.84  246.30  238.47  243.43   7943.710541       1.932558e+06   \n",
       "2015-04-10  243.75  243.94  231.00  235.99  11549.630656       2.728444e+06   \n",
       "\n",
       "            Weighted Price  \n",
       "Date                        \n",
       "2015-04-01      243.109050  \n",
       "2015-04-02      250.199655  \n",
       "2015-04-03      254.164902  \n",
       "2015-04-04      252.875870  \n",
       "2015-04-05      256.883285  \n",
       "2015-04-06      257.604180  \n",
       "2015-04-07      254.237260  \n",
       "2015-04-08      246.810407  \n",
       "2015-04-09      243.281478  \n",
       "2015-04-10      236.236497  "
      ]
     },
     "execution_count": 77,
     "metadata": {},
     "output_type": "execute_result"
    }
   ],
   "source": [
    "btc_usd.loc[\"April 1, 2015\":\"April 10, 2015\"]\n",
    "\n",
    "# see that the end point is included"
   ]
  },
  {
   "cell_type": "markdown",
   "metadata": {
    "slideshow": {
     "slide_type": "subslide"
    }
   },
   "source": [
    "\n",
    "<a id='exercise-2'></a>\n",
    "**Exercise 3**\n",
    "\n",
    "For each item in the list, extract the specified data from `btc_usd`:\n",
    "\n",
    "- July 2017 through August 2017 (inclusive)  \n",
    "- April 25, 2015 to June 10, 2016  \n",
    "- October 31, 2017  "
   ]
  },
  {
   "cell_type": "code",
   "execution_count": 115,
   "metadata": {},
   "outputs": [
    {
     "data": {
      "text/html": [
       "<div>\n",
       "<style scoped>\n",
       "    .dataframe tbody tr th:only-of-type {\n",
       "        vertical-align: middle;\n",
       "    }\n",
       "\n",
       "    .dataframe tbody tr th {\n",
       "        vertical-align: top;\n",
       "    }\n",
       "\n",
       "    .dataframe thead th {\n",
       "        text-align: right;\n",
       "    }\n",
       "</style>\n",
       "<table border=\"1\" class=\"dataframe\">\n",
       "  <thead>\n",
       "    <tr style=\"text-align: right;\">\n",
       "      <th></th>\n",
       "      <th>Open</th>\n",
       "      <th>High</th>\n",
       "      <th>Low</th>\n",
       "      <th>Close</th>\n",
       "      <th>Volume (BTC)</th>\n",
       "      <th>Volume (Currency)</th>\n",
       "      <th>Weighted Price</th>\n",
       "      <th>oc_diff</th>\n",
       "    </tr>\n",
       "    <tr>\n",
       "      <th>Date</th>\n",
       "      <th></th>\n",
       "      <th></th>\n",
       "      <th></th>\n",
       "      <th></th>\n",
       "      <th></th>\n",
       "      <th></th>\n",
       "      <th></th>\n",
       "      <th></th>\n",
       "    </tr>\n",
       "  </thead>\n",
       "  <tbody>\n",
       "    <tr>\n",
       "      <th>2017-07-01</th>\n",
       "      <td>2465.48</td>\n",
       "      <td>2517.11</td>\n",
       "      <td>2390.00</td>\n",
       "      <td>2412.41</td>\n",
       "      <td>8885.893497</td>\n",
       "      <td>2.175049e+07</td>\n",
       "      <td>2447.755113</td>\n",
       "      <td>390.33</td>\n",
       "    </tr>\n",
       "    <tr>\n",
       "      <th>2017-07-02</th>\n",
       "      <td>2421.30</td>\n",
       "      <td>2528.72</td>\n",
       "      <td>2374.34</td>\n",
       "      <td>2504.37</td>\n",
       "      <td>8744.534411</td>\n",
       "      <td>2.138627e+07</td>\n",
       "      <td>2445.673226</td>\n",
       "      <td>309.70</td>\n",
       "    </tr>\n",
       "    <tr>\n",
       "      <th>2017-07-03</th>\n",
       "      <td>2504.81</td>\n",
       "      <td>2595.00</td>\n",
       "      <td>2472.68</td>\n",
       "      <td>2550.47</td>\n",
       "      <td>11520.707308</td>\n",
       "      <td>2.921371e+07</td>\n",
       "      <td>2535.756265</td>\n",
       "      <td>198.70</td>\n",
       "    </tr>\n",
       "    <tr>\n",
       "      <th>2017-07-04</th>\n",
       "      <td>2540.07</td>\n",
       "      <td>2639.47</td>\n",
       "      <td>2540.07</td>\n",
       "      <td>2596.12</td>\n",
       "      <td>9662.759414</td>\n",
       "      <td>2.510748e+07</td>\n",
       "      <td>2598.376075</td>\n",
       "      <td>253.30</td>\n",
       "    </tr>\n",
       "    <tr>\n",
       "      <th>2017-07-05</th>\n",
       "      <td>2594.52</td>\n",
       "      <td>2623.00</td>\n",
       "      <td>2530.10</td>\n",
       "      <td>2602.90</td>\n",
       "      <td>10882.839011</td>\n",
       "      <td>2.795034e+07</td>\n",
       "      <td>2568.295339</td>\n",
       "      <td>260.48</td>\n",
       "    </tr>\n",
       "    <tr>\n",
       "      <th>...</th>\n",
       "      <td>...</td>\n",
       "      <td>...</td>\n",
       "      <td>...</td>\n",
       "      <td>...</td>\n",
       "      <td>...</td>\n",
       "      <td>...</td>\n",
       "      <td>...</td>\n",
       "      <td>...</td>\n",
       "    </tr>\n",
       "    <tr>\n",
       "      <th>2017-08-27</th>\n",
       "      <td>4333.38</td>\n",
       "      <td>4393.30</td>\n",
       "      <td>4290.32</td>\n",
       "      <td>4337.68</td>\n",
       "      <td>3979.124453</td>\n",
       "      <td>1.726397e+07</td>\n",
       "      <td>4338.634650</td>\n",
       "      <td>-445.35</td>\n",
       "    </tr>\n",
       "    <tr>\n",
       "      <th>2017-08-28</th>\n",
       "      <td>4329.91</td>\n",
       "      <td>4399.72</td>\n",
       "      <td>4169.01</td>\n",
       "      <td>4379.99</td>\n",
       "      <td>8641.002446</td>\n",
       "      <td>3.707720e+07</td>\n",
       "      <td>4290.845145</td>\n",
       "      <td>-130.62</td>\n",
       "    </tr>\n",
       "    <tr>\n",
       "      <th>2017-08-29</th>\n",
       "      <td>4385.00</td>\n",
       "      <td>4649.78</td>\n",
       "      <td>4336.26</td>\n",
       "      <td>4578.82</td>\n",
       "      <td>11879.642831</td>\n",
       "      <td>5.349117e+07</td>\n",
       "      <td>4502.758977</td>\n",
       "      <td>-200.16</td>\n",
       "    </tr>\n",
       "    <tr>\n",
       "      <th>2017-08-30</th>\n",
       "      <td>4578.82</td>\n",
       "      <td>4642.22</td>\n",
       "      <td>4479.00</td>\n",
       "      <td>4573.20</td>\n",
       "      <td>8720.035040</td>\n",
       "      <td>3.980054e+07</td>\n",
       "      <td>4564.263673</td>\n",
       "      <td>-414.00</td>\n",
       "    </tr>\n",
       "    <tr>\n",
       "      <th>2017-08-31</th>\n",
       "      <td>4573.15</td>\n",
       "      <td>4765.21</td>\n",
       "      <td>4566.66</td>\n",
       "      <td>4734.26</td>\n",
       "      <td>8911.412459</td>\n",
       "      <td>4.172621e+07</td>\n",
       "      <td>4682.334106</td>\n",
       "      <td>-247.06</td>\n",
       "    </tr>\n",
       "  </tbody>\n",
       "</table>\n",
       "<p>62 rows × 8 columns</p>\n",
       "</div>"
      ],
      "text/plain": [
       "               Open     High      Low    Close  Volume (BTC)  \\\n",
       "Date                                                           \n",
       "2017-07-01  2465.48  2517.11  2390.00  2412.41   8885.893497   \n",
       "2017-07-02  2421.30  2528.72  2374.34  2504.37   8744.534411   \n",
       "2017-07-03  2504.81  2595.00  2472.68  2550.47  11520.707308   \n",
       "2017-07-04  2540.07  2639.47  2540.07  2596.12   9662.759414   \n",
       "2017-07-05  2594.52  2623.00  2530.10  2602.90  10882.839011   \n",
       "...             ...      ...      ...      ...           ...   \n",
       "2017-08-27  4333.38  4393.30  4290.32  4337.68   3979.124453   \n",
       "2017-08-28  4329.91  4399.72  4169.01  4379.99   8641.002446   \n",
       "2017-08-29  4385.00  4649.78  4336.26  4578.82  11879.642831   \n",
       "2017-08-30  4578.82  4642.22  4479.00  4573.20   8720.035040   \n",
       "2017-08-31  4573.15  4765.21  4566.66  4734.26   8911.412459   \n",
       "\n",
       "            Volume (Currency)  Weighted Price  oc_diff  \n",
       "Date                                                    \n",
       "2017-07-01       2.175049e+07     2447.755113   390.33  \n",
       "2017-07-02       2.138627e+07     2445.673226   309.70  \n",
       "2017-07-03       2.921371e+07     2535.756265   198.70  \n",
       "2017-07-04       2.510748e+07     2598.376075   253.30  \n",
       "2017-07-05       2.795034e+07     2568.295339   260.48  \n",
       "...                       ...             ...      ...  \n",
       "2017-08-27       1.726397e+07     4338.634650  -445.35  \n",
       "2017-08-28       3.707720e+07     4290.845145  -130.62  \n",
       "2017-08-29       5.349117e+07     4502.758977  -200.16  \n",
       "2017-08-30       3.980054e+07     4564.263673  -414.00  \n",
       "2017-08-31       4.172621e+07     4682.334106  -247.06  \n",
       "\n",
       "[62 rows x 8 columns]"
      ]
     },
     "execution_count": 115,
     "metadata": {},
     "output_type": "execute_result"
    }
   ],
   "source": [
    "btc_usd.loc[\"July, 2017\":\"August, 2017\"]\n"
   ]
  },
  {
   "cell_type": "code",
   "execution_count": 116,
   "metadata": {},
   "outputs": [
    {
     "data": {
      "text/html": [
       "<div>\n",
       "<style scoped>\n",
       "    .dataframe tbody tr th:only-of-type {\n",
       "        vertical-align: middle;\n",
       "    }\n",
       "\n",
       "    .dataframe tbody tr th {\n",
       "        vertical-align: top;\n",
       "    }\n",
       "\n",
       "    .dataframe thead th {\n",
       "        text-align: right;\n",
       "    }\n",
       "</style>\n",
       "<table border=\"1\" class=\"dataframe\">\n",
       "  <thead>\n",
       "    <tr style=\"text-align: right;\">\n",
       "      <th></th>\n",
       "      <th>Open</th>\n",
       "      <th>High</th>\n",
       "      <th>Low</th>\n",
       "      <th>Close</th>\n",
       "      <th>Volume (BTC)</th>\n",
       "      <th>Volume (Currency)</th>\n",
       "      <th>Weighted Price</th>\n",
       "      <th>oc_diff</th>\n",
       "    </tr>\n",
       "    <tr>\n",
       "      <th>Date</th>\n",
       "      <th></th>\n",
       "      <th></th>\n",
       "      <th></th>\n",
       "      <th></th>\n",
       "      <th></th>\n",
       "      <th></th>\n",
       "      <th></th>\n",
       "      <th></th>\n",
       "    </tr>\n",
       "  </thead>\n",
       "  <tbody>\n",
       "    <tr>\n",
       "      <th>2015-04-25</th>\n",
       "      <td>231.04</td>\n",
       "      <td>232.29</td>\n",
       "      <td>225.70</td>\n",
       "      <td>226.12</td>\n",
       "      <td>5286.098594</td>\n",
       "      <td>1.206595e+06</td>\n",
       "      <td>228.258103</td>\n",
       "      <td>4.55</td>\n",
       "    </tr>\n",
       "    <tr>\n",
       "      <th>2015-04-26</th>\n",
       "      <td>226.12</td>\n",
       "      <td>227.26</td>\n",
       "      <td>214.98</td>\n",
       "      <td>219.52</td>\n",
       "      <td>11238.356288</td>\n",
       "      <td>2.465554e+06</td>\n",
       "      <td>219.387440</td>\n",
       "      <td>9.59</td>\n",
       "    </tr>\n",
       "    <tr>\n",
       "      <th>2015-04-27</th>\n",
       "      <td>219.52</td>\n",
       "      <td>229.93</td>\n",
       "      <td>217.52</td>\n",
       "      <td>227.23</td>\n",
       "      <td>13816.491481</td>\n",
       "      <td>3.078036e+06</td>\n",
       "      <td>222.779892</td>\n",
       "      <td>15.65</td>\n",
       "    </tr>\n",
       "    <tr>\n",
       "      <th>2015-04-28</th>\n",
       "      <td>227.17</td>\n",
       "      <td>227.56</td>\n",
       "      <td>221.45</td>\n",
       "      <td>225.16</td>\n",
       "      <td>9345.783207</td>\n",
       "      <td>2.100834e+06</td>\n",
       "      <td>224.789478</td>\n",
       "      <td>9.29</td>\n",
       "    </tr>\n",
       "    <tr>\n",
       "      <th>2015-04-29</th>\n",
       "      <td>225.18</td>\n",
       "      <td>226.99</td>\n",
       "      <td>221.81</td>\n",
       "      <td>225.48</td>\n",
       "      <td>8668.360650</td>\n",
       "      <td>1.948799e+06</td>\n",
       "      <td>224.817524</td>\n",
       "      <td>10.85</td>\n",
       "    </tr>\n",
       "    <tr>\n",
       "      <th>...</th>\n",
       "      <td>...</td>\n",
       "      <td>...</td>\n",
       "      <td>...</td>\n",
       "      <td>...</td>\n",
       "      <td>...</td>\n",
       "      <td>...</td>\n",
       "      <td>...</td>\n",
       "      <td>...</td>\n",
       "    </tr>\n",
       "    <tr>\n",
       "      <th>2016-06-06</th>\n",
       "      <td>573.80</td>\n",
       "      <td>586.02</td>\n",
       "      <td>573.80</td>\n",
       "      <td>584.50</td>\n",
       "      <td>4465.516121</td>\n",
       "      <td>2.599633e+06</td>\n",
       "      <td>582.157234</td>\n",
       "      <td>100.90</td>\n",
       "    </tr>\n",
       "    <tr>\n",
       "      <th>2016-06-07</th>\n",
       "      <td>584.12</td>\n",
       "      <td>594.44</td>\n",
       "      <td>563.00</td>\n",
       "      <td>577.54</td>\n",
       "      <td>6705.918304</td>\n",
       "      <td>3.889184e+06</td>\n",
       "      <td>579.962868</td>\n",
       "      <td>54.07</td>\n",
       "    </tr>\n",
       "    <tr>\n",
       "      <th>2016-06-08</th>\n",
       "      <td>577.48</td>\n",
       "      <td>584.25</td>\n",
       "      <td>571.86</td>\n",
       "      <td>583.03</td>\n",
       "      <td>3259.151105</td>\n",
       "      <td>1.885761e+06</td>\n",
       "      <td>578.604855</td>\n",
       "      <td>85.52</td>\n",
       "    </tr>\n",
       "    <tr>\n",
       "      <th>2016-06-09</th>\n",
       "      <td>583.01</td>\n",
       "      <td>583.10</td>\n",
       "      <td>572.97</td>\n",
       "      <td>575.01</td>\n",
       "      <td>3770.718262</td>\n",
       "      <td>2.173852e+06</td>\n",
       "      <td>576.508797</td>\n",
       "      <td>64.77</td>\n",
       "    </tr>\n",
       "    <tr>\n",
       "      <th>2016-06-10</th>\n",
       "      <td>576.06</td>\n",
       "      <td>580.00</td>\n",
       "      <td>572.00</td>\n",
       "      <td>578.01</td>\n",
       "      <td>3458.564923</td>\n",
       "      <td>1.992463e+06</td>\n",
       "      <td>576.095319</td>\n",
       "      <td>72.70</td>\n",
       "    </tr>\n",
       "  </tbody>\n",
       "</table>\n",
       "<p>413 rows × 8 columns</p>\n",
       "</div>"
      ],
      "text/plain": [
       "              Open    High     Low   Close  Volume (BTC)  Volume (Currency)  \\\n",
       "Date                                                                          \n",
       "2015-04-25  231.04  232.29  225.70  226.12   5286.098594       1.206595e+06   \n",
       "2015-04-26  226.12  227.26  214.98  219.52  11238.356288       2.465554e+06   \n",
       "2015-04-27  219.52  229.93  217.52  227.23  13816.491481       3.078036e+06   \n",
       "2015-04-28  227.17  227.56  221.45  225.16   9345.783207       2.100834e+06   \n",
       "2015-04-29  225.18  226.99  221.81  225.48   8668.360650       1.948799e+06   \n",
       "...            ...     ...     ...     ...           ...                ...   \n",
       "2016-06-06  573.80  586.02  573.80  584.50   4465.516121       2.599633e+06   \n",
       "2016-06-07  584.12  594.44  563.00  577.54   6705.918304       3.889184e+06   \n",
       "2016-06-08  577.48  584.25  571.86  583.03   3259.151105       1.885761e+06   \n",
       "2016-06-09  583.01  583.10  572.97  575.01   3770.718262       2.173852e+06   \n",
       "2016-06-10  576.06  580.00  572.00  578.01   3458.564923       1.992463e+06   \n",
       "\n",
       "            Weighted Price  oc_diff  \n",
       "Date                                 \n",
       "2015-04-25      228.258103     4.55  \n",
       "2015-04-26      219.387440     9.59  \n",
       "2015-04-27      222.779892    15.65  \n",
       "2015-04-28      224.789478     9.29  \n",
       "2015-04-29      224.817524    10.85  \n",
       "...                    ...      ...  \n",
       "2016-06-06      582.157234   100.90  \n",
       "2016-06-07      579.962868    54.07  \n",
       "2016-06-08      578.604855    85.52  \n",
       "2016-06-09      576.508797    64.77  \n",
       "2016-06-10      576.095319    72.70  \n",
       "\n",
       "[413 rows x 8 columns]"
      ]
     },
     "execution_count": 116,
     "metadata": {},
     "output_type": "execute_result"
    }
   ],
   "source": [
    "btc_usd.loc[\"April 25, 2015\":\"June 10, 2016\"]\n"
   ]
  },
  {
   "cell_type": "markdown",
   "metadata": {
    "slideshow": {
     "slide_type": "slide"
    }
   },
   "source": [
    "## Accessing Date Properties\n",
    "\n",
    "\n",
    "We can access parts of a date: e.g. the month, minute, second, or hour \n",
    "\n",
    "When the date/time information is in the index, we can to `df.index.XX`\n",
    "where `XX` is replaced by `year`, `month`, or whatever we would\n",
    "like to access."
   ]
  },
  {
   "cell_type": "code",
   "execution_count": 117,
   "metadata": {},
   "outputs": [
    {
     "data": {
      "text/plain": [
       "Open                 6.120000e+03\n",
       "High                 6.449780e+03\n",
       "Low                  6.072810e+03\n",
       "Close                6.434210e+03\n",
       "Volume (BTC)         1.342331e+04\n",
       "Volume (Currency)    8.435448e+07\n",
       "Weighted Price       6.284179e+03\n",
       "oc_diff              3.827670e+03\n",
       "Name: 2017-10-31 00:00:00, dtype: float64"
      ]
     },
     "execution_count": 117,
     "metadata": {},
     "output_type": "execute_result"
    }
   ],
   "source": [
    "btc_usd.loc[\"October 31, 2017\"]\n"
   ]
  },
  {
   "cell_type": "code",
   "execution_count": 78,
   "metadata": {
    "execution": {
     "iopub.execute_input": "2020-11-03T15:04:09.111812Z",
     "iopub.status.busy": "2020-11-03T15:04:09.111537Z",
     "iopub.status.idle": "2020-11-03T15:04:09.118239Z",
     "shell.execute_reply": "2020-11-03T15:04:09.117419Z",
     "shell.execute_reply.started": "2020-11-03T15:04:09.111771Z"
    },
    "hide-output": false
   },
   "outputs": [
    {
     "data": {
      "text/plain": [
       "Int64Index([2014, 2014, 2014, 2014, 2014, 2014, 2014, 2014, 2014, 2014,\n",
       "            ...\n",
       "            2021, 2021, 2021, 2021, 2021, 2021, 2021, 2021, 2021, 2021],\n",
       "           dtype='int64', name='Date', length=2599)"
      ]
     },
     "execution_count": 78,
     "metadata": {},
     "output_type": "execute_result"
    }
   ],
   "source": [
    "btc_usd.index.year"
   ]
  },
  {
   "cell_type": "code",
   "execution_count": 79,
   "metadata": {
    "execution": {
     "iopub.execute_input": "2020-11-03T15:04:09.391577Z",
     "iopub.status.busy": "2020-11-03T15:04:09.391316Z",
     "iopub.status.idle": "2020-11-03T15:04:09.397238Z",
     "shell.execute_reply": "2020-11-03T15:04:09.396515Z",
     "shell.execute_reply.started": "2020-11-03T15:04:09.391536Z"
    },
    "hide-output": false
   },
   "outputs": [
    {
     "data": {
      "text/plain": [
       "Int64Index([ 1,  2,  3,  4,  5,  6,  7,  8,  9, 10,\n",
       "            ...\n",
       "            11, 12, 13, 14, 15, 16, 17, 18, 19, 20],\n",
       "           dtype='int64', name='Date', length=2599)"
      ]
     },
     "execution_count": 79,
     "metadata": {},
     "output_type": "execute_result"
    }
   ],
   "source": [
    "btc_usd.index.day\n",
    "\n",
    "# the days of the whole month plus some dayhs of the nexg month"
   ]
  },
  {
   "cell_type": "markdown",
   "metadata": {
    "slideshow": {
     "slide_type": "subslide"
    }
   },
   "source": [
    "We can also do the same if the date/time information is stored in a\n",
    "column, but we have to use a slightly different syntax."
   ]
  },
  {
   "cell_type": "markdown",
   "metadata": {
    "hide-output": false
   },
   "source": [
    "```python\n",
    "df[\"column_name\"].dt.XX\n",
    "```\n"
   ]
  },
  {
   "cell_type": "markdown",
   "metadata": {
    "slideshow": {
     "slide_type": "subslide"
    }
   },
   "source": [
    "Let's see it in action:"
   ]
  },
  {
   "cell_type": "code",
   "execution_count": 80,
   "metadata": {
    "execution": {
     "iopub.execute_input": "2020-11-03T15:04:10.766966Z",
     "iopub.status.busy": "2020-11-03T15:04:10.766684Z",
     "iopub.status.idle": "2020-11-03T15:04:10.783280Z",
     "shell.execute_reply": "2020-11-03T15:04:10.782715Z",
     "shell.execute_reply.started": "2020-11-03T15:04:10.766925Z"
    },
    "hide-output": false
   },
   "outputs": [
    {
     "data": {
      "text/html": [
       "<div>\n",
       "<style scoped>\n",
       "    .dataframe tbody tr th:only-of-type {\n",
       "        vertical-align: middle;\n",
       "    }\n",
       "\n",
       "    .dataframe tbody tr th {\n",
       "        vertical-align: top;\n",
       "    }\n",
       "\n",
       "    .dataframe thead th {\n",
       "        text-align: right;\n",
       "    }\n",
       "</style>\n",
       "<table border=\"1\" class=\"dataframe\">\n",
       "  <thead>\n",
       "    <tr style=\"text-align: right;\">\n",
       "      <th></th>\n",
       "      <th>Date</th>\n",
       "      <th>Open</th>\n",
       "      <th>High</th>\n",
       "      <th>Low</th>\n",
       "      <th>Close</th>\n",
       "      <th>Volume (BTC)</th>\n",
       "      <th>Volume (Currency)</th>\n",
       "      <th>Weighted Price</th>\n",
       "    </tr>\n",
       "  </thead>\n",
       "  <tbody>\n",
       "    <tr>\n",
       "      <th>0</th>\n",
       "      <td>2014-05-01</td>\n",
       "      <td>449.00</td>\n",
       "      <td>465.88</td>\n",
       "      <td>447.97</td>\n",
       "      <td>460.97</td>\n",
       "      <td>9556.037886</td>\n",
       "      <td>4.381969e+06</td>\n",
       "      <td>458.554960</td>\n",
       "    </tr>\n",
       "    <tr>\n",
       "      <th>1</th>\n",
       "      <td>2014-05-02</td>\n",
       "      <td>460.97</td>\n",
       "      <td>462.99</td>\n",
       "      <td>444.51</td>\n",
       "      <td>454.50</td>\n",
       "      <td>8269.891417</td>\n",
       "      <td>3.731061e+06</td>\n",
       "      <td>451.162018</td>\n",
       "    </tr>\n",
       "    <tr>\n",
       "      <th>2</th>\n",
       "      <td>2014-05-03</td>\n",
       "      <td>452.00</td>\n",
       "      <td>454.50</td>\n",
       "      <td>431.00</td>\n",
       "      <td>439.00</td>\n",
       "      <td>7431.626480</td>\n",
       "      <td>3.271086e+06</td>\n",
       "      <td>440.157544</td>\n",
       "    </tr>\n",
       "    <tr>\n",
       "      <th>3</th>\n",
       "      <td>2014-05-04</td>\n",
       "      <td>439.00</td>\n",
       "      <td>442.83</td>\n",
       "      <td>429.55</td>\n",
       "      <td>438.04</td>\n",
       "      <td>5154.407794</td>\n",
       "      <td>2.245293e+06</td>\n",
       "      <td>435.606483</td>\n",
       "    </tr>\n",
       "    <tr>\n",
       "      <th>4</th>\n",
       "      <td>2014-05-05</td>\n",
       "      <td>435.88</td>\n",
       "      <td>445.00</td>\n",
       "      <td>425.00</td>\n",
       "      <td>433.00</td>\n",
       "      <td>8188.082795</td>\n",
       "      <td>3.547855e+06</td>\n",
       "      <td>433.294968</td>\n",
       "    </tr>\n",
       "  </tbody>\n",
       "</table>\n",
       "</div>"
      ],
      "text/plain": [
       "        Date    Open    High     Low   Close  Volume (BTC)  Volume (Currency)  \\\n",
       "0 2014-05-01  449.00  465.88  447.97  460.97   9556.037886       4.381969e+06   \n",
       "1 2014-05-02  460.97  462.99  444.51  454.50   8269.891417       3.731061e+06   \n",
       "2 2014-05-03  452.00  454.50  431.00  439.00   7431.626480       3.271086e+06   \n",
       "3 2014-05-04  439.00  442.83  429.55  438.04   5154.407794       2.245293e+06   \n",
       "4 2014-05-05  435.88  445.00  425.00  433.00   8188.082795       3.547855e+06   \n",
       "\n",
       "   Weighted Price  \n",
       "0      458.554960  \n",
       "1      451.162018  \n",
       "2      440.157544  \n",
       "3      435.606483  \n",
       "4      433.294968  "
      ]
     },
     "execution_count": 80,
     "metadata": {},
     "output_type": "execute_result"
    }
   ],
   "source": [
    "btc_date_column = btc_usd.reset_index()\n",
    "btc_date_column.head()\n",
    "\n",
    "# we put dates from index as columns"
   ]
  },
  {
   "cell_type": "code",
   "execution_count": 81,
   "metadata": {
    "execution": {
     "iopub.execute_input": "2020-11-03T15:04:11.317843Z",
     "iopub.status.busy": "2020-11-03T15:04:11.317593Z",
     "iopub.status.idle": "2020-11-03T15:04:11.324494Z",
     "shell.execute_reply": "2020-11-03T15:04:11.323821Z",
     "shell.execute_reply.started": "2020-11-03T15:04:11.317808Z"
    },
    "hide-output": false
   },
   "outputs": [
    {
     "data": {
      "text/plain": [
       "0    2014\n",
       "1    2014\n",
       "2    2014\n",
       "3    2014\n",
       "4    2014\n",
       "Name: Date, dtype: int64"
      ]
     },
     "execution_count": 81,
     "metadata": {},
     "output_type": "execute_result"
    }
   ],
   "source": [
    "btc_date_column[\"Date\"].dt.year.head()\n",
    "\n",
    "# We can access parts of a date: year\n"
   ]
  },
  {
   "cell_type": "code",
   "execution_count": 82,
   "metadata": {
    "execution": {
     "iopub.execute_input": "2020-11-03T15:04:11.612597Z",
     "iopub.status.busy": "2020-11-03T15:04:11.612330Z",
     "iopub.status.idle": "2020-11-03T15:04:11.618288Z",
     "shell.execute_reply": "2020-11-03T15:04:11.617642Z",
     "shell.execute_reply.started": "2020-11-03T15:04:11.612555Z"
    },
    "hide-output": false
   },
   "outputs": [
    {
     "data": {
      "text/plain": [
       "0    5\n",
       "1    5\n",
       "2    5\n",
       "3    5\n",
       "4    5\n",
       "Name: Date, dtype: int64"
      ]
     },
     "execution_count": 82,
     "metadata": {},
     "output_type": "execute_result"
    }
   ],
   "source": [
    "btc_date_column[\"Date\"].dt.month.head()\n",
    "\n",
    "# We can access parts of a date: month\n"
   ]
  },
  {
   "cell_type": "markdown",
   "metadata": {
    "slideshow": {
     "slide_type": "slide"
    }
   },
   "source": [
    "## Leads and Lags: `df.shift`\n",
    "\n",
    "When doing time series analysis, we often want to compare data at one\n",
    "date against data at another date\n",
    "\n",
    "pandas can help us with this if we leverage the `shift` method\n",
    "\n",
    "Without any additional arguments, `shift()` will move all data\n",
    "*forward* one period, filling the first row with missing data"
   ]
  },
  {
   "cell_type": "code",
   "execution_count": 83,
   "metadata": {
    "execution": {
     "iopub.execute_input": "2020-11-03T15:04:11.937883Z",
     "iopub.status.busy": "2020-11-03T15:04:11.937629Z",
     "iopub.status.idle": "2020-11-03T15:04:11.951140Z",
     "shell.execute_reply": "2020-11-03T15:04:11.950456Z",
     "shell.execute_reply.started": "2020-11-03T15:04:11.937841Z"
    },
    "hide-output": false,
    "slideshow": {
     "slide_type": "subslide"
    }
   },
   "outputs": [
    {
     "data": {
      "text/html": [
       "<div>\n",
       "<style scoped>\n",
       "    .dataframe tbody tr th:only-of-type {\n",
       "        vertical-align: middle;\n",
       "    }\n",
       "\n",
       "    .dataframe tbody tr th {\n",
       "        vertical-align: top;\n",
       "    }\n",
       "\n",
       "    .dataframe thead th {\n",
       "        text-align: right;\n",
       "    }\n",
       "</style>\n",
       "<table border=\"1\" class=\"dataframe\">\n",
       "  <thead>\n",
       "    <tr style=\"text-align: right;\">\n",
       "      <th></th>\n",
       "      <th>Open</th>\n",
       "      <th>High</th>\n",
       "      <th>Low</th>\n",
       "      <th>Close</th>\n",
       "      <th>Volume (BTC)</th>\n",
       "      <th>Volume (Currency)</th>\n",
       "      <th>Weighted Price</th>\n",
       "    </tr>\n",
       "    <tr>\n",
       "      <th>Date</th>\n",
       "      <th></th>\n",
       "      <th></th>\n",
       "      <th></th>\n",
       "      <th></th>\n",
       "      <th></th>\n",
       "      <th></th>\n",
       "      <th></th>\n",
       "    </tr>\n",
       "  </thead>\n",
       "  <tbody>\n",
       "    <tr>\n",
       "      <th>2014-05-01</th>\n",
       "      <td>449.00</td>\n",
       "      <td>465.88</td>\n",
       "      <td>447.97</td>\n",
       "      <td>460.97</td>\n",
       "      <td>9556.037886</td>\n",
       "      <td>4.381969e+06</td>\n",
       "      <td>458.554960</td>\n",
       "    </tr>\n",
       "    <tr>\n",
       "      <th>2014-05-02</th>\n",
       "      <td>460.97</td>\n",
       "      <td>462.99</td>\n",
       "      <td>444.51</td>\n",
       "      <td>454.50</td>\n",
       "      <td>8269.891417</td>\n",
       "      <td>3.731061e+06</td>\n",
       "      <td>451.162018</td>\n",
       "    </tr>\n",
       "    <tr>\n",
       "      <th>2014-05-03</th>\n",
       "      <td>452.00</td>\n",
       "      <td>454.50</td>\n",
       "      <td>431.00</td>\n",
       "      <td>439.00</td>\n",
       "      <td>7431.626480</td>\n",
       "      <td>3.271086e+06</td>\n",
       "      <td>440.157544</td>\n",
       "    </tr>\n",
       "    <tr>\n",
       "      <th>2014-05-04</th>\n",
       "      <td>439.00</td>\n",
       "      <td>442.83</td>\n",
       "      <td>429.55</td>\n",
       "      <td>438.04</td>\n",
       "      <td>5154.407794</td>\n",
       "      <td>2.245293e+06</td>\n",
       "      <td>435.606483</td>\n",
       "    </tr>\n",
       "    <tr>\n",
       "      <th>2014-05-05</th>\n",
       "      <td>435.88</td>\n",
       "      <td>445.00</td>\n",
       "      <td>425.00</td>\n",
       "      <td>433.00</td>\n",
       "      <td>8188.082795</td>\n",
       "      <td>3.547855e+06</td>\n",
       "      <td>433.294968</td>\n",
       "    </tr>\n",
       "  </tbody>\n",
       "</table>\n",
       "</div>"
      ],
      "text/plain": [
       "              Open    High     Low   Close  Volume (BTC)  Volume (Currency)  \\\n",
       "Date                                                                          \n",
       "2014-05-01  449.00  465.88  447.97  460.97   9556.037886       4.381969e+06   \n",
       "2014-05-02  460.97  462.99  444.51  454.50   8269.891417       3.731061e+06   \n",
       "2014-05-03  452.00  454.50  431.00  439.00   7431.626480       3.271086e+06   \n",
       "2014-05-04  439.00  442.83  429.55  438.04   5154.407794       2.245293e+06   \n",
       "2014-05-05  435.88  445.00  425.00  433.00   8188.082795       3.547855e+06   \n",
       "\n",
       "            Weighted Price  \n",
       "Date                        \n",
       "2014-05-01      458.554960  \n",
       "2014-05-02      451.162018  \n",
       "2014-05-03      440.157544  \n",
       "2014-05-04      435.606483  \n",
       "2014-05-05      433.294968  "
      ]
     },
     "execution_count": 83,
     "metadata": {},
     "output_type": "execute_result"
    }
   ],
   "source": [
    "# so we can see the result of shift clearly\n",
    "# if the dates are on the index, this task is going to be difficult\n",
    "\n",
    "btc_usd.head()"
   ]
  },
  {
   "cell_type": "code",
   "execution_count": 84,
   "metadata": {
    "execution": {
     "iopub.execute_input": "2020-11-03T15:04:12.601740Z",
     "iopub.status.busy": "2020-11-03T15:04:12.601479Z",
     "iopub.status.idle": "2020-11-03T15:04:12.615234Z",
     "shell.execute_reply": "2020-11-03T15:04:12.614585Z",
     "shell.execute_reply.started": "2020-11-03T15:04:12.601700Z"
    },
    "hide-output": false
   },
   "outputs": [
    {
     "data": {
      "text/html": [
       "<div>\n",
       "<style scoped>\n",
       "    .dataframe tbody tr th:only-of-type {\n",
       "        vertical-align: middle;\n",
       "    }\n",
       "\n",
       "    .dataframe tbody tr th {\n",
       "        vertical-align: top;\n",
       "    }\n",
       "\n",
       "    .dataframe thead th {\n",
       "        text-align: right;\n",
       "    }\n",
       "</style>\n",
       "<table border=\"1\" class=\"dataframe\">\n",
       "  <thead>\n",
       "    <tr style=\"text-align: right;\">\n",
       "      <th></th>\n",
       "      <th>Open</th>\n",
       "      <th>High</th>\n",
       "      <th>Low</th>\n",
       "      <th>Close</th>\n",
       "      <th>Volume (BTC)</th>\n",
       "      <th>Volume (Currency)</th>\n",
       "      <th>Weighted Price</th>\n",
       "    </tr>\n",
       "    <tr>\n",
       "      <th>Date</th>\n",
       "      <th></th>\n",
       "      <th></th>\n",
       "      <th></th>\n",
       "      <th></th>\n",
       "      <th></th>\n",
       "      <th></th>\n",
       "      <th></th>\n",
       "    </tr>\n",
       "  </thead>\n",
       "  <tbody>\n",
       "    <tr>\n",
       "      <th>2014-05-01</th>\n",
       "      <td>NaN</td>\n",
       "      <td>NaN</td>\n",
       "      <td>NaN</td>\n",
       "      <td>NaN</td>\n",
       "      <td>NaN</td>\n",
       "      <td>NaN</td>\n",
       "      <td>NaN</td>\n",
       "    </tr>\n",
       "    <tr>\n",
       "      <th>2014-05-02</th>\n",
       "      <td>449.00</td>\n",
       "      <td>465.88</td>\n",
       "      <td>447.97</td>\n",
       "      <td>460.97</td>\n",
       "      <td>9556.037886</td>\n",
       "      <td>4.381969e+06</td>\n",
       "      <td>458.554960</td>\n",
       "    </tr>\n",
       "    <tr>\n",
       "      <th>2014-05-03</th>\n",
       "      <td>460.97</td>\n",
       "      <td>462.99</td>\n",
       "      <td>444.51</td>\n",
       "      <td>454.50</td>\n",
       "      <td>8269.891417</td>\n",
       "      <td>3.731061e+06</td>\n",
       "      <td>451.162018</td>\n",
       "    </tr>\n",
       "    <tr>\n",
       "      <th>2014-05-04</th>\n",
       "      <td>452.00</td>\n",
       "      <td>454.50</td>\n",
       "      <td>431.00</td>\n",
       "      <td>439.00</td>\n",
       "      <td>7431.626480</td>\n",
       "      <td>3.271086e+06</td>\n",
       "      <td>440.157544</td>\n",
       "    </tr>\n",
       "    <tr>\n",
       "      <th>2014-05-05</th>\n",
       "      <td>439.00</td>\n",
       "      <td>442.83</td>\n",
       "      <td>429.55</td>\n",
       "      <td>438.04</td>\n",
       "      <td>5154.407794</td>\n",
       "      <td>2.245293e+06</td>\n",
       "      <td>435.606483</td>\n",
       "    </tr>\n",
       "  </tbody>\n",
       "</table>\n",
       "</div>"
      ],
      "text/plain": [
       "              Open    High     Low   Close  Volume (BTC)  Volume (Currency)  \\\n",
       "Date                                                                          \n",
       "2014-05-01     NaN     NaN     NaN     NaN           NaN                NaN   \n",
       "2014-05-02  449.00  465.88  447.97  460.97   9556.037886       4.381969e+06   \n",
       "2014-05-03  460.97  462.99  444.51  454.50   8269.891417       3.731061e+06   \n",
       "2014-05-04  452.00  454.50  431.00  439.00   7431.626480       3.271086e+06   \n",
       "2014-05-05  439.00  442.83  429.55  438.04   5154.407794       2.245293e+06   \n",
       "\n",
       "            Weighted Price  \n",
       "Date                        \n",
       "2014-05-01             NaN  \n",
       "2014-05-02      458.554960  \n",
       "2014-05-03      451.162018  \n",
       "2014-05-04      440.157544  \n",
       "2014-05-05      435.606483  "
      ]
     },
     "execution_count": 84,
     "metadata": {},
     "output_type": "execute_result"
    }
   ],
   "source": [
    "btc_usd.shift().head()\n",
    "\n",
    "# .shift() --> on a datetime index\n",
    "# it will move all data forward one period\n",
    "# Here all the first for rows were moved down. We can see that because there is NaN"
   ]
  },
  {
   "cell_type": "markdown",
   "metadata": {
    "slideshow": {
     "slide_type": "subslide"
    }
   },
   "source": [
    "We can use this to compute the percent change from one day to the next\n",
    "\n",
    "(Quiz: Why does that work? Remember how pandas uses the index to *align*\n",
    "data.)"
   ]
  },
  {
   "cell_type": "code",
   "execution_count": 85,
   "metadata": {
    "execution": {
     "iopub.execute_input": "2020-11-03T15:04:13.634746Z",
     "iopub.status.busy": "2020-11-03T15:04:13.634470Z",
     "iopub.status.idle": "2020-11-03T15:04:13.650366Z",
     "shell.execute_reply": "2020-11-03T15:04:13.649626Z",
     "shell.execute_reply.started": "2020-11-03T15:04:13.634704Z"
    },
    "hide-output": false
   },
   "outputs": [
    {
     "data": {
      "text/html": [
       "<div>\n",
       "<style scoped>\n",
       "    .dataframe tbody tr th:only-of-type {\n",
       "        vertical-align: middle;\n",
       "    }\n",
       "\n",
       "    .dataframe tbody tr th {\n",
       "        vertical-align: top;\n",
       "    }\n",
       "\n",
       "    .dataframe thead th {\n",
       "        text-align: right;\n",
       "    }\n",
       "</style>\n",
       "<table border=\"1\" class=\"dataframe\">\n",
       "  <thead>\n",
       "    <tr style=\"text-align: right;\">\n",
       "      <th></th>\n",
       "      <th>Open</th>\n",
       "      <th>High</th>\n",
       "      <th>Low</th>\n",
       "      <th>Close</th>\n",
       "      <th>Volume (BTC)</th>\n",
       "      <th>Volume (Currency)</th>\n",
       "      <th>Weighted Price</th>\n",
       "    </tr>\n",
       "    <tr>\n",
       "      <th>Date</th>\n",
       "      <th></th>\n",
       "      <th></th>\n",
       "      <th></th>\n",
       "      <th></th>\n",
       "      <th></th>\n",
       "      <th></th>\n",
       "      <th></th>\n",
       "    </tr>\n",
       "  </thead>\n",
       "  <tbody>\n",
       "    <tr>\n",
       "      <th>2014-05-01</th>\n",
       "      <td>NaN</td>\n",
       "      <td>NaN</td>\n",
       "      <td>NaN</td>\n",
       "      <td>NaN</td>\n",
       "      <td>NaN</td>\n",
       "      <td>NaN</td>\n",
       "      <td>NaN</td>\n",
       "    </tr>\n",
       "    <tr>\n",
       "      <th>2014-05-02</th>\n",
       "      <td>0.026659</td>\n",
       "      <td>-0.006203</td>\n",
       "      <td>-0.007724</td>\n",
       "      <td>-0.014036</td>\n",
       "      <td>-0.134590</td>\n",
       "      <td>-0.148542</td>\n",
       "      <td>-0.016122</td>\n",
       "    </tr>\n",
       "    <tr>\n",
       "      <th>2014-05-03</th>\n",
       "      <td>-0.019459</td>\n",
       "      <td>-0.018337</td>\n",
       "      <td>-0.030393</td>\n",
       "      <td>-0.034103</td>\n",
       "      <td>-0.101363</td>\n",
       "      <td>-0.123282</td>\n",
       "      <td>-0.024391</td>\n",
       "    </tr>\n",
       "    <tr>\n",
       "      <th>2014-05-04</th>\n",
       "      <td>-0.028761</td>\n",
       "      <td>-0.025677</td>\n",
       "      <td>-0.003364</td>\n",
       "      <td>-0.002187</td>\n",
       "      <td>-0.306423</td>\n",
       "      <td>-0.313594</td>\n",
       "      <td>-0.010340</td>\n",
       "    </tr>\n",
       "    <tr>\n",
       "      <th>2014-05-05</th>\n",
       "      <td>-0.007107</td>\n",
       "      <td>0.004900</td>\n",
       "      <td>-0.010592</td>\n",
       "      <td>-0.011506</td>\n",
       "      <td>0.588559</td>\n",
       "      <td>0.580130</td>\n",
       "      <td>-0.005306</td>\n",
       "    </tr>\n",
       "  </tbody>\n",
       "</table>\n",
       "</div>"
      ],
      "text/plain": [
       "                Open      High       Low     Close  Volume (BTC)  \\\n",
       "Date                                                               \n",
       "2014-05-01       NaN       NaN       NaN       NaN           NaN   \n",
       "2014-05-02  0.026659 -0.006203 -0.007724 -0.014036     -0.134590   \n",
       "2014-05-03 -0.019459 -0.018337 -0.030393 -0.034103     -0.101363   \n",
       "2014-05-04 -0.028761 -0.025677 -0.003364 -0.002187     -0.306423   \n",
       "2014-05-05 -0.007107  0.004900 -0.010592 -0.011506      0.588559   \n",
       "\n",
       "            Volume (Currency)  Weighted Price  \n",
       "Date                                           \n",
       "2014-05-01                NaN             NaN  \n",
       "2014-05-02          -0.148542       -0.016122  \n",
       "2014-05-03          -0.123282       -0.024391  \n",
       "2014-05-04          -0.313594       -0.010340  \n",
       "2014-05-05           0.580130       -0.005306  "
      ]
     },
     "execution_count": 85,
     "metadata": {},
     "output_type": "execute_result"
    }
   ],
   "source": [
    "((btc_usd - btc_usd.shift()) / btc_usd.shift()).head()\n",
    "\n",
    "# We can use this to compute the percent change from one day to the next\n"
   ]
  },
  {
   "cell_type": "markdown",
   "metadata": {
    "slideshow": {
     "slide_type": "subslide"
    }
   },
   "source": [
    "Setting the first argument to `n` tells pandas to shift the data down\n",
    "`n` rows (apply an `n` period lag)."
   ]
  },
  {
   "cell_type": "code",
   "execution_count": 86,
   "metadata": {
    "execution": {
     "iopub.execute_input": "2020-11-03T15:04:14.597307Z",
     "iopub.status.busy": "2020-11-03T15:04:14.597047Z",
     "iopub.status.idle": "2020-11-03T15:04:14.612143Z",
     "shell.execute_reply": "2020-11-03T15:04:14.611465Z",
     "shell.execute_reply.started": "2020-11-03T15:04:14.597265Z"
    },
    "hide-output": false
   },
   "outputs": [
    {
     "data": {
      "text/html": [
       "<div>\n",
       "<style scoped>\n",
       "    .dataframe tbody tr th:only-of-type {\n",
       "        vertical-align: middle;\n",
       "    }\n",
       "\n",
       "    .dataframe tbody tr th {\n",
       "        vertical-align: top;\n",
       "    }\n",
       "\n",
       "    .dataframe thead th {\n",
       "        text-align: right;\n",
       "    }\n",
       "</style>\n",
       "<table border=\"1\" class=\"dataframe\">\n",
       "  <thead>\n",
       "    <tr style=\"text-align: right;\">\n",
       "      <th></th>\n",
       "      <th>Open</th>\n",
       "      <th>High</th>\n",
       "      <th>Low</th>\n",
       "      <th>Close</th>\n",
       "      <th>Volume (BTC)</th>\n",
       "      <th>Volume (Currency)</th>\n",
       "      <th>Weighted Price</th>\n",
       "    </tr>\n",
       "    <tr>\n",
       "      <th>Date</th>\n",
       "      <th></th>\n",
       "      <th></th>\n",
       "      <th></th>\n",
       "      <th></th>\n",
       "      <th></th>\n",
       "      <th></th>\n",
       "      <th></th>\n",
       "    </tr>\n",
       "  </thead>\n",
       "  <tbody>\n",
       "    <tr>\n",
       "      <th>2014-05-01</th>\n",
       "      <td>NaN</td>\n",
       "      <td>NaN</td>\n",
       "      <td>NaN</td>\n",
       "      <td>NaN</td>\n",
       "      <td>NaN</td>\n",
       "      <td>NaN</td>\n",
       "      <td>NaN</td>\n",
       "    </tr>\n",
       "    <tr>\n",
       "      <th>2014-05-02</th>\n",
       "      <td>NaN</td>\n",
       "      <td>NaN</td>\n",
       "      <td>NaN</td>\n",
       "      <td>NaN</td>\n",
       "      <td>NaN</td>\n",
       "      <td>NaN</td>\n",
       "      <td>NaN</td>\n",
       "    </tr>\n",
       "    <tr>\n",
       "      <th>2014-05-03</th>\n",
       "      <td>NaN</td>\n",
       "      <td>NaN</td>\n",
       "      <td>NaN</td>\n",
       "      <td>NaN</td>\n",
       "      <td>NaN</td>\n",
       "      <td>NaN</td>\n",
       "      <td>NaN</td>\n",
       "    </tr>\n",
       "    <tr>\n",
       "      <th>2014-05-04</th>\n",
       "      <td>449.00</td>\n",
       "      <td>465.88</td>\n",
       "      <td>447.97</td>\n",
       "      <td>460.97</td>\n",
       "      <td>9556.037886</td>\n",
       "      <td>4.381969e+06</td>\n",
       "      <td>458.554960</td>\n",
       "    </tr>\n",
       "    <tr>\n",
       "      <th>2014-05-05</th>\n",
       "      <td>460.97</td>\n",
       "      <td>462.99</td>\n",
       "      <td>444.51</td>\n",
       "      <td>454.50</td>\n",
       "      <td>8269.891417</td>\n",
       "      <td>3.731061e+06</td>\n",
       "      <td>451.162018</td>\n",
       "    </tr>\n",
       "  </tbody>\n",
       "</table>\n",
       "</div>"
      ],
      "text/plain": [
       "              Open    High     Low   Close  Volume (BTC)  Volume (Currency)  \\\n",
       "Date                                                                          \n",
       "2014-05-01     NaN     NaN     NaN     NaN           NaN                NaN   \n",
       "2014-05-02     NaN     NaN     NaN     NaN           NaN                NaN   \n",
       "2014-05-03     NaN     NaN     NaN     NaN           NaN                NaN   \n",
       "2014-05-04  449.00  465.88  447.97  460.97   9556.037886       4.381969e+06   \n",
       "2014-05-05  460.97  462.99  444.51  454.50   8269.891417       3.731061e+06   \n",
       "\n",
       "            Weighted Price  \n",
       "Date                        \n",
       "2014-05-01             NaN  \n",
       "2014-05-02             NaN  \n",
       "2014-05-03             NaN  \n",
       "2014-05-04      458.554960  \n",
       "2014-05-05      451.162018  "
      ]
     },
     "execution_count": 86,
     "metadata": {},
     "output_type": "execute_result"
    }
   ],
   "source": [
    "btc_usd.shift(3).head()\n",
    "\n",
    "# SHIFTING BY THREE ROWS"
   ]
  },
  {
   "cell_type": "markdown",
   "metadata": {
    "slideshow": {
     "slide_type": "subslide"
    }
   },
   "source": [
    "A negative value will shift the data *up* or apply a lead."
   ]
  },
  {
   "cell_type": "code",
   "execution_count": 87,
   "metadata": {
    "execution": {
     "iopub.execute_input": "2020-11-03T15:04:15.193837Z",
     "iopub.status.busy": "2020-11-03T15:04:15.193578Z",
     "iopub.status.idle": "2020-11-03T15:04:15.208540Z",
     "shell.execute_reply": "2020-11-03T15:04:15.207953Z",
     "shell.execute_reply.started": "2020-11-03T15:04:15.193799Z"
    },
    "hide-output": false
   },
   "outputs": [
    {
     "data": {
      "text/html": [
       "<div>\n",
       "<style scoped>\n",
       "    .dataframe tbody tr th:only-of-type {\n",
       "        vertical-align: middle;\n",
       "    }\n",
       "\n",
       "    .dataframe tbody tr th {\n",
       "        vertical-align: top;\n",
       "    }\n",
       "\n",
       "    .dataframe thead th {\n",
       "        text-align: right;\n",
       "    }\n",
       "</style>\n",
       "<table border=\"1\" class=\"dataframe\">\n",
       "  <thead>\n",
       "    <tr style=\"text-align: right;\">\n",
       "      <th></th>\n",
       "      <th>Open</th>\n",
       "      <th>High</th>\n",
       "      <th>Low</th>\n",
       "      <th>Close</th>\n",
       "      <th>Volume (BTC)</th>\n",
       "      <th>Volume (Currency)</th>\n",
       "      <th>Weighted Price</th>\n",
       "    </tr>\n",
       "    <tr>\n",
       "      <th>Date</th>\n",
       "      <th></th>\n",
       "      <th></th>\n",
       "      <th></th>\n",
       "      <th></th>\n",
       "      <th></th>\n",
       "      <th></th>\n",
       "      <th></th>\n",
       "    </tr>\n",
       "  </thead>\n",
       "  <tbody>\n",
       "    <tr>\n",
       "      <th>2014-05-01</th>\n",
       "      <td>452.00</td>\n",
       "      <td>454.50</td>\n",
       "      <td>431.00</td>\n",
       "      <td>439.00</td>\n",
       "      <td>7431.626480</td>\n",
       "      <td>3.271086e+06</td>\n",
       "      <td>440.157544</td>\n",
       "    </tr>\n",
       "    <tr>\n",
       "      <th>2014-05-02</th>\n",
       "      <td>439.00</td>\n",
       "      <td>442.83</td>\n",
       "      <td>429.55</td>\n",
       "      <td>438.04</td>\n",
       "      <td>5154.407794</td>\n",
       "      <td>2.245293e+06</td>\n",
       "      <td>435.606483</td>\n",
       "    </tr>\n",
       "    <tr>\n",
       "      <th>2014-05-03</th>\n",
       "      <td>435.88</td>\n",
       "      <td>445.00</td>\n",
       "      <td>425.00</td>\n",
       "      <td>433.00</td>\n",
       "      <td>8188.082795</td>\n",
       "      <td>3.547855e+06</td>\n",
       "      <td>433.294968</td>\n",
       "    </tr>\n",
       "    <tr>\n",
       "      <th>2014-05-04</th>\n",
       "      <td>431.64</td>\n",
       "      <td>434.00</td>\n",
       "      <td>420.27</td>\n",
       "      <td>428.01</td>\n",
       "      <td>8041.198415</td>\n",
       "      <td>3.439331e+06</td>\n",
       "      <td>427.713734</td>\n",
       "    </tr>\n",
       "    <tr>\n",
       "      <th>2014-05-05</th>\n",
       "      <td>429.00</td>\n",
       "      <td>452.00</td>\n",
       "      <td>425.67</td>\n",
       "      <td>440.00</td>\n",
       "      <td>13248.349023</td>\n",
       "      <td>5.842712e+06</td>\n",
       "      <td>441.014383</td>\n",
       "    </tr>\n",
       "  </tbody>\n",
       "</table>\n",
       "</div>"
      ],
      "text/plain": [
       "              Open    High     Low   Close  Volume (BTC)  Volume (Currency)  \\\n",
       "Date                                                                          \n",
       "2014-05-01  452.00  454.50  431.00  439.00   7431.626480       3.271086e+06   \n",
       "2014-05-02  439.00  442.83  429.55  438.04   5154.407794       2.245293e+06   \n",
       "2014-05-03  435.88  445.00  425.00  433.00   8188.082795       3.547855e+06   \n",
       "2014-05-04  431.64  434.00  420.27  428.01   8041.198415       3.439331e+06   \n",
       "2014-05-05  429.00  452.00  425.67  440.00  13248.349023       5.842712e+06   \n",
       "\n",
       "            Weighted Price  \n",
       "Date                        \n",
       "2014-05-01      440.157544  \n",
       "2014-05-02      435.606483  \n",
       "2014-05-03      433.294968  \n",
       "2014-05-04      427.713734  \n",
       "2014-05-05      441.014383  "
      ]
     },
     "execution_count": 87,
     "metadata": {},
     "output_type": "execute_result"
    }
   ],
   "source": [
    "btc_usd.shift(-2).head()\n",
    "\n",
    "# if we shit up and don't see any change then it is the caase that that i should look at the tail"
   ]
  },
  {
   "cell_type": "code",
   "execution_count": 88,
   "metadata": {
    "execution": {
     "iopub.execute_input": "2020-11-03T15:04:15.482609Z",
     "iopub.status.busy": "2020-11-03T15:04:15.482345Z",
     "iopub.status.idle": "2020-11-03T15:04:15.497365Z",
     "shell.execute_reply": "2020-11-03T15:04:15.496643Z",
     "shell.execute_reply.started": "2020-11-03T15:04:15.482567Z"
    },
    "hide-output": false
   },
   "outputs": [
    {
     "data": {
      "text/html": [
       "<div>\n",
       "<style scoped>\n",
       "    .dataframe tbody tr th:only-of-type {\n",
       "        vertical-align: middle;\n",
       "    }\n",
       "\n",
       "    .dataframe tbody tr th {\n",
       "        vertical-align: top;\n",
       "    }\n",
       "\n",
       "    .dataframe thead th {\n",
       "        text-align: right;\n",
       "    }\n",
       "</style>\n",
       "<table border=\"1\" class=\"dataframe\">\n",
       "  <thead>\n",
       "    <tr style=\"text-align: right;\">\n",
       "      <th></th>\n",
       "      <th>Open</th>\n",
       "      <th>High</th>\n",
       "      <th>Low</th>\n",
       "      <th>Close</th>\n",
       "      <th>Volume (BTC)</th>\n",
       "      <th>Volume (Currency)</th>\n",
       "      <th>Weighted Price</th>\n",
       "    </tr>\n",
       "    <tr>\n",
       "      <th>Date</th>\n",
       "      <th></th>\n",
       "      <th></th>\n",
       "      <th></th>\n",
       "      <th></th>\n",
       "      <th></th>\n",
       "      <th></th>\n",
       "      <th></th>\n",
       "    </tr>\n",
       "  </thead>\n",
       "  <tbody>\n",
       "    <tr>\n",
       "      <th>2021-06-16</th>\n",
       "      <td>38110.25</td>\n",
       "      <td>38208.68</td>\n",
       "      <td>35143.68</td>\n",
       "      <td>35840.00</td>\n",
       "      <td>4240.404867</td>\n",
       "      <td>1.560566e+08</td>\n",
       "      <td>36802.295855</td>\n",
       "    </tr>\n",
       "    <tr>\n",
       "      <th>2021-06-17</th>\n",
       "      <td>35849.18</td>\n",
       "      <td>36440.00</td>\n",
       "      <td>34718.21</td>\n",
       "      <td>35507.06</td>\n",
       "      <td>3129.334722</td>\n",
       "      <td>1.118542e+08</td>\n",
       "      <td>35743.751401</td>\n",
       "    </tr>\n",
       "    <tr>\n",
       "      <th>2021-06-18</th>\n",
       "      <td>35494.70</td>\n",
       "      <td>36125.00</td>\n",
       "      <td>33337.00</td>\n",
       "      <td>35675.47</td>\n",
       "      <td>3865.408811</td>\n",
       "      <td>1.344830e+08</td>\n",
       "      <td>34791.393581</td>\n",
       "    </tr>\n",
       "    <tr>\n",
       "      <th>2021-06-19</th>\n",
       "      <td>NaN</td>\n",
       "      <td>NaN</td>\n",
       "      <td>NaN</td>\n",
       "      <td>NaN</td>\n",
       "      <td>NaN</td>\n",
       "      <td>NaN</td>\n",
       "      <td>NaN</td>\n",
       "    </tr>\n",
       "    <tr>\n",
       "      <th>2021-06-20</th>\n",
       "      <td>NaN</td>\n",
       "      <td>NaN</td>\n",
       "      <td>NaN</td>\n",
       "      <td>NaN</td>\n",
       "      <td>NaN</td>\n",
       "      <td>NaN</td>\n",
       "      <td>NaN</td>\n",
       "    </tr>\n",
       "  </tbody>\n",
       "</table>\n",
       "</div>"
      ],
      "text/plain": [
       "                Open      High       Low     Close  Volume (BTC)  \\\n",
       "Date                                                               \n",
       "2021-06-16  38110.25  38208.68  35143.68  35840.00   4240.404867   \n",
       "2021-06-17  35849.18  36440.00  34718.21  35507.06   3129.334722   \n",
       "2021-06-18  35494.70  36125.00  33337.00  35675.47   3865.408811   \n",
       "2021-06-19       NaN       NaN       NaN       NaN           NaN   \n",
       "2021-06-20       NaN       NaN       NaN       NaN           NaN   \n",
       "\n",
       "            Volume (Currency)  Weighted Price  \n",
       "Date                                           \n",
       "2021-06-16       1.560566e+08    36802.295855  \n",
       "2021-06-17       1.118542e+08    35743.751401  \n",
       "2021-06-18       1.344830e+08    34791.393581  \n",
       "2021-06-19                NaN             NaN  \n",
       "2021-06-20                NaN             NaN  "
      ]
     },
     "execution_count": 88,
     "metadata": {},
     "output_type": "execute_result"
    }
   ],
   "source": [
    "btc_usd.shift(-2).tail()"
   ]
  },
  {
   "cell_type": "markdown",
   "metadata": {
    "slideshow": {
     "slide_type": "subslide"
    }
   },
   "source": [
    "\n",
    "<a id='exercise-3'></a>\n",
    "**Exercise 4**\n",
    "\n",
    "Using the `shift` function, determine the week with the largest percent change\n",
    "in the volume of trades (the `\"Volume (BTC)\"` column).\n",
    "\n",
    "Repeat the analysis at the bi-weekly and monthly frequencies.\n",
    "\n",
    "Hint 1: We have data at a *daily* frequency and one week is `7` days.\n",
    "\n",
    "Hint 2: Approximate a month by 30 days."
   ]
  },
  {
   "cell_type": "code",
   "execution_count": 89,
   "metadata": {
    "execution": {
     "iopub.execute_input": "2020-11-03T15:04:16.101157Z",
     "iopub.status.busy": "2020-11-03T15:04:16.100895Z",
     "iopub.status.idle": "2020-11-03T15:04:16.104426Z",
     "shell.execute_reply": "2020-11-03T15:04:16.103643Z",
     "shell.execute_reply.started": "2020-11-03T15:04:16.101116Z"
    },
    "hide-output": false
   },
   "outputs": [
    {
     "data": {
      "text/plain": [
       "count      2589.000000\n",
       "mean       9957.221281\n",
       "std        8141.754289\n",
       "min          -1.000000\n",
       "25%        4657.709626\n",
       "50%        7657.871602\n",
       "75%       12586.633922\n",
       "max      105958.259141\n",
       "Name: Volume (BTC), dtype: float64"
      ]
     },
     "execution_count": 89,
     "metadata": {},
     "output_type": "execute_result"
    }
   ],
   "source": [
    "pct_change1 = btc_usd - btc_usd.shift(7) / btc_usd.shift(7)\n",
    "pct_change1[\"Volume (BTC)\"].describe()\n"
   ]
  },
  {
   "cell_type": "code",
   "execution_count": 90,
   "metadata": {},
   "outputs": [
    {
     "data": {
      "text/plain": [
       "552"
      ]
     },
     "execution_count": 90,
     "metadata": {},
     "output_type": "execute_result"
    }
   ],
   "source": [
    "import numpy as np\n",
    "pct_change1[\"Volume (BTC)\"].argmax()"
   ]
  },
  {
   "cell_type": "code",
   "execution_count": 91,
   "metadata": {},
   "outputs": [
    {
     "data": {
      "text/html": [
       "<div>\n",
       "<style scoped>\n",
       "    .dataframe tbody tr th:only-of-type {\n",
       "        vertical-align: middle;\n",
       "    }\n",
       "\n",
       "    .dataframe tbody tr th {\n",
       "        vertical-align: top;\n",
       "    }\n",
       "\n",
       "    .dataframe thead th {\n",
       "        text-align: right;\n",
       "    }\n",
       "</style>\n",
       "<table border=\"1\" class=\"dataframe\">\n",
       "  <thead>\n",
       "    <tr style=\"text-align: right;\">\n",
       "      <th></th>\n",
       "      <th>Open</th>\n",
       "      <th>High</th>\n",
       "      <th>Low</th>\n",
       "      <th>Close</th>\n",
       "      <th>Volume (BTC)</th>\n",
       "      <th>Volume (Currency)</th>\n",
       "      <th>Weighted Price</th>\n",
       "    </tr>\n",
       "    <tr>\n",
       "      <th>Date</th>\n",
       "      <th></th>\n",
       "      <th></th>\n",
       "      <th></th>\n",
       "      <th></th>\n",
       "      <th></th>\n",
       "      <th></th>\n",
       "      <th></th>\n",
       "    </tr>\n",
       "  </thead>\n",
       "  <tbody>\n",
       "    <tr>\n",
       "      <th>2014-05-01</th>\n",
       "      <td>449.00</td>\n",
       "      <td>465.88</td>\n",
       "      <td>447.97</td>\n",
       "      <td>460.97</td>\n",
       "      <td>9556.037886</td>\n",
       "      <td>4.381969e+06</td>\n",
       "      <td>458.554960</td>\n",
       "    </tr>\n",
       "    <tr>\n",
       "      <th>2014-05-02</th>\n",
       "      <td>460.97</td>\n",
       "      <td>462.99</td>\n",
       "      <td>444.51</td>\n",
       "      <td>454.50</td>\n",
       "      <td>8269.891417</td>\n",
       "      <td>3.731061e+06</td>\n",
       "      <td>451.162018</td>\n",
       "    </tr>\n",
       "    <tr>\n",
       "      <th>2014-05-03</th>\n",
       "      <td>452.00</td>\n",
       "      <td>454.50</td>\n",
       "      <td>431.00</td>\n",
       "      <td>439.00</td>\n",
       "      <td>7431.626480</td>\n",
       "      <td>3.271086e+06</td>\n",
       "      <td>440.157544</td>\n",
       "    </tr>\n",
       "    <tr>\n",
       "      <th>2014-05-04</th>\n",
       "      <td>439.00</td>\n",
       "      <td>442.83</td>\n",
       "      <td>429.55</td>\n",
       "      <td>438.04</td>\n",
       "      <td>5154.407794</td>\n",
       "      <td>2.245293e+06</td>\n",
       "      <td>435.606483</td>\n",
       "    </tr>\n",
       "    <tr>\n",
       "      <th>2014-05-05</th>\n",
       "      <td>435.88</td>\n",
       "      <td>445.00</td>\n",
       "      <td>425.00</td>\n",
       "      <td>433.00</td>\n",
       "      <td>8188.082795</td>\n",
       "      <td>3.547855e+06</td>\n",
       "      <td>433.294968</td>\n",
       "    </tr>\n",
       "    <tr>\n",
       "      <th>...</th>\n",
       "      <td>...</td>\n",
       "      <td>...</td>\n",
       "      <td>...</td>\n",
       "      <td>...</td>\n",
       "      <td>...</td>\n",
       "      <td>...</td>\n",
       "      <td>...</td>\n",
       "    </tr>\n",
       "    <tr>\n",
       "      <th>2021-06-16</th>\n",
       "      <td>40166.93</td>\n",
       "      <td>40506.59</td>\n",
       "      <td>38095.41</td>\n",
       "      <td>38353.99</td>\n",
       "      <td>4008.512964</td>\n",
       "      <td>1.574020e+08</td>\n",
       "      <td>39266.920444</td>\n",
       "    </tr>\n",
       "    <tr>\n",
       "      <th>2021-06-17</th>\n",
       "      <td>38361.38</td>\n",
       "      <td>39553.05</td>\n",
       "      <td>37350.00</td>\n",
       "      <td>38097.68</td>\n",
       "      <td>3569.252616</td>\n",
       "      <td>1.372355e+08</td>\n",
       "      <td>38449.364210</td>\n",
       "    </tr>\n",
       "    <tr>\n",
       "      <th>2021-06-18</th>\n",
       "      <td>38110.25</td>\n",
       "      <td>38208.68</td>\n",
       "      <td>35143.68</td>\n",
       "      <td>35840.00</td>\n",
       "      <td>4240.404867</td>\n",
       "      <td>1.560566e+08</td>\n",
       "      <td>36802.295855</td>\n",
       "    </tr>\n",
       "    <tr>\n",
       "      <th>2021-06-19</th>\n",
       "      <td>35849.18</td>\n",
       "      <td>36440.00</td>\n",
       "      <td>34718.21</td>\n",
       "      <td>35507.06</td>\n",
       "      <td>3129.334722</td>\n",
       "      <td>1.118542e+08</td>\n",
       "      <td>35743.751401</td>\n",
       "    </tr>\n",
       "    <tr>\n",
       "      <th>2021-06-20</th>\n",
       "      <td>35494.70</td>\n",
       "      <td>36125.00</td>\n",
       "      <td>33337.00</td>\n",
       "      <td>35675.47</td>\n",
       "      <td>3865.408811</td>\n",
       "      <td>1.344830e+08</td>\n",
       "      <td>34791.393581</td>\n",
       "    </tr>\n",
       "  </tbody>\n",
       "</table>\n",
       "<p>2599 rows × 7 columns</p>\n",
       "</div>"
      ],
      "text/plain": [
       "                Open      High       Low     Close  Volume (BTC)  \\\n",
       "Date                                                               \n",
       "2014-05-01    449.00    465.88    447.97    460.97   9556.037886   \n",
       "2014-05-02    460.97    462.99    444.51    454.50   8269.891417   \n",
       "2014-05-03    452.00    454.50    431.00    439.00   7431.626480   \n",
       "2014-05-04    439.00    442.83    429.55    438.04   5154.407794   \n",
       "2014-05-05    435.88    445.00    425.00    433.00   8188.082795   \n",
       "...              ...       ...       ...       ...           ...   \n",
       "2021-06-16  40166.93  40506.59  38095.41  38353.99   4008.512964   \n",
       "2021-06-17  38361.38  39553.05  37350.00  38097.68   3569.252616   \n",
       "2021-06-18  38110.25  38208.68  35143.68  35840.00   4240.404867   \n",
       "2021-06-19  35849.18  36440.00  34718.21  35507.06   3129.334722   \n",
       "2021-06-20  35494.70  36125.00  33337.00  35675.47   3865.408811   \n",
       "\n",
       "            Volume (Currency)  Weighted Price  \n",
       "Date                                           \n",
       "2014-05-01       4.381969e+06      458.554960  \n",
       "2014-05-02       3.731061e+06      451.162018  \n",
       "2014-05-03       3.271086e+06      440.157544  \n",
       "2014-05-04       2.245293e+06      435.606483  \n",
       "2014-05-05       3.547855e+06      433.294968  \n",
       "...                       ...             ...  \n",
       "2021-06-16       1.574020e+08    39266.920444  \n",
       "2021-06-17       1.372355e+08    38449.364210  \n",
       "2021-06-18       1.560566e+08    36802.295855  \n",
       "2021-06-19       1.118542e+08    35743.751401  \n",
       "2021-06-20       1.344830e+08    34791.393581  \n",
       "\n",
       "[2599 rows x 7 columns]"
      ]
     },
     "execution_count": 91,
     "metadata": {},
     "output_type": "execute_result"
    }
   ],
   "source": [
    "btc_usd"
   ]
  },
  {
   "cell_type": "code",
   "execution_count": 137,
   "metadata": {},
   "outputs": [
    {
     "name": "stdout",
     "output_type": "stream",
     "text": [
      "371.2857142857143\n",
      "78.85714285714286\n"
     ]
    }
   ],
   "source": [
    "week1 = 2599 / 7\n",
    "week_sol1 = 552 / 7\n",
    "print(week1)\n",
    "print(week_sol1)\n",
    "\n",
    "# total weeks\n",
    "# 78th week\n"
   ]
  },
  {
   "cell_type": "code",
   "execution_count": 138,
   "metadata": {},
   "outputs": [],
   "source": [
    "# pct_change[\"105958.259141\", [\"Date\"]]\n",
    "# didnt work"
   ]
  },
  {
   "cell_type": "code",
   "execution_count": 139,
   "metadata": {},
   "outputs": [
    {
     "data": {
      "text/plain": [
       "count      2582.000000\n",
       "mean      10046.567466\n",
       "std        8625.168161\n",
       "min          -1.000000\n",
       "25%        4657.762572\n",
       "50%        7665.338390\n",
       "75%       12651.962703\n",
       "max      124187.885083\n",
       "Name: Volume (BTC), dtype: float64"
      ]
     },
     "execution_count": 139,
     "metadata": {},
     "output_type": "execute_result"
    }
   ],
   "source": [
    "pct_change2 = btc_usd - btc_usd.shift(14) / btc_usd.shift(14)\n",
    "pct_change2[\"Volume (BTC)\"].describe()"
   ]
  },
  {
   "cell_type": "code",
   "execution_count": 140,
   "metadata": {},
   "outputs": [
    {
     "data": {
      "text/plain": [
       "258"
      ]
     },
     "execution_count": 140,
     "metadata": {},
     "output_type": "execute_result"
    }
   ],
   "source": [
    "pct_change2[\"Volume (BTC)\"].argmax()"
   ]
  },
  {
   "cell_type": "code",
   "execution_count": 141,
   "metadata": {},
   "outputs": [
    {
     "name": "stdout",
     "output_type": "stream",
     "text": [
      "185.64285714285714\n",
      "18.428571428571427\n"
     ]
    }
   ],
   "source": [
    "week2 = 2599 / 14\n",
    "week_sol2 = 258 / 14\n",
    "print(week2)\n",
    "print(week_sol2)\n",
    "\n",
    "# total biweeks\n",
    "# 18th bi-week"
   ]
  },
  {
   "cell_type": "code",
   "execution_count": 142,
   "metadata": {},
   "outputs": [
    {
     "data": {
      "text/plain": [
       "count      2566.000000\n",
       "mean      10047.523312\n",
       "std        8637.377989\n",
       "min          -1.000000\n",
       "25%        4657.354723\n",
       "50%        7660.881265\n",
       "75%       12651.962703\n",
       "max      124187.885083\n",
       "Name: Volume (BTC), dtype: float64"
      ]
     },
     "execution_count": 142,
     "metadata": {},
     "output_type": "execute_result"
    }
   ],
   "source": [
    "pct_change3 = btc_usd - btc_usd.shift(30) / btc_usd.shift(30)\n",
    "pct_change3[\"Volume (BTC)\"].describe()"
   ]
  },
  {
   "cell_type": "code",
   "execution_count": 143,
   "metadata": {},
   "outputs": [
    {
     "data": {
      "text/plain": [
       "258"
      ]
     },
     "execution_count": 143,
     "metadata": {},
     "output_type": "execute_result"
    }
   ],
   "source": [
    "pct_change3[\"Volume (BTC)\"].argmax()"
   ]
  },
  {
   "cell_type": "code",
   "execution_count": 144,
   "metadata": {},
   "outputs": [
    {
     "name": "stdout",
     "output_type": "stream",
     "text": [
      "86.63333333333334\n",
      "8.6\n"
     ]
    }
   ],
   "source": [
    "week3 = 2599 / 30\n",
    "week_sol3 = 258 / 30\n",
    "print(week3)\n",
    "print(week_sol3)\n",
    "\n",
    "# total months\n",
    "# 8th month"
   ]
  },
  {
   "cell_type": "markdown",
   "metadata": {
    "slideshow": {
     "slide_type": "slide"
    }
   },
   "source": [
    "## Rolling Computations: `.rolling`\n",
    "\n",
    "pandas has facilities that enable easy computation of *rolling\n",
    "statistics*.\n",
    "\n",
    "These are best understood by example, so we will dive right in."
   ]
  },
  {
   "cell_type": "code",
   "execution_count": 100,
   "metadata": {
    "execution": {
     "iopub.execute_input": "2020-11-03T15:04:17.140415Z",
     "iopub.status.busy": "2020-11-03T15:04:17.140155Z",
     "iopub.status.idle": "2020-11-03T15:04:17.154281Z",
     "shell.execute_reply": "2020-11-03T15:04:17.153595Z",
     "shell.execute_reply.started": "2020-11-03T15:04:17.140377Z"
    },
    "hide-output": false
   },
   "outputs": [
    {
     "data": {
      "text/html": [
       "<div>\n",
       "<style scoped>\n",
       "    .dataframe tbody tr th:only-of-type {\n",
       "        vertical-align: middle;\n",
       "    }\n",
       "\n",
       "    .dataframe tbody tr th {\n",
       "        vertical-align: top;\n",
       "    }\n",
       "\n",
       "    .dataframe thead th {\n",
       "        text-align: right;\n",
       "    }\n",
       "</style>\n",
       "<table border=\"1\" class=\"dataframe\">\n",
       "  <thead>\n",
       "    <tr style=\"text-align: right;\">\n",
       "      <th></th>\n",
       "      <th>Open</th>\n",
       "      <th>High</th>\n",
       "      <th>Low</th>\n",
       "      <th>Close</th>\n",
       "      <th>Volume (BTC)</th>\n",
       "      <th>Volume (Currency)</th>\n",
       "      <th>Weighted Price</th>\n",
       "    </tr>\n",
       "    <tr>\n",
       "      <th>Date</th>\n",
       "      <th></th>\n",
       "      <th></th>\n",
       "      <th></th>\n",
       "      <th></th>\n",
       "      <th></th>\n",
       "      <th></th>\n",
       "      <th></th>\n",
       "    </tr>\n",
       "  </thead>\n",
       "  <tbody>\n",
       "    <tr>\n",
       "      <th>2014-05-01</th>\n",
       "      <td>449.00</td>\n",
       "      <td>465.88</td>\n",
       "      <td>447.97</td>\n",
       "      <td>460.97</td>\n",
       "      <td>9556.037886</td>\n",
       "      <td>4.381969e+06</td>\n",
       "      <td>458.554960</td>\n",
       "    </tr>\n",
       "    <tr>\n",
       "      <th>2014-05-02</th>\n",
       "      <td>460.97</td>\n",
       "      <td>462.99</td>\n",
       "      <td>444.51</td>\n",
       "      <td>454.50</td>\n",
       "      <td>8269.891417</td>\n",
       "      <td>3.731061e+06</td>\n",
       "      <td>451.162018</td>\n",
       "    </tr>\n",
       "    <tr>\n",
       "      <th>2014-05-03</th>\n",
       "      <td>452.00</td>\n",
       "      <td>454.50</td>\n",
       "      <td>431.00</td>\n",
       "      <td>439.00</td>\n",
       "      <td>7431.626480</td>\n",
       "      <td>3.271086e+06</td>\n",
       "      <td>440.157544</td>\n",
       "    </tr>\n",
       "    <tr>\n",
       "      <th>2014-05-04</th>\n",
       "      <td>439.00</td>\n",
       "      <td>442.83</td>\n",
       "      <td>429.55</td>\n",
       "      <td>438.04</td>\n",
       "      <td>5154.407794</td>\n",
       "      <td>2.245293e+06</td>\n",
       "      <td>435.606483</td>\n",
       "    </tr>\n",
       "    <tr>\n",
       "      <th>2014-05-05</th>\n",
       "      <td>435.88</td>\n",
       "      <td>445.00</td>\n",
       "      <td>425.00</td>\n",
       "      <td>433.00</td>\n",
       "      <td>8188.082795</td>\n",
       "      <td>3.547855e+06</td>\n",
       "      <td>433.294968</td>\n",
       "    </tr>\n",
       "    <tr>\n",
       "      <th>2014-05-06</th>\n",
       "      <td>431.64</td>\n",
       "      <td>434.00</td>\n",
       "      <td>420.27</td>\n",
       "      <td>428.01</td>\n",
       "      <td>8041.198415</td>\n",
       "      <td>3.439331e+06</td>\n",
       "      <td>427.713734</td>\n",
       "    </tr>\n",
       "  </tbody>\n",
       "</table>\n",
       "</div>"
      ],
      "text/plain": [
       "              Open    High     Low   Close  Volume (BTC)  Volume (Currency)  \\\n",
       "Date                                                                          \n",
       "2014-05-01  449.00  465.88  447.97  460.97   9556.037886       4.381969e+06   \n",
       "2014-05-02  460.97  462.99  444.51  454.50   8269.891417       3.731061e+06   \n",
       "2014-05-03  452.00  454.50  431.00  439.00   7431.626480       3.271086e+06   \n",
       "2014-05-04  439.00  442.83  429.55  438.04   5154.407794       2.245293e+06   \n",
       "2014-05-05  435.88  445.00  425.00  433.00   8188.082795       3.547855e+06   \n",
       "2014-05-06  431.64  434.00  420.27  428.01   8041.198415       3.439331e+06   \n",
       "\n",
       "            Weighted Price  \n",
       "Date                        \n",
       "2014-05-01      458.554960  \n",
       "2014-05-02      451.162018  \n",
       "2014-05-03      440.157544  \n",
       "2014-05-04      435.606483  \n",
       "2014-05-05      433.294968  \n",
       "2014-05-06      427.713734  "
      ]
     },
     "execution_count": 100,
     "metadata": {},
     "output_type": "execute_result"
    }
   ],
   "source": [
    "# first take only the first 6 rows so we can easily see what is going on\n",
    "btc_small = btc_usd.head(6)\n",
    "btc_small"
   ]
  },
  {
   "cell_type": "markdown",
   "metadata": {
    "slideshow": {
     "slide_type": "subslide"
    }
   },
   "source": [
    "Below, we compute the 2 day moving average (for all columns)."
   ]
  },
  {
   "cell_type": "code",
   "execution_count": 101,
   "metadata": {
    "execution": {
     "iopub.execute_input": "2020-11-03T15:04:18.083366Z",
     "iopub.status.busy": "2020-11-03T15:04:18.083046Z",
     "iopub.status.idle": "2020-11-03T15:04:18.100437Z",
     "shell.execute_reply": "2020-11-03T15:04:18.099748Z",
     "shell.execute_reply.started": "2020-11-03T15:04:18.083315Z"
    },
    "hide-output": false
   },
   "outputs": [
    {
     "data": {
      "text/html": [
       "<div>\n",
       "<style scoped>\n",
       "    .dataframe tbody tr th:only-of-type {\n",
       "        vertical-align: middle;\n",
       "    }\n",
       "\n",
       "    .dataframe tbody tr th {\n",
       "        vertical-align: top;\n",
       "    }\n",
       "\n",
       "    .dataframe thead th {\n",
       "        text-align: right;\n",
       "    }\n",
       "</style>\n",
       "<table border=\"1\" class=\"dataframe\">\n",
       "  <thead>\n",
       "    <tr style=\"text-align: right;\">\n",
       "      <th></th>\n",
       "      <th>Open</th>\n",
       "      <th>High</th>\n",
       "      <th>Low</th>\n",
       "      <th>Close</th>\n",
       "      <th>Volume (BTC)</th>\n",
       "      <th>Volume (Currency)</th>\n",
       "      <th>Weighted Price</th>\n",
       "    </tr>\n",
       "    <tr>\n",
       "      <th>Date</th>\n",
       "      <th></th>\n",
       "      <th></th>\n",
       "      <th></th>\n",
       "      <th></th>\n",
       "      <th></th>\n",
       "      <th></th>\n",
       "      <th></th>\n",
       "    </tr>\n",
       "  </thead>\n",
       "  <tbody>\n",
       "    <tr>\n",
       "      <th>2014-05-01</th>\n",
       "      <td>449.000</td>\n",
       "      <td>465.880</td>\n",
       "      <td>447.970</td>\n",
       "      <td>460.970</td>\n",
       "      <td>9556.037886</td>\n",
       "      <td>4.381969e+06</td>\n",
       "      <td>458.554960</td>\n",
       "    </tr>\n",
       "    <tr>\n",
       "      <th>2014-05-02</th>\n",
       "      <td>454.985</td>\n",
       "      <td>464.435</td>\n",
       "      <td>446.240</td>\n",
       "      <td>457.735</td>\n",
       "      <td>8912.964652</td>\n",
       "      <td>4.056515e+06</td>\n",
       "      <td>454.858489</td>\n",
       "    </tr>\n",
       "    <tr>\n",
       "      <th>2014-05-03</th>\n",
       "      <td>456.485</td>\n",
       "      <td>458.745</td>\n",
       "      <td>437.755</td>\n",
       "      <td>446.750</td>\n",
       "      <td>7850.758948</td>\n",
       "      <td>3.501074e+06</td>\n",
       "      <td>445.659781</td>\n",
       "    </tr>\n",
       "    <tr>\n",
       "      <th>2014-05-04</th>\n",
       "      <td>445.500</td>\n",
       "      <td>448.665</td>\n",
       "      <td>430.275</td>\n",
       "      <td>438.520</td>\n",
       "      <td>6293.017137</td>\n",
       "      <td>2.758190e+06</td>\n",
       "      <td>437.882013</td>\n",
       "    </tr>\n",
       "    <tr>\n",
       "      <th>2014-05-05</th>\n",
       "      <td>437.440</td>\n",
       "      <td>443.915</td>\n",
       "      <td>427.275</td>\n",
       "      <td>435.520</td>\n",
       "      <td>6671.245295</td>\n",
       "      <td>2.896574e+06</td>\n",
       "      <td>434.450725</td>\n",
       "    </tr>\n",
       "    <tr>\n",
       "      <th>2014-05-06</th>\n",
       "      <td>433.760</td>\n",
       "      <td>439.500</td>\n",
       "      <td>422.635</td>\n",
       "      <td>430.505</td>\n",
       "      <td>8114.640605</td>\n",
       "      <td>3.493593e+06</td>\n",
       "      <td>430.504351</td>\n",
       "    </tr>\n",
       "  </tbody>\n",
       "</table>\n",
       "</div>"
      ],
      "text/plain": [
       "               Open     High      Low    Close  Volume (BTC)  \\\n",
       "Date                                                           \n",
       "2014-05-01  449.000  465.880  447.970  460.970   9556.037886   \n",
       "2014-05-02  454.985  464.435  446.240  457.735   8912.964652   \n",
       "2014-05-03  456.485  458.745  437.755  446.750   7850.758948   \n",
       "2014-05-04  445.500  448.665  430.275  438.520   6293.017137   \n",
       "2014-05-05  437.440  443.915  427.275  435.520   6671.245295   \n",
       "2014-05-06  433.760  439.500  422.635  430.505   8114.640605   \n",
       "\n",
       "            Volume (Currency)  Weighted Price  \n",
       "Date                                           \n",
       "2014-05-01       4.381969e+06      458.554960  \n",
       "2014-05-02       4.056515e+06      454.858489  \n",
       "2014-05-03       3.501074e+06      445.659781  \n",
       "2014-05-04       2.758190e+06      437.882013  \n",
       "2014-05-05       2.896574e+06      434.450725  \n",
       "2014-05-06       3.493593e+06      430.504351  "
      ]
     },
     "execution_count": 101,
     "metadata": {},
     "output_type": "execute_result"
    }
   ],
   "source": [
    "btc_small.rolling(\"2d\").mean()\n",
    "\n",
    "# 2d= 2 days--> 2 average window\n",
    "# Look at Open: 449.00 + 460.97 / 2 = 454.985"
   ]
  },
  {
   "cell_type": "markdown",
   "metadata": {},
   "source": [
    "To do this operation, pandas starts at each row (date) then looks\n",
    "*backwards* the specified number of periods (here 2 days) and then\n",
    "applies some aggregation function (`mean`) on all the data in that\n",
    "window.\n",
    "\n",
    "If pandas cannot look back the full length of the window (e.g. when\n",
    "working on the first row), it fills as much of the window as possible\n",
    "and then does the operation. Notice that the value at 2014-05-01 is\n",
    "the same in both DataFrames."
   ]
  },
  {
   "cell_type": "markdown",
   "metadata": {},
   "source": [
    "Below, we see a visual depiction of the rolling maximum on a 21 day\n",
    "window for the whole dataset."
   ]
  },
  {
   "cell_type": "code",
   "execution_count": 102,
   "metadata": {
    "execution": {
     "iopub.execute_input": "2020-11-03T15:04:19.342720Z",
     "iopub.status.busy": "2020-11-03T15:04:19.342404Z",
     "iopub.status.idle": "2020-11-03T15:04:19.596998Z",
     "shell.execute_reply": "2020-11-03T15:04:19.596327Z",
     "shell.execute_reply.started": "2020-11-03T15:04:19.342678Z"
    },
    "hide-output": false,
    "slideshow": {
     "slide_type": "subslide"
    }
   },
   "outputs": [
    {
     "data": {
      "text/plain": [
       "<matplotlib.legend.Legend at 0x7f87d4ba4a60>"
      ]
     },
     "execution_count": 102,
     "metadata": {},
     "output_type": "execute_result"
    },
    {
     "data": {
      "image/png": "[encoded data removed]",
      "text/plain": [
       "<Figure size 720x288 with 1 Axes>"
      ]
     },
     "metadata": {},
     "output_type": "display_data"
    }
   ],
   "source": [
    "fig, ax = plt.subplots(figsize=(10, 4)) # size of the graph\n",
    "btc_usd[\"Open\"].plot(ax=ax, linestyle=\"--\", alpha=0.8)\n",
    "btc_usd.rolling(\"21d\").max()[\"Open\"].plot(ax=ax, alpha=0.8, linewidth=3) # it's calculating the local maxima values\n",
    "ax.legend([\"Original\", \"21 day max\"]) # it tracks for us the global maxima over a 3 week horizon"
   ]
  },
  {
   "cell_type": "markdown",
   "metadata": {
    "slideshow": {
     "slide_type": "subslide"
    }
   },
   "source": [
    "We can also ask pandas to `apply` custom functions, similar to what we\n",
    "saw when studying GroupBy."
   ]
  },
  {
   "cell_type": "code",
   "execution_count": 103,
   "metadata": {
    "execution": {
     "iopub.execute_input": "2020-11-03T15:04:19.715642Z",
     "iopub.status.busy": "2020-11-03T15:04:19.715377Z",
     "iopub.status.idle": "2020-11-03T15:04:19.718816Z",
     "shell.execute_reply": "2020-11-03T15:04:19.718284Z",
     "shell.execute_reply.started": "2020-11-03T15:04:19.715600Z"
    },
    "hide-output": false
   },
   "outputs": [],
   "source": [
    "def is_volatile(x):\n",
    "    \"Returns a 1 if the variance is greater than 1, otherwise returns 0\"\n",
    "    if x.var() > 1.0:\n",
    "        return 1.0\n",
    "    else:\n",
    "        return 0.0\n",
    "\n",
    "# in addition to applying a built in aggregator like mean\n",
    "# we can actually ask pandas to add a groupby definition\n",
    "# if variance is greater than 1, we assume that the data in x was VOLATILE"
   ]
  },
  {
   "cell_type": "code",
   "execution_count": 104,
   "metadata": {
    "execution": {
     "iopub.execute_input": "2020-11-03T15:04:20.231293Z",
     "iopub.status.busy": "2020-11-03T15:04:20.231028Z",
     "iopub.status.idle": "2020-11-03T15:04:20.259778Z",
     "shell.execute_reply": "2020-11-03T15:04:20.259092Z",
     "shell.execute_reply.started": "2020-11-03T15:04:20.231252Z"
    },
    "hide-output": false
   },
   "outputs": [
    {
     "data": {
      "text/html": [
       "<div>\n",
       "<style scoped>\n",
       "    .dataframe tbody tr th:only-of-type {\n",
       "        vertical-align: middle;\n",
       "    }\n",
       "\n",
       "    .dataframe tbody tr th {\n",
       "        vertical-align: top;\n",
       "    }\n",
       "\n",
       "    .dataframe thead th {\n",
       "        text-align: right;\n",
       "    }\n",
       "</style>\n",
       "<table border=\"1\" class=\"dataframe\">\n",
       "  <thead>\n",
       "    <tr style=\"text-align: right;\">\n",
       "      <th></th>\n",
       "      <th>Open</th>\n",
       "      <th>High</th>\n",
       "      <th>Low</th>\n",
       "      <th>Close</th>\n",
       "      <th>Volume (BTC)</th>\n",
       "      <th>Volume (Currency)</th>\n",
       "      <th>Weighted Price</th>\n",
       "    </tr>\n",
       "    <tr>\n",
       "      <th>Date</th>\n",
       "      <th></th>\n",
       "      <th></th>\n",
       "      <th></th>\n",
       "      <th></th>\n",
       "      <th></th>\n",
       "      <th></th>\n",
       "      <th></th>\n",
       "    </tr>\n",
       "  </thead>\n",
       "  <tbody>\n",
       "    <tr>\n",
       "      <th>2014-05-01</th>\n",
       "      <td>0.0</td>\n",
       "      <td>0.0</td>\n",
       "      <td>0.0</td>\n",
       "      <td>0.0</td>\n",
       "      <td>0.0</td>\n",
       "      <td>0.0</td>\n",
       "      <td>0.0</td>\n",
       "    </tr>\n",
       "    <tr>\n",
       "      <th>2014-05-02</th>\n",
       "      <td>1.0</td>\n",
       "      <td>1.0</td>\n",
       "      <td>1.0</td>\n",
       "      <td>1.0</td>\n",
       "      <td>1.0</td>\n",
       "      <td>1.0</td>\n",
       "      <td>1.0</td>\n",
       "    </tr>\n",
       "    <tr>\n",
       "      <th>2014-05-03</th>\n",
       "      <td>1.0</td>\n",
       "      <td>1.0</td>\n",
       "      <td>1.0</td>\n",
       "      <td>1.0</td>\n",
       "      <td>1.0</td>\n",
       "      <td>1.0</td>\n",
       "      <td>1.0</td>\n",
       "    </tr>\n",
       "    <tr>\n",
       "      <th>2014-05-04</th>\n",
       "      <td>1.0</td>\n",
       "      <td>1.0</td>\n",
       "      <td>1.0</td>\n",
       "      <td>0.0</td>\n",
       "      <td>1.0</td>\n",
       "      <td>1.0</td>\n",
       "      <td>1.0</td>\n",
       "    </tr>\n",
       "    <tr>\n",
       "      <th>2014-05-05</th>\n",
       "      <td>1.0</td>\n",
       "      <td>1.0</td>\n",
       "      <td>1.0</td>\n",
       "      <td>1.0</td>\n",
       "      <td>1.0</td>\n",
       "      <td>1.0</td>\n",
       "      <td>1.0</td>\n",
       "    </tr>\n",
       "    <tr>\n",
       "      <th>2014-05-06</th>\n",
       "      <td>1.0</td>\n",
       "      <td>1.0</td>\n",
       "      <td>1.0</td>\n",
       "      <td>1.0</td>\n",
       "      <td>1.0</td>\n",
       "      <td>1.0</td>\n",
       "      <td>1.0</td>\n",
       "    </tr>\n",
       "  </tbody>\n",
       "</table>\n",
       "</div>"
      ],
      "text/plain": [
       "            Open  High  Low  Close  Volume (BTC)  Volume (Currency)  \\\n",
       "Date                                                                  \n",
       "2014-05-01   0.0   0.0  0.0    0.0           0.0                0.0   \n",
       "2014-05-02   1.0   1.0  1.0    1.0           1.0                1.0   \n",
       "2014-05-03   1.0   1.0  1.0    1.0           1.0                1.0   \n",
       "2014-05-04   1.0   1.0  1.0    0.0           1.0                1.0   \n",
       "2014-05-05   1.0   1.0  1.0    1.0           1.0                1.0   \n",
       "2014-05-06   1.0   1.0  1.0    1.0           1.0                1.0   \n",
       "\n",
       "            Weighted Price  \n",
       "Date                        \n",
       "2014-05-01             0.0  \n",
       "2014-05-02             1.0  \n",
       "2014-05-03             1.0  \n",
       "2014-05-04             1.0  \n",
       "2014-05-05             1.0  \n",
       "2014-05-06             1.0  "
      ]
     },
     "execution_count": 104,
     "metadata": {},
     "output_type": "execute_result"
    }
   ],
   "source": [
    "btc_small.rolling(\"2d\").apply(is_volatile)\n",
    "\n",
    "# variance of senquence of length 1 is always 0\n",
    "# for each of the other windows we had volatile windows"
   ]
  },
  {
   "cell_type": "markdown",
   "metadata": {
    "slideshow": {
     "slide_type": "subslide"
    }
   },
   "source": [
    "**Exercise 5**\n",
    "\n",
    "Imagine that you have access to the [TARDIS time machine](https://en.wikipedia.org/wiki/TARDIS)\n",
    "from “Dr. Who”.\n",
    "\n",
    "You are allowed to use the TARDIS only once, subject to the following\n",
    "conditions:\n",
    "\n",
    "- You may travel back to any day in the past.  \n",
    "- On that day, you may purchase one bitcoin *at market open*.  \n",
    "- You can then take the time machine 30 days into the future and sell your bitcoin *at market close*.  \n",
    "- Then you return to the present, pocketing the profits.  \n",
    "\n",
    "How would you pick the day?\n",
    "\n",
    "Think carefully about what you would need to compute to make the\n",
    "optimal choice. Try writing it out in the markdown cell below so you\n",
    "have a clear description of the *want* operator that we will apply after\n",
    "the exercise.\n",
    "\n",
    "(Note: **Don’t** look too far below, because in the next non-empty cell\n",
    "we have written out our answer.)"
   ]
  },
  {
   "cell_type": "markdown",
   "metadata": {},
   "source": [
    "### Want\n",
    "1. I would need a function\n",
    "2. We need the rolling method here \n",
    "      To do this operation, pandas starts at each row (date) then looks\n",
    "       *backwards* the specified number of periods (here 2 days) and then\n",
    "       applies some aggregation function (`mean`) on all the data in that window.\n",
    "3. Extract the bitcoin values at market open column from the result.\n",
    "4. Find the date associated with the maximum value in that column. \n"
   ]
  },
  {
   "cell_type": "code",
   "execution_count": 135,
   "metadata": {},
   "outputs": [],
   "source": [
    "def daily_value(df):\n",
    "    '''\n",
    "    Solve exercise 5 to use in exercise 6\n",
    "    '''\n",
    "\n",
    "    data = df\n",
    "\n",
    "    # shifting back 30 so the data a day t shows data from t+30 days in the future \n",
    "    day_shift = data.shift(-30)\n",
    "\n",
    "    # difference in open price at day t and close price at day t+30\n",
    "    oc_diff = day_shift['Close'] - data['Open']\n",
    "\n",
    "    # adding to the data\n",
    "    data['oc_diff'] = oc_diff\n",
    "\n",
    "    # identifies the date with the largest 30 difference between and close prices\n",
    "    marty = data['oc_diff'].idxmax()\n",
    "    mcfly = data['oc_diff'].max() \n",
    "\n",
    "    return marty, mcfly"
   ]
  },
  {
   "cell_type": "code",
   "execution_count": 128,
   "metadata": {},
   "outputs": [
    {
     "data": {
      "text/plain": [
       "(Timestamp('2021-01-22 00:00:00'), 26675.050000000003)"
      ]
     },
     "execution_count": 128,
     "metadata": {},
     "output_type": "execute_result"
    }
   ],
   "source": [
    "daily_value(btc_usd)"
   ]
  },
  {
   "cell_type": "code",
   "execution_count": 130,
   "metadata": {},
   "outputs": [
    {
     "ename": "AttributeError",
     "evalue": "'tuple' object has no attribute 'rolling'",
     "output_type": "error",
     "traceback": [
      "\u001b[0;31m---------------------------------------------------------------------------\u001b[0m",
      "\u001b[0;31mAttributeError\u001b[0m                            Traceback (most recent call last)",
      "\u001b[0;32m<ipython-input-130-c3fdc22e1486>\u001b[0m in \u001b[0;36m<module>\u001b[0;34m\u001b[0m\n\u001b[1;32m      1\u001b[0m \u001b[0mbtc_usd_diff\u001b[0m \u001b[0;34m=\u001b[0m \u001b[0mdaily_value\u001b[0m\u001b[0;34m(\u001b[0m\u001b[0mbtc_usd\u001b[0m\u001b[0;34m)\u001b[0m\u001b[0;34m\u001b[0m\u001b[0;34m\u001b[0m\u001b[0m\n\u001b[0;32m----> 2\u001b[0;31m \u001b[0mrolling_btc\u001b[0m \u001b[0;34m=\u001b[0m \u001b[0mbtc_usd_diff\u001b[0m\u001b[0;34m.\u001b[0m\u001b[0mrolling\u001b[0m\u001b[0;34m(\u001b[0m\u001b[0;34m'30d'\u001b[0m\u001b[0;34m)\u001b[0m\u001b[0;34m.\u001b[0m\u001b[0mmax\u001b[0m\u001b[0;34m(\u001b[0m\u001b[0;34m)\u001b[0m\u001b[0;34m\u001b[0m\u001b[0;34m\u001b[0m\u001b[0m\n\u001b[0m\u001b[1;32m      3\u001b[0m \u001b[0mrolling_btc\u001b[0m\u001b[0;34m[\u001b[0m\u001b[0;34m'Open'\u001b[0m\u001b[0;34m]\u001b[0m\u001b[0;34m.\u001b[0m\u001b[0midxmax\u001b[0m\u001b[0;34m\u001b[0m\u001b[0;34m\u001b[0m\u001b[0m\n",
      "\u001b[0;31mAttributeError\u001b[0m: 'tuple' object has no attribute 'rolling'"
     ]
    }
   ],
   "source": [
    "btc_usd_diff = daily_value(btc_usd)\n",
    "rolling_btc = btc_usd_diff.rolling('30d').max()\n",
    "rolling_btc['Open'].idxmax"
   ]
  },
  {
   "cell_type": "code",
   "execution_count": 131,
   "metadata": {},
   "outputs": [
    {
     "data": {
      "text/html": [
       "<div>\n",
       "<style scoped>\n",
       "    .dataframe tbody tr th:only-of-type {\n",
       "        vertical-align: middle;\n",
       "    }\n",
       "\n",
       "    .dataframe tbody tr th {\n",
       "        vertical-align: top;\n",
       "    }\n",
       "\n",
       "    .dataframe thead th {\n",
       "        text-align: right;\n",
       "    }\n",
       "</style>\n",
       "<table border=\"1\" class=\"dataframe\">\n",
       "  <thead>\n",
       "    <tr style=\"text-align: right;\">\n",
       "      <th></th>\n",
       "      <th>Open</th>\n",
       "      <th>High</th>\n",
       "      <th>Low</th>\n",
       "      <th>Close</th>\n",
       "      <th>Volume (BTC)</th>\n",
       "      <th>Volume (Currency)</th>\n",
       "      <th>Weighted Price</th>\n",
       "    </tr>\n",
       "    <tr>\n",
       "      <th>Date</th>\n",
       "      <th></th>\n",
       "      <th></th>\n",
       "      <th></th>\n",
       "      <th></th>\n",
       "      <th></th>\n",
       "      <th></th>\n",
       "      <th></th>\n",
       "    </tr>\n",
       "  </thead>\n",
       "  <tbody>\n",
       "    <tr>\n",
       "      <th>2014-05-01</th>\n",
       "      <td>0.0</td>\n",
       "      <td>0.0</td>\n",
       "      <td>0.0</td>\n",
       "      <td>0.0</td>\n",
       "      <td>0.0</td>\n",
       "      <td>0.0</td>\n",
       "      <td>0.0</td>\n",
       "    </tr>\n",
       "    <tr>\n",
       "      <th>2014-05-02</th>\n",
       "      <td>1.0</td>\n",
       "      <td>1.0</td>\n",
       "      <td>1.0</td>\n",
       "      <td>1.0</td>\n",
       "      <td>1.0</td>\n",
       "      <td>1.0</td>\n",
       "      <td>1.0</td>\n",
       "    </tr>\n",
       "    <tr>\n",
       "      <th>2014-05-03</th>\n",
       "      <td>1.0</td>\n",
       "      <td>1.0</td>\n",
       "      <td>1.0</td>\n",
       "      <td>1.0</td>\n",
       "      <td>1.0</td>\n",
       "      <td>1.0</td>\n",
       "      <td>1.0</td>\n",
       "    </tr>\n",
       "    <tr>\n",
       "      <th>2014-05-04</th>\n",
       "      <td>1.0</td>\n",
       "      <td>1.0</td>\n",
       "      <td>1.0</td>\n",
       "      <td>0.0</td>\n",
       "      <td>1.0</td>\n",
       "      <td>1.0</td>\n",
       "      <td>1.0</td>\n",
       "    </tr>\n",
       "    <tr>\n",
       "      <th>2014-05-05</th>\n",
       "      <td>1.0</td>\n",
       "      <td>1.0</td>\n",
       "      <td>1.0</td>\n",
       "      <td>1.0</td>\n",
       "      <td>1.0</td>\n",
       "      <td>1.0</td>\n",
       "      <td>1.0</td>\n",
       "    </tr>\n",
       "    <tr>\n",
       "      <th>2014-05-06</th>\n",
       "      <td>1.0</td>\n",
       "      <td>1.0</td>\n",
       "      <td>1.0</td>\n",
       "      <td>1.0</td>\n",
       "      <td>1.0</td>\n",
       "      <td>1.0</td>\n",
       "      <td>1.0</td>\n",
       "    </tr>\n",
       "  </tbody>\n",
       "</table>\n",
       "</div>"
      ],
      "text/plain": [
       "            Open  High  Low  Close  Volume (BTC)  Volume (Currency)  \\\n",
       "Date                                                                  \n",
       "2014-05-01   0.0   0.0  0.0    0.0           0.0                0.0   \n",
       "2014-05-02   1.0   1.0  1.0    1.0           1.0                1.0   \n",
       "2014-05-03   1.0   1.0  1.0    1.0           1.0                1.0   \n",
       "2014-05-04   1.0   1.0  1.0    0.0           1.0                1.0   \n",
       "2014-05-05   1.0   1.0  1.0    1.0           1.0                1.0   \n",
       "2014-05-06   1.0   1.0  1.0    1.0           1.0                1.0   \n",
       "\n",
       "            Weighted Price  \n",
       "Date                        \n",
       "2014-05-01             0.0  \n",
       "2014-05-02             1.0  \n",
       "2014-05-03             1.0  \n",
       "2014-05-04             1.0  \n",
       "2014-05-05             1.0  \n",
       "2014-05-06             1.0  "
      ]
     },
     "execution_count": 131,
     "metadata": {},
     "output_type": "execute_result"
    }
   ],
   "source": [
    "btc_small.rolling('2d').apply(is_volatile)"
   ]
  },
  {
   "cell_type": "markdown",
   "metadata": {
    "slideshow": {
     "slide_type": "subslide"
    }
   },
   "source": [
    "To make the optimal decision, we need to know the maximum\n",
    "difference between the close price at the end of the window and the open\n",
    "price at the start of the window."
   ]
  },
  {
   "cell_type": "markdown",
   "metadata": {
    "slideshow": {
     "slide_type": "subslide"
    }
   },
   "source": [
    "**Exercise 6**\n",
    "\n",
    "Do the following:\n",
    "\n",
    "1. Write a pandas function that implements your strategy.  \n",
    "1. Pass it to the `agg` method of `rolling_btc`.  \n",
    "1. Extract the `\"Open\"` column from the result.  \n",
    "1. Find the date associated with the maximum value in that column.  \n",
    "\n",
    "\n",
    "How much money did you make?"
   ]
  },
  {
   "cell_type": "code",
   "execution_count": null,
   "metadata": {},
   "outputs": [
    {
     "data": {
      "text/html": [
       "<div>\n",
       "<style scoped>\n",
       "    .dataframe tbody tr th:only-of-type {\n",
       "        vertical-align: middle;\n",
       "    }\n",
       "\n",
       "    .dataframe tbody tr th {\n",
       "        vertical-align: top;\n",
       "    }\n",
       "\n",
       "    .dataframe thead th {\n",
       "        text-align: right;\n",
       "    }\n",
       "</style>\n",
       "<table border=\"1\" class=\"dataframe\">\n",
       "  <thead>\n",
       "    <tr style=\"text-align: right;\">\n",
       "      <th></th>\n",
       "      <th>Open</th>\n",
       "      <th>High</th>\n",
       "      <th>Low</th>\n",
       "      <th>Close</th>\n",
       "      <th>Volume (BTC)</th>\n",
       "      <th>Volume (Currency)</th>\n",
       "      <th>Weighted Price</th>\n",
       "    </tr>\n",
       "    <tr>\n",
       "      <th>Date</th>\n",
       "      <th></th>\n",
       "      <th></th>\n",
       "      <th></th>\n",
       "      <th></th>\n",
       "      <th></th>\n",
       "      <th></th>\n",
       "      <th></th>\n",
       "    </tr>\n",
       "  </thead>\n",
       "  <tbody>\n",
       "    <tr>\n",
       "      <th>2014-05-01</th>\n",
       "      <td>449.00</td>\n",
       "      <td>465.88</td>\n",
       "      <td>447.97</td>\n",
       "      <td>460.97</td>\n",
       "      <td>9556.037886</td>\n",
       "      <td>4.381969e+06</td>\n",
       "      <td>458.554960</td>\n",
       "    </tr>\n",
       "    <tr>\n",
       "      <th>2014-05-02</th>\n",
       "      <td>460.97</td>\n",
       "      <td>465.88</td>\n",
       "      <td>447.97</td>\n",
       "      <td>460.97</td>\n",
       "      <td>9556.037886</td>\n",
       "      <td>4.381969e+06</td>\n",
       "      <td>458.554960</td>\n",
       "    </tr>\n",
       "    <tr>\n",
       "      <th>2014-05-03</th>\n",
       "      <td>460.97</td>\n",
       "      <td>462.99</td>\n",
       "      <td>444.51</td>\n",
       "      <td>454.50</td>\n",
       "      <td>8269.891417</td>\n",
       "      <td>3.731061e+06</td>\n",
       "      <td>451.162018</td>\n",
       "    </tr>\n",
       "    <tr>\n",
       "      <th>2014-05-04</th>\n",
       "      <td>452.00</td>\n",
       "      <td>454.50</td>\n",
       "      <td>431.00</td>\n",
       "      <td>439.00</td>\n",
       "      <td>7431.626480</td>\n",
       "      <td>3.271086e+06</td>\n",
       "      <td>440.157544</td>\n",
       "    </tr>\n",
       "    <tr>\n",
       "      <th>2014-05-05</th>\n",
       "      <td>439.00</td>\n",
       "      <td>445.00</td>\n",
       "      <td>429.55</td>\n",
       "      <td>438.04</td>\n",
       "      <td>8188.082795</td>\n",
       "      <td>3.547855e+06</td>\n",
       "      <td>435.606483</td>\n",
       "    </tr>\n",
       "    <tr>\n",
       "      <th>2014-05-06</th>\n",
       "      <td>435.88</td>\n",
       "      <td>445.00</td>\n",
       "      <td>425.00</td>\n",
       "      <td>433.00</td>\n",
       "      <td>8188.082795</td>\n",
       "      <td>3.547855e+06</td>\n",
       "      <td>433.294968</td>\n",
       "    </tr>\n",
       "  </tbody>\n",
       "</table>\n",
       "</div>"
      ],
      "text/plain": [
       "              Open    High     Low   Close  Volume (BTC)  Volume (Currency)  \\\n",
       "Date                                                                          \n",
       "2014-05-01  449.00  465.88  447.97  460.97   9556.037886       4.381969e+06   \n",
       "2014-05-02  460.97  465.88  447.97  460.97   9556.037886       4.381969e+06   \n",
       "2014-05-03  460.97  462.99  444.51  454.50   8269.891417       3.731061e+06   \n",
       "2014-05-04  452.00  454.50  431.00  439.00   7431.626480       3.271086e+06   \n",
       "2014-05-05  439.00  445.00  429.55  438.04   8188.082795       3.547855e+06   \n",
       "2014-05-06  435.88  445.00  425.00  433.00   8188.082795       3.547855e+06   \n",
       "\n",
       "            Weighted Price  \n",
       "Date                        \n",
       "2014-05-01      458.554960  \n",
       "2014-05-02      458.554960  \n",
       "2014-05-03      451.162018  \n",
       "2014-05-04      440.157544  \n",
       "2014-05-05      435.606483  \n",
       "2014-05-06      433.294968  "
      ]
     },
     "execution_count": 235,
     "metadata": {},
     "output_type": "execute_result"
    }
   ],
   "source": [
    "btc_small.rolling(\"2d\").max()"
   ]
  },
  {
   "cell_type": "code",
   "execution_count": 133,
   "metadata": {
    "execution": {
     "iopub.execute_input": "2020-11-03T15:04:22.209004Z",
     "iopub.status.busy": "2020-11-03T15:04:22.208717Z",
     "iopub.status.idle": "2020-11-03T15:04:22.213121Z",
     "shell.execute_reply": "2020-11-03T15:04:22.212374Z",
     "shell.execute_reply.started": "2020-11-03T15:04:22.208960Z"
    },
    "hide-output": false
   },
   "outputs": [],
   "source": [
    "def monthly_value(df):\n",
    "\n",
    "    # resampling to find the max values each month\n",
    "    month_max = df.resample('M').max()\n",
    "    \n",
    "    # finding the values for the first day of each month\n",
    "    month_first = df.resample('M').first()\n",
    "\n",
    "    # finding the difference between the max value of each month and the first day\n",
    "    month_diff = month_max['Close'] - month_first['Open']\n",
    "\n",
    "    # finding the month with the largest difference from start\n",
    "    best_month = month_diff.idxmax()\n",
    "\n",
    "    # changes the m=format of the best month so that every day from that month can be extracted from the original data set\n",
    "    best_month1 = best_month.strftime(\"%Y-%b\")\n",
    "\n",
    "    # locates the specific data that had the highest closing price that month\n",
    "    closing_day = df[\"Close\"].loc[best_month1].idxmax()\n",
    "\n",
    "    return best_month1, closing_day"
   ]
  },
  {
   "cell_type": "code",
   "execution_count": 134,
   "metadata": {},
   "outputs": [
    {
     "data": {
      "text/plain": [
       "('2021-Feb', Timestamp('2021-02-21 00:00:00'))"
      ]
     },
     "execution_count": 134,
     "metadata": {},
     "output_type": "execute_result"
    }
   ],
   "source": [
    "monthly_value(btc_usd)"
   ]
  },
  {
   "cell_type": "markdown",
   "metadata": {
    "slideshow": {
     "slide_type": "slide"
    }
   },
   "source": [
    "## Changing Frequencies: `.resample`\n",
    "\n",
    "In addition to computing rolling statistics, we can also change the\n",
    "frequency of the data.\n",
    "\n",
    "For example, instead of a monthly moving average, suppose that we wanted\n",
    "to compute the average *within* each calendar month.\n",
    "\n",
    "We will use the `resample` method to do this.\n",
    "\n",
    "Below are some examples."
   ]
  },
  {
   "cell_type": "code",
   "execution_count": null,
   "metadata": {
    "execution": {
     "iopub.execute_input": "2020-11-03T15:04:22.851543Z",
     "iopub.status.busy": "2020-11-03T15:04:22.851229Z",
     "iopub.status.idle": "2020-11-03T15:04:22.878342Z",
     "shell.execute_reply": "2020-11-03T15:04:22.877566Z",
     "shell.execute_reply.started": "2020-11-03T15:04:22.851496Z"
    },
    "hide-output": false,
    "slideshow": {
     "slide_type": "subslide"
    }
   },
   "outputs": [
    {
     "data": {
      "text/html": [
       "<div>\n",
       "<style scoped>\n",
       "    .dataframe tbody tr th:only-of-type {\n",
       "        vertical-align: middle;\n",
       "    }\n",
       "\n",
       "    .dataframe tbody tr th {\n",
       "        vertical-align: top;\n",
       "    }\n",
       "\n",
       "    .dataframe thead th {\n",
       "        text-align: right;\n",
       "    }\n",
       "</style>\n",
       "<table border=\"1\" class=\"dataframe\">\n",
       "  <thead>\n",
       "    <tr style=\"text-align: right;\">\n",
       "      <th></th>\n",
       "      <th>Open</th>\n",
       "      <th>High</th>\n",
       "      <th>Low</th>\n",
       "      <th>Close</th>\n",
       "      <th>Volume (BTC)</th>\n",
       "      <th>Volume (Currency)</th>\n",
       "      <th>Weighted Price</th>\n",
       "    </tr>\n",
       "    <tr>\n",
       "      <th>Date</th>\n",
       "      <th></th>\n",
       "      <th></th>\n",
       "      <th></th>\n",
       "      <th></th>\n",
       "      <th></th>\n",
       "      <th></th>\n",
       "      <th></th>\n",
       "    </tr>\n",
       "  </thead>\n",
       "  <tbody>\n",
       "    <tr>\n",
       "      <th>2014-06-30</th>\n",
       "      <td>546.296557</td>\n",
       "      <td>560.478689</td>\n",
       "      <td>534.375574</td>\n",
       "      <td>549.274426</td>\n",
       "      <td>9692.850513</td>\n",
       "      <td>5.418439e+06</td>\n",
       "      <td>547.779109</td>\n",
       "    </tr>\n",
       "    <tr>\n",
       "      <th>2014-09-30</th>\n",
       "      <td>536.939130</td>\n",
       "      <td>544.464239</td>\n",
       "      <td>523.571087</td>\n",
       "      <td>533.646087</td>\n",
       "      <td>8921.203260</td>\n",
       "      <td>4.473120e+06</td>\n",
       "      <td>533.775317</td>\n",
       "    </tr>\n",
       "    <tr>\n",
       "      <th>2014-12-31</th>\n",
       "      <td>358.113261</td>\n",
       "      <td>367.361413</td>\n",
       "      <td>347.553261</td>\n",
       "      <td>357.277935</td>\n",
       "      <td>14487.630863</td>\n",
       "      <td>5.182557e+06</td>\n",
       "      <td>357.025437</td>\n",
       "    </tr>\n",
       "    <tr>\n",
       "      <th>2015-03-31</th>\n",
       "      <td>242.648111</td>\n",
       "      <td>250.373889</td>\n",
       "      <td>233.306667</td>\n",
       "      <td>241.823889</td>\n",
       "      <td>15871.493002</td>\n",
       "      <td>3.827028e+06</td>\n",
       "      <td>242.062305</td>\n",
       "    </tr>\n",
       "    <tr>\n",
       "      <th>2015-06-30</th>\n",
       "      <td>236.023956</td>\n",
       "      <td>239.404396</td>\n",
       "      <td>232.456593</td>\n",
       "      <td>236.209451</td>\n",
       "      <td>7568.650463</td>\n",
       "      <td>1.787362e+06</td>\n",
       "      <td>236.050265</td>\n",
       "    </tr>\n",
       "    <tr>\n",
       "      <th>2015-09-30</th>\n",
       "      <td>255.205435</td>\n",
       "      <td>259.369348</td>\n",
       "      <td>250.738478</td>\n",
       "      <td>254.964565</td>\n",
       "      <td>15057.220448</td>\n",
       "      <td>3.752239e+06</td>\n",
       "      <td>255.216907</td>\n",
       "    </tr>\n",
       "    <tr>\n",
       "      <th>2015-12-31</th>\n",
       "      <td>343.968043</td>\n",
       "      <td>354.843587</td>\n",
       "      <td>335.019783</td>\n",
       "      <td>346.029674</td>\n",
       "      <td>21987.668969</td>\n",
       "      <td>7.534306e+06</td>\n",
       "      <td>345.209689</td>\n",
       "    </tr>\n",
       "    <tr>\n",
       "      <th>2016-03-31</th>\n",
       "      <td>409.723956</td>\n",
       "      <td>415.345165</td>\n",
       "      <td>402.351319</td>\n",
       "      <td>409.552747</td>\n",
       "      <td>7276.401365</td>\n",
       "      <td>2.957477e+06</td>\n",
       "      <td>409.345434</td>\n",
       "    </tr>\n",
       "    <tr>\n",
       "      <th>2016-06-30</th>\n",
       "      <td>508.830549</td>\n",
       "      <td>519.757143</td>\n",
       "      <td>491.237582</td>\n",
       "      <td>511.820440</td>\n",
       "      <td>5981.137422</td>\n",
       "      <td>3.332013e+06</td>\n",
       "      <td>509.388134</td>\n",
       "    </tr>\n",
       "    <tr>\n",
       "      <th>2016-09-30</th>\n",
       "      <td>614.719891</td>\n",
       "      <td>621.399783</td>\n",
       "      <td>604.309022</td>\n",
       "      <td>614.092500</td>\n",
       "      <td>3888.241125</td>\n",
       "      <td>2.364365e+06</td>\n",
       "      <td>613.211596</td>\n",
       "    </tr>\n",
       "    <tr>\n",
       "      <th>2016-12-30</th>\n",
       "      <td>722.921538</td>\n",
       "      <td>732.714176</td>\n",
       "      <td>714.873846</td>\n",
       "      <td>726.758462</td>\n",
       "      <td>4658.746976</td>\n",
       "      <td>3.501319e+06</td>\n",
       "      <td>724.799640</td>\n",
       "    </tr>\n",
       "    <tr>\n",
       "      <th>2017-03-31</th>\n",
       "      <td>1031.095275</td>\n",
       "      <td>1058.529451</td>\n",
       "      <td>998.373077</td>\n",
       "      <td>1032.510000</td>\n",
       "      <td>9574.254814</td>\n",
       "      <td>9.767086e+06</td>\n",
       "      <td>1029.350854</td>\n",
       "    </tr>\n",
       "    <tr>\n",
       "      <th>2017-06-30</th>\n",
       "      <td>1886.373956</td>\n",
       "      <td>1961.381868</td>\n",
       "      <td>1823.321319</td>\n",
       "      <td>1902.486484</td>\n",
       "      <td>11808.708093</td>\n",
       "      <td>2.482040e+07</td>\n",
       "      <td>1897.089126</td>\n",
       "    </tr>\n",
       "    <tr>\n",
       "      <th>2017-09-29</th>\n",
       "      <td>3452.060000</td>\n",
       "      <td>3578.992637</td>\n",
       "      <td>3312.851758</td>\n",
       "      <td>3471.192088</td>\n",
       "      <td>14591.656328</td>\n",
       "      <td>5.001818e+07</td>\n",
       "      <td>3446.717092</td>\n",
       "    </tr>\n",
       "    <tr>\n",
       "      <th>2017-12-29</th>\n",
       "      <td>9132.594945</td>\n",
       "      <td>9602.524725</td>\n",
       "      <td>8655.917473</td>\n",
       "      <td>9245.341978</td>\n",
       "      <td>15339.474034</td>\n",
       "      <td>1.498917e+08</td>\n",
       "      <td>9150.932048</td>\n",
       "    </tr>\n",
       "    <tr>\n",
       "      <th>2018-03-30</th>\n",
       "      <td>10654.949560</td>\n",
       "      <td>11107.304725</td>\n",
       "      <td>9981.257363</td>\n",
       "      <td>10571.343077</td>\n",
       "      <td>16971.607663</td>\n",
       "      <td>1.711173e+08</td>\n",
       "      <td>10536.375918</td>\n",
       "    </tr>\n",
       "    <tr>\n",
       "      <th>2018-06-29</th>\n",
       "      <td>7760.852637</td>\n",
       "      <td>7950.978132</td>\n",
       "      <td>7543.325275</td>\n",
       "      <td>7754.252637</td>\n",
       "      <td>10412.011976</td>\n",
       "      <td>8.196025e+07</td>\n",
       "      <td>7744.048061</td>\n",
       "    </tr>\n",
       "    <tr>\n",
       "      <th>2018-09-28</th>\n",
       "      <td>6792.599011</td>\n",
       "      <td>6950.023956</td>\n",
       "      <td>6639.782857</td>\n",
       "      <td>6797.711209</td>\n",
       "      <td>7098.911451</td>\n",
       "      <td>4.863160e+07</td>\n",
       "      <td>6790.558832</td>\n",
       "    </tr>\n",
       "    <tr>\n",
       "      <th>2018-12-31</th>\n",
       "      <td>5199.605319</td>\n",
       "      <td>5297.541809</td>\n",
       "      <td>5063.396915</td>\n",
       "      <td>5169.268191</td>\n",
       "      <td>8805.848653</td>\n",
       "      <td>3.969870e+07</td>\n",
       "      <td>5178.241610</td>\n",
       "    </tr>\n",
       "    <tr>\n",
       "      <th>2019-03-29</th>\n",
       "      <td>3737.812500</td>\n",
       "      <td>3799.089886</td>\n",
       "      <td>3676.291136</td>\n",
       "      <td>3742.059432</td>\n",
       "      <td>6446.776373</td>\n",
       "      <td>2.414045e+07</td>\n",
       "      <td>3737.221237</td>\n",
       "    </tr>\n",
       "    <tr>\n",
       "      <th>2019-06-28</th>\n",
       "      <td>7026.032308</td>\n",
       "      <td>7308.565604</td>\n",
       "      <td>6829.843407</td>\n",
       "      <td>7117.250110</td>\n",
       "      <td>10796.082022</td>\n",
       "      <td>8.051510e+07</td>\n",
       "      <td>7077.940876</td>\n",
       "    </tr>\n",
       "    <tr>\n",
       "      <th>2019-09-30</th>\n",
       "      <td>10429.423617</td>\n",
       "      <td>10693.213511</td>\n",
       "      <td>10038.982872</td>\n",
       "      <td>10384.737660</td>\n",
       "      <td>9112.727636</td>\n",
       "      <td>9.513540e+07</td>\n",
       "      <td>10360.841564</td>\n",
       "    </tr>\n",
       "    <tr>\n",
       "      <th>2019-12-31</th>\n",
       "      <td>7997.030978</td>\n",
       "      <td>8178.661087</td>\n",
       "      <td>7803.425109</td>\n",
       "      <td>7983.524457</td>\n",
       "      <td>6393.955934</td>\n",
       "      <td>5.178886e+07</td>\n",
       "      <td>7981.938611</td>\n",
       "    </tr>\n",
       "    <tr>\n",
       "      <th>2020-03-31</th>\n",
       "      <td>8273.623956</td>\n",
       "      <td>8502.892637</td>\n",
       "      <td>8005.682418</td>\n",
       "      <td>8262.963297</td>\n",
       "      <td>9395.033509</td>\n",
       "      <td>6.978281e+07</td>\n",
       "      <td>8261.113739</td>\n",
       "    </tr>\n",
       "    <tr>\n",
       "      <th>2020-06-30</th>\n",
       "      <td>8631.383077</td>\n",
       "      <td>8850.968242</td>\n",
       "      <td>8409.878022</td>\n",
       "      <td>8660.272637</td>\n",
       "      <td>9782.113853</td>\n",
       "      <td>8.484144e+07</td>\n",
       "      <td>8638.033563</td>\n",
       "    </tr>\n",
       "    <tr>\n",
       "      <th>2020-09-30</th>\n",
       "      <td>10611.801087</td>\n",
       "      <td>10792.899239</td>\n",
       "      <td>10400.647391</td>\n",
       "      <td>10629.811196</td>\n",
       "      <td>6548.697693</td>\n",
       "      <td>7.025685e+07</td>\n",
       "      <td>10605.035045</td>\n",
       "    </tr>\n",
       "    <tr>\n",
       "      <th>2020-12-31</th>\n",
       "      <td>16399.218222</td>\n",
       "      <td>16885.984444</td>\n",
       "      <td>16024.660667</td>\n",
       "      <td>16580.653222</td>\n",
       "      <td>7732.499161</td>\n",
       "      <td>1.321875e+08</td>\n",
       "      <td>16479.764167</td>\n",
       "    </tr>\n",
       "    <tr>\n",
       "      <th>2021-03-31</th>\n",
       "      <td>46009.360843</td>\n",
       "      <td>47795.721928</td>\n",
       "      <td>44029.390000</td>\n",
       "      <td>46240.197349</td>\n",
       "      <td>8859.348156</td>\n",
       "      <td>3.778755e+08</td>\n",
       "      <td>46047.178937</td>\n",
       "    </tr>\n",
       "    <tr>\n",
       "      <th>2021-06-30</th>\n",
       "      <td>48335.081235</td>\n",
       "      <td>49808.311235</td>\n",
       "      <td>46184.388025</td>\n",
       "      <td>48049.587407</td>\n",
       "      <td>5468.834803</td>\n",
       "      <td>2.532804e+08</td>\n",
       "      <td>48105.596908</td>\n",
       "    </tr>\n",
       "  </tbody>\n",
       "</table>\n",
       "</div>"
      ],
      "text/plain": [
       "                    Open          High           Low         Close  \\\n",
       "Date                                                                 \n",
       "2014-06-30    546.296557    560.478689    534.375574    549.274426   \n",
       "2014-09-30    536.939130    544.464239    523.571087    533.646087   \n",
       "2014-12-31    358.113261    367.361413    347.553261    357.277935   \n",
       "2015-03-31    242.648111    250.373889    233.306667    241.823889   \n",
       "2015-06-30    236.023956    239.404396    232.456593    236.209451   \n",
       "2015-09-30    255.205435    259.369348    250.738478    254.964565   \n",
       "2015-12-31    343.968043    354.843587    335.019783    346.029674   \n",
       "2016-03-31    409.723956    415.345165    402.351319    409.552747   \n",
       "2016-06-30    508.830549    519.757143    491.237582    511.820440   \n",
       "2016-09-30    614.719891    621.399783    604.309022    614.092500   \n",
       "2016-12-30    722.921538    732.714176    714.873846    726.758462   \n",
       "2017-03-31   1031.095275   1058.529451    998.373077   1032.510000   \n",
       "2017-06-30   1886.373956   1961.381868   1823.321319   1902.486484   \n",
       "2017-09-29   3452.060000   3578.992637   3312.851758   3471.192088   \n",
       "2017-12-29   9132.594945   9602.524725   8655.917473   9245.341978   \n",
       "2018-03-30  10654.949560  11107.304725   9981.257363  10571.343077   \n",
       "2018-06-29   7760.852637   7950.978132   7543.325275   7754.252637   \n",
       "2018-09-28   6792.599011   6950.023956   6639.782857   6797.711209   \n",
       "2018-12-31   5199.605319   5297.541809   5063.396915   5169.268191   \n",
       "2019-03-29   3737.812500   3799.089886   3676.291136   3742.059432   \n",
       "2019-06-28   7026.032308   7308.565604   6829.843407   7117.250110   \n",
       "2019-09-30  10429.423617  10693.213511  10038.982872  10384.737660   \n",
       "2019-12-31   7997.030978   8178.661087   7803.425109   7983.524457   \n",
       "2020-03-31   8273.623956   8502.892637   8005.682418   8262.963297   \n",
       "2020-06-30   8631.383077   8850.968242   8409.878022   8660.272637   \n",
       "2020-09-30  10611.801087  10792.899239  10400.647391  10629.811196   \n",
       "2020-12-31  16399.218222  16885.984444  16024.660667  16580.653222   \n",
       "2021-03-31  46009.360843  47795.721928  44029.390000  46240.197349   \n",
       "2021-06-30  48335.081235  49808.311235  46184.388025  48049.587407   \n",
       "\n",
       "            Volume (BTC)  Volume (Currency)  Weighted Price  \n",
       "Date                                                         \n",
       "2014-06-30   9692.850513       5.418439e+06      547.779109  \n",
       "2014-09-30   8921.203260       4.473120e+06      533.775317  \n",
       "2014-12-31  14487.630863       5.182557e+06      357.025437  \n",
       "2015-03-31  15871.493002       3.827028e+06      242.062305  \n",
       "2015-06-30   7568.650463       1.787362e+06      236.050265  \n",
       "2015-09-30  15057.220448       3.752239e+06      255.216907  \n",
       "2015-12-31  21987.668969       7.534306e+06      345.209689  \n",
       "2016-03-31   7276.401365       2.957477e+06      409.345434  \n",
       "2016-06-30   5981.137422       3.332013e+06      509.388134  \n",
       "2016-09-30   3888.241125       2.364365e+06      613.211596  \n",
       "2016-12-30   4658.746976       3.501319e+06      724.799640  \n",
       "2017-03-31   9574.254814       9.767086e+06     1029.350854  \n",
       "2017-06-30  11808.708093       2.482040e+07     1897.089126  \n",
       "2017-09-29  14591.656328       5.001818e+07     3446.717092  \n",
       "2017-12-29  15339.474034       1.498917e+08     9150.932048  \n",
       "2018-03-30  16971.607663       1.711173e+08    10536.375918  \n",
       "2018-06-29  10412.011976       8.196025e+07     7744.048061  \n",
       "2018-09-28   7098.911451       4.863160e+07     6790.558832  \n",
       "2018-12-31   8805.848653       3.969870e+07     5178.241610  \n",
       "2019-03-29   6446.776373       2.414045e+07     3737.221237  \n",
       "2019-06-28  10796.082022       8.051510e+07     7077.940876  \n",
       "2019-09-30   9112.727636       9.513540e+07    10360.841564  \n",
       "2019-12-31   6393.955934       5.178886e+07     7981.938611  \n",
       "2020-03-31   9395.033509       6.978281e+07     8261.113739  \n",
       "2020-06-30   9782.113853       8.484144e+07     8638.033563  \n",
       "2020-09-30   6548.697693       7.025685e+07    10605.035045  \n",
       "2020-12-31   7732.499161       1.321875e+08    16479.764167  \n",
       "2021-03-31   8859.348156       3.778755e+08    46047.178937  \n",
       "2021-06-30   5468.834803       2.532804e+08    48105.596908  "
      ]
     },
     "execution_count": 45,
     "metadata": {},
     "output_type": "execute_result"
    }
   ],
   "source": [
    "# business quarter\n",
    "btc_usd.resample(\"BQ\").mean()\n",
    "\n",
    "# resampling works for changing the frquency of the data\n",
    "# insstead of computing a monthly moving average\n",
    "# This helps us answer questions such as--> what was the aveerage price of bitcoin ag the beginning of every month\n",
    "# we dont want to move in windows, but to resample the data\n",
    "# BQ means business quarterly meanss = 4 quarters per year\n",
    "# Look at dates--> end of the month"
   ]
  },
  {
   "cell_type": "markdown",
   "metadata": {
    "slideshow": {
     "slide_type": "subslide"
    }
   },
   "source": [
    "Note that unlike with `rolling`, a single number is returned for\n",
    "each column for each quarter.\n",
    "\n",
    "The `resample` method will alter the frequency of the data and the\n",
    "number of rows in the result will be different from the number of rows\n",
    "in the input.\n",
    "\n",
    "On the other hand, with `rolling`, the size and frequency of the result\n",
    "are the same as the input."
   ]
  },
  {
   "cell_type": "markdown",
   "metadata": {
    "slideshow": {
     "slide_type": "subslide"
    }
   },
   "source": [
    "We can sample at other frequencies and aggregate with multiple aggregations\n",
    "function at once."
   ]
  },
  {
   "cell_type": "code",
   "execution_count": null,
   "metadata": {
    "execution": {
     "iopub.execute_input": "2020-11-03T15:04:23.800434Z",
     "iopub.status.busy": "2020-11-03T15:04:23.800127Z",
     "iopub.status.idle": "2020-11-03T15:04:23.899100Z",
     "shell.execute_reply": "2020-11-03T15:04:23.898419Z",
     "shell.execute_reply.started": "2020-11-03T15:04:23.800383Z"
    },
    "hide-output": false
   },
   "outputs": [
    {
     "data": {
      "text/html": [
       "<div>\n",
       "<style scoped>\n",
       "    .dataframe tbody tr th:only-of-type {\n",
       "        vertical-align: middle;\n",
       "    }\n",
       "\n",
       "    .dataframe tbody tr th {\n",
       "        vertical-align: top;\n",
       "    }\n",
       "\n",
       "    .dataframe thead tr th {\n",
       "        text-align: left;\n",
       "    }\n",
       "\n",
       "    .dataframe thead tr:last-of-type th {\n",
       "        text-align: right;\n",
       "    }\n",
       "</style>\n",
       "<table border=\"1\" class=\"dataframe\">\n",
       "  <thead>\n",
       "    <tr>\n",
       "      <th></th>\n",
       "      <th colspan=\"2\" halign=\"left\">Open</th>\n",
       "      <th colspan=\"2\" halign=\"left\">High</th>\n",
       "      <th colspan=\"2\" halign=\"left\">Low</th>\n",
       "      <th colspan=\"2\" halign=\"left\">Close</th>\n",
       "      <th colspan=\"2\" halign=\"left\">Volume (BTC)</th>\n",
       "      <th colspan=\"2\" halign=\"left\">Volume (Currency)</th>\n",
       "      <th colspan=\"2\" halign=\"left\">Weighted Price</th>\n",
       "    </tr>\n",
       "    <tr>\n",
       "      <th></th>\n",
       "      <th>min</th>\n",
       "      <th>max</th>\n",
       "      <th>min</th>\n",
       "      <th>max</th>\n",
       "      <th>min</th>\n",
       "      <th>max</th>\n",
       "      <th>min</th>\n",
       "      <th>max</th>\n",
       "      <th>min</th>\n",
       "      <th>max</th>\n",
       "      <th>min</th>\n",
       "      <th>max</th>\n",
       "      <th>min</th>\n",
       "      <th>max</th>\n",
       "    </tr>\n",
       "    <tr>\n",
       "      <th>Date</th>\n",
       "      <th></th>\n",
       "      <th></th>\n",
       "      <th></th>\n",
       "      <th></th>\n",
       "      <th></th>\n",
       "      <th></th>\n",
       "      <th></th>\n",
       "      <th></th>\n",
       "      <th></th>\n",
       "      <th></th>\n",
       "      <th></th>\n",
       "      <th></th>\n",
       "      <th></th>\n",
       "      <th></th>\n",
       "    </tr>\n",
       "  </thead>\n",
       "  <tbody>\n",
       "    <tr>\n",
       "      <th>2014-04-01</th>\n",
       "      <td>374.17</td>\n",
       "      <td>668.90</td>\n",
       "      <td>386.03</td>\n",
       "      <td>683.26</td>\n",
       "      <td>365.20</td>\n",
       "      <td>651.70</td>\n",
       "      <td>374.20</td>\n",
       "      <td>670.14</td>\n",
       "      <td>1467.591402</td>\n",
       "      <td>29732.720362</td>\n",
       "      <td>9.159133e+05</td>\n",
       "      <td>1.561239e+07</td>\n",
       "      <td>376.976877</td>\n",
       "      <td>667.690345</td>\n",
       "    </tr>\n",
       "    <tr>\n",
       "      <th>2014-10-01</th>\n",
       "      <td>0.00</td>\n",
       "      <td>426.64</td>\n",
       "      <td>0.00</td>\n",
       "      <td>453.92</td>\n",
       "      <td>0.00</td>\n",
       "      <td>390.48</td>\n",
       "      <td>0.00</td>\n",
       "      <td>426.63</td>\n",
       "      <td>0.000000</td>\n",
       "      <td>124188.885083</td>\n",
       "      <td>0.000000e+00</td>\n",
       "      <td>2.357627e+07</td>\n",
       "      <td>0.000000</td>\n",
       "      <td>420.127183</td>\n",
       "    </tr>\n",
       "    <tr>\n",
       "      <th>2015-04-01</th>\n",
       "      <td>209.76</td>\n",
       "      <td>310.55</td>\n",
       "      <td>222.88</td>\n",
       "      <td>317.99</td>\n",
       "      <td>198.12</td>\n",
       "      <td>292.19</td>\n",
       "      <td>209.72</td>\n",
       "      <td>310.55</td>\n",
       "      <td>1946.293030</td>\n",
       "      <td>42308.005630</td>\n",
       "      <td>4.732609e+05</td>\n",
       "      <td>9.091325e+06</td>\n",
       "      <td>214.884260</td>\n",
       "      <td>306.748292</td>\n",
       "    </tr>\n",
       "    <tr>\n",
       "      <th>2015-10-01</th>\n",
       "      <td>235.87</td>\n",
       "      <td>464.53</td>\n",
       "      <td>239.06</td>\n",
       "      <td>502.00</td>\n",
       "      <td>235.00</td>\n",
       "      <td>453.50</td>\n",
       "      <td>237.15</td>\n",
       "      <td>464.53</td>\n",
       "      <td>1253.006376</td>\n",
       "      <td>105959.259141</td>\n",
       "      <td>5.210775e+05</td>\n",
       "      <td>4.719959e+07</td>\n",
       "      <td>237.116083</td>\n",
       "      <td>461.494358</td>\n",
       "    </tr>\n",
       "    <tr>\n",
       "      <th>2016-04-01</th>\n",
       "      <td>414.66</td>\n",
       "      <td>767.37</td>\n",
       "      <td>416.99</td>\n",
       "      <td>778.85</td>\n",
       "      <td>1.50</td>\n",
       "      <td>740.11</td>\n",
       "      <td>416.31</td>\n",
       "      <td>766.62</td>\n",
       "      <td>719.159825</td>\n",
       "      <td>33056.289644</td>\n",
       "      <td>4.709121e+05</td>\n",
       "      <td>2.225764e+07</td>\n",
       "      <td>415.569853</td>\n",
       "      <td>754.723539</td>\n",
       "    </tr>\n",
       "    <tr>\n",
       "      <th>2016-10-03</th>\n",
       "      <td>607.19</td>\n",
       "      <td>1287.38</td>\n",
       "      <td>610.50</td>\n",
       "      <td>1350.00</td>\n",
       "      <td>604.99</td>\n",
       "      <td>1255.00</td>\n",
       "      <td>607.19</td>\n",
       "      <td>1285.33</td>\n",
       "      <td>888.660021</td>\n",
       "      <td>36018.861120</td>\n",
       "      <td>5.460154e+05</td>\n",
       "      <td>3.883046e+07</td>\n",
       "      <td>607.560859</td>\n",
       "      <td>1275.581651</td>\n",
       "    </tr>\n",
       "    <tr>\n",
       "      <th>2017-04-03</th>\n",
       "      <td>1076.59</td>\n",
       "      <td>4921.71</td>\n",
       "      <td>1145.00</td>\n",
       "      <td>4979.90</td>\n",
       "      <td>1076.19</td>\n",
       "      <td>4671.09</td>\n",
       "      <td>1134.58</td>\n",
       "      <td>4921.70</td>\n",
       "      <td>1804.450797</td>\n",
       "      <td>60278.946542</td>\n",
       "      <td>2.128068e+06</td>\n",
       "      <td>2.031684e+08</td>\n",
       "      <td>1127.151197</td>\n",
       "      <td>4808.168193</td>\n",
       "    </tr>\n",
       "    <tr>\n",
       "      <th>2017-10-02</th>\n",
       "      <td>4219.74</td>\n",
       "      <td>19187.78</td>\n",
       "      <td>4343.00</td>\n",
       "      <td>19666.00</td>\n",
       "      <td>4137.96</td>\n",
       "      <td>18465.00</td>\n",
       "      <td>4219.53</td>\n",
       "      <td>19187.78</td>\n",
       "      <td>4646.405621</td>\n",
       "      <td>70961.369658</td>\n",
       "      <td>2.032007e+07</td>\n",
       "      <td>7.721430e+08</td>\n",
       "      <td>4233.863791</td>\n",
       "      <td>19110.244062</td>\n",
       "    </tr>\n",
       "    <tr>\n",
       "      <th>2018-04-02</th>\n",
       "      <td>5845.20</td>\n",
       "      <td>9827.04</td>\n",
       "      <td>6165.49</td>\n",
       "      <td>9948.98</td>\n",
       "      <td>5774.72</td>\n",
       "      <td>9670.68</td>\n",
       "      <td>5848.33</td>\n",
       "      <td>9823.28</td>\n",
       "      <td>1098.628060</td>\n",
       "      <td>33035.904045</td>\n",
       "      <td>7.093171e+06</td>\n",
       "      <td>3.032200e+08</td>\n",
       "      <td>5936.398196</td>\n",
       "      <td>9827.536792</td>\n",
       "    </tr>\n",
       "    <tr>\n",
       "      <th>2018-10-01</th>\n",
       "      <td>3180.84</td>\n",
       "      <td>6604.76</td>\n",
       "      <td>3230.00</td>\n",
       "      <td>6756.00</td>\n",
       "      <td>3122.28</td>\n",
       "      <td>6553.13</td>\n",
       "      <td>3179.54</td>\n",
       "      <td>6604.75</td>\n",
       "      <td>839.297665</td>\n",
       "      <td>39775.389439</td>\n",
       "      <td>5.373482e+06</td>\n",
       "      <td>1.773528e+08</td>\n",
       "      <td>3171.722851</td>\n",
       "      <td>6593.879882</td>\n",
       "    </tr>\n",
       "    <tr>\n",
       "      <th>2019-04-01</th>\n",
       "      <td>4092.02</td>\n",
       "      <td>12927.44</td>\n",
       "      <td>4150.00</td>\n",
       "      <td>13880.00</td>\n",
       "      <td>4052.56</td>\n",
       "      <td>12030.43</td>\n",
       "      <td>4136.32</td>\n",
       "      <td>12920.54</td>\n",
       "      <td>1572.155427</td>\n",
       "      <td>37487.802426</td>\n",
       "      <td>1.506857e+07</td>\n",
       "      <td>4.769830e+08</td>\n",
       "      <td>4121.008519</td>\n",
       "      <td>12723.686028</td>\n",
       "    </tr>\n",
       "    <tr>\n",
       "      <th>2019-10-01</th>\n",
       "      <td>4841.67</td>\n",
       "      <td>10364.04</td>\n",
       "      <td>5353.04</td>\n",
       "      <td>10500.50</td>\n",
       "      <td>3850.00</td>\n",
       "      <td>10247.35</td>\n",
       "      <td>4841.67</td>\n",
       "      <td>10364.04</td>\n",
       "      <td>1119.109693</td>\n",
       "      <td>58513.389189</td>\n",
       "      <td>8.052271e+06</td>\n",
       "      <td>3.644311e+08</td>\n",
       "      <td>4876.575039</td>\n",
       "      <td>10345.096195</td>\n",
       "    </tr>\n",
       "    <tr>\n",
       "      <th>2020-04-01</th>\n",
       "      <td>6428.74</td>\n",
       "      <td>12301.27</td>\n",
       "      <td>6710.21</td>\n",
       "      <td>12473.00</td>\n",
       "      <td>6137.71</td>\n",
       "      <td>11823.00</td>\n",
       "      <td>6619.00</td>\n",
       "      <td>12298.38</td>\n",
       "      <td>1358.285320</td>\n",
       "      <td>34465.186572</td>\n",
       "      <td>1.244918e+07</td>\n",
       "      <td>2.992075e+08</td>\n",
       "      <td>6357.380528</td>\n",
       "      <td>12166.197291</td>\n",
       "    </tr>\n",
       "    <tr>\n",
       "      <th>2020-10-01</th>\n",
       "      <td>10543.17</td>\n",
       "      <td>61177.03</td>\n",
       "      <td>10605.79</td>\n",
       "      <td>61781.83</td>\n",
       "      <td>10380.00</td>\n",
       "      <td>58959.57</td>\n",
       "      <td>10553.66</td>\n",
       "      <td>61165.19</td>\n",
       "      <td>1.165644</td>\n",
       "      <td>40786.964254</td>\n",
       "      <td>3.152391e+04</td>\n",
       "      <td>1.369434e+09</td>\n",
       "      <td>10515.174869</td>\n",
       "      <td>60429.059780</td>\n",
       "    </tr>\n",
       "    <tr>\n",
       "      <th>2021-04-01</th>\n",
       "      <td>33413.19</td>\n",
       "      <td>63605.69</td>\n",
       "      <td>34085.61</td>\n",
       "      <td>64895.22</td>\n",
       "      <td>30066.00</td>\n",
       "      <td>61998.90</td>\n",
       "      <td>33411.69</td>\n",
       "      <td>63564.48</td>\n",
       "      <td>1440.631820</td>\n",
       "      <td>32468.863970</td>\n",
       "      <td>8.294065e+07</td>\n",
       "      <td>1.233364e+09</td>\n",
       "      <td>32661.425472</td>\n",
       "      <td>63314.685801</td>\n",
       "    </tr>\n",
       "  </tbody>\n",
       "</table>\n",
       "</div>"
      ],
      "text/plain": [
       "                Open                High                 Low            \\\n",
       "                 min       max       min       max       min       max   \n",
       "Date                                                                     \n",
       "2014-04-01    374.17    668.90    386.03    683.26    365.20    651.70   \n",
       "2014-10-01      0.00    426.64      0.00    453.92      0.00    390.48   \n",
       "2015-04-01    209.76    310.55    222.88    317.99    198.12    292.19   \n",
       "2015-10-01    235.87    464.53    239.06    502.00    235.00    453.50   \n",
       "2016-04-01    414.66    767.37    416.99    778.85      1.50    740.11   \n",
       "2016-10-03    607.19   1287.38    610.50   1350.00    604.99   1255.00   \n",
       "2017-04-03   1076.59   4921.71   1145.00   4979.90   1076.19   4671.09   \n",
       "2017-10-02   4219.74  19187.78   4343.00  19666.00   4137.96  18465.00   \n",
       "2018-04-02   5845.20   9827.04   6165.49   9948.98   5774.72   9670.68   \n",
       "2018-10-01   3180.84   6604.76   3230.00   6756.00   3122.28   6553.13   \n",
       "2019-04-01   4092.02  12927.44   4150.00  13880.00   4052.56  12030.43   \n",
       "2019-10-01   4841.67  10364.04   5353.04  10500.50   3850.00  10247.35   \n",
       "2020-04-01   6428.74  12301.27   6710.21  12473.00   6137.71  11823.00   \n",
       "2020-10-01  10543.17  61177.03  10605.79  61781.83  10380.00  58959.57   \n",
       "2021-04-01  33413.19  63605.69  34085.61  64895.22  30066.00  61998.90   \n",
       "\n",
       "               Close           Volume (BTC)                Volume (Currency)  \\\n",
       "                 min       max          min            max               min   \n",
       "Date                                                                           \n",
       "2014-04-01    374.20    670.14  1467.591402   29732.720362      9.159133e+05   \n",
       "2014-10-01      0.00    426.63     0.000000  124188.885083      0.000000e+00   \n",
       "2015-04-01    209.72    310.55  1946.293030   42308.005630      4.732609e+05   \n",
       "2015-10-01    237.15    464.53  1253.006376  105959.259141      5.210775e+05   \n",
       "2016-04-01    416.31    766.62   719.159825   33056.289644      4.709121e+05   \n",
       "2016-10-03    607.19   1285.33   888.660021   36018.861120      5.460154e+05   \n",
       "2017-04-03   1134.58   4921.70  1804.450797   60278.946542      2.128068e+06   \n",
       "2017-10-02   4219.53  19187.78  4646.405621   70961.369658      2.032007e+07   \n",
       "2018-04-02   5848.33   9823.28  1098.628060   33035.904045      7.093171e+06   \n",
       "2018-10-01   3179.54   6604.75   839.297665   39775.389439      5.373482e+06   \n",
       "2019-04-01   4136.32  12920.54  1572.155427   37487.802426      1.506857e+07   \n",
       "2019-10-01   4841.67  10364.04  1119.109693   58513.389189      8.052271e+06   \n",
       "2020-04-01   6619.00  12298.38  1358.285320   34465.186572      1.244918e+07   \n",
       "2020-10-01  10553.66  61165.19     1.165644   40786.964254      3.152391e+04   \n",
       "2021-04-01  33411.69  63564.48  1440.631820   32468.863970      8.294065e+07   \n",
       "\n",
       "                         Weighted Price                \n",
       "                     max            min           max  \n",
       "Date                                                   \n",
       "2014-04-01  1.561239e+07     376.976877    667.690345  \n",
       "2014-10-01  2.357627e+07       0.000000    420.127183  \n",
       "2015-04-01  9.091325e+06     214.884260    306.748292  \n",
       "2015-10-01  4.719959e+07     237.116083    461.494358  \n",
       "2016-04-01  2.225764e+07     415.569853    754.723539  \n",
       "2016-10-03  3.883046e+07     607.560859   1275.581651  \n",
       "2017-04-03  2.031684e+08    1127.151197   4808.168193  \n",
       "2017-10-02  7.721430e+08    4233.863791  19110.244062  \n",
       "2018-04-02  3.032200e+08    5936.398196   9827.536792  \n",
       "2018-10-01  1.773528e+08    3171.722851   6593.879882  \n",
       "2019-04-01  4.769830e+08    4121.008519  12723.686028  \n",
       "2019-10-01  3.644311e+08    4876.575039  10345.096195  \n",
       "2020-04-01  2.992075e+08    6357.380528  12166.197291  \n",
       "2020-10-01  1.369434e+09   10515.174869  60429.059780  \n",
       "2021-04-01  1.233364e+09   32661.425472  63314.685801  "
      ]
     },
     "execution_count": 46,
     "metadata": {},
     "output_type": "execute_result"
    }
   ],
   "source": [
    "# multiple functions at 2 start-of-quarter frequency\n",
    "btc_usd.resample(\"2BQS\").agg([\"min\", \"max\"])\n",
    "\n",
    "# Semi-annually frquency\n",
    "# beginning of the month"
   ]
  },
  {
   "cell_type": "markdown",
   "metadata": {},
   "source": [
    "As with `groupby` and `rolling`, you can also provide custom\n",
    "functions to `.resample(...).agg` and `.resample(...).apply`"
   ]
  },
  {
   "cell_type": "markdown",
   "metadata": {
    "slideshow": {
     "slide_type": "subslide"
    }
   },
   "source": [
    "**Exercise 7**\n",
    "\n",
    "Now suppose you still have access to the TARDIS, but the conditions are\n",
    "slightly different.\n",
    "\n",
    "You may now:\n",
    "\n",
    "- Travel back to the *first day* of any month in the past.  \n",
    "- On that day, you may purchase one bitcoin *at market open*.  \n",
    "- You can then travel to any day *in that month* and sell the bitcoin *at market close*.  \n",
    "- Then return to the present, pocketing the profits.  \n",
    "\n",
    "To which month would you travel? On which day of that month would you return\n",
    "to sell the bitcoin?\n",
    "\n",
    "Determine what you would need to compute to make the\n",
    "optimal choice. Try writing it out in the markdown cell below so you\n",
    "have a clear description of the *want* operator that we will apply after\n",
    "the exercise.\n",
    "\n",
    "(Note: **Don’t** look too many cells below, because we have written out\n",
    "our answer.)"
   ]
  },
  {
   "cell_type": "markdown",
   "metadata": {
    "slideshow": {
     "slide_type": "subslide"
    }
   },
   "source": [
    "To make the optimal decision we need …\n",
    "\n",
    "**Your answer here**"
   ]
  },
  {
   "cell_type": "markdown",
   "metadata": {
    "slideshow": {
     "slide_type": "subslide"
    }
   },
   "source": [
    "To make the optimal decision we need to, for each month,\n",
    "compute the maximum value of the close price on any day minus the open\n",
    "price on the first day of the month."
   ]
  },
  {
   "cell_type": "markdown",
   "metadata": {
    "slideshow": {
     "slide_type": "subslide"
    }
   },
   "source": [
    "**Exercise 8**\n",
    "\n",
    "Do the following:\n",
    "\n",
    "1. Write a pandas function that implements your strategy.  \n",
    "1. Pass it to the `agg` method of `resampled_btc`.  \n",
    "1. Extract the `\"Open\"` column from the result.  \n",
    "1. Find the date associated with the maximum value in that column.  \n",
    "\n",
    "\n",
    "How much money did you make? Compare with your neighbor.\n",
    "\n",
    "Was this strategy more profitable than the previous one? By how much?"
   ]
  },
  {
   "cell_type": "code",
   "execution_count": null,
   "metadata": {
    "execution": {
     "iopub.execute_input": "2020-11-03T15:04:26.014554Z",
     "iopub.status.busy": "2020-11-03T15:04:26.014237Z",
     "iopub.status.idle": "2020-11-03T15:04:26.018787Z",
     "shell.execute_reply": "2020-11-03T15:04:26.018126Z",
     "shell.execute_reply.started": "2020-11-03T15:04:26.014504Z"
    },
    "hide-output": false
   },
   "outputs": [],
   "source": [
    "def monthly_value(df):\n",
    "    # DELETE `pass` below and replace it with your code\n",
    "    pass\n",
    "\n",
    "resampled_btc = btc_usd.resample(\"MS\")\n",
    "\n",
    "# Do steps 2-4 here"
   ]
  },
  {
   "cell_type": "markdown",
   "metadata": {
    "slideshow": {
     "slide_type": "subslide"
    }
   },
   "source": [
    "## Optional: API keys\n",
    "\n",
    "Recall above that we had the line of code:"
   ]
  },
  {
   "cell_type": "markdown",
   "metadata": {
    "hide-output": false
   },
   "source": [
    "```python\n",
    "quandl.ApiConfig.api_key = \"Dn6BtVoBhzuKTuyo6hbp\"\n",
    "```\n"
   ]
  },
  {
   "cell_type": "markdown",
   "metadata": {},
   "source": [
    "This line told the `quandl` library that when obtaining making requests for data, it should use the *API key* `Dn6BtVoBhzuKTuyo6hbp`.\n",
    "\n",
    "An API key is a sort of password that web services (like the Quandl API) require you to provide when you make requests.\n",
    "\n",
    "Using this password, we were able to make a request to Quandl to obtain data directly from them.\n",
    "\n",
    "The API key used here is one that we requested on behalf of this course.\n",
    "\n",
    "If you plan to use Quandl more extensively, you should obtain your own personal API key from [their website](https://docs.quandl.com/docs#section-authentication) and re-run the `quandl.ApiConfig.api_key...` line of code with your new API key on the right-hand side."
   ]
  }
 ],
 "metadata": {
  "celltoolbar": "Slideshow",
  "date": 1596755784.16782,
  "filename": "timeseries.rst",
  "interpreter": {
   "hash": "31582b9feba862c420bc95ad7fac43fb721c474490d1710b4e50ac63470f9531"
  },
  "jupytext": {
   "formats": "ipynb,md:myst,md"
  },
  "kernelspec": {
   "display_name": "Python 3.8.8 64-bit ('base': conda)",
   "name": "python3"
  },
  "language_info": {
   "codemirror_mode": {
    "name": "ipython",
    "version": 3
   },
   "file_extension": ".py",
   "mimetype": "text/x-python",
   "name": "python",
   "nbconvert_exporter": "python",
   "pygments_lexer": "ipython3",
   "version": "3.8.8"
  },
  "title": "Time series"
 },
 "nbformat": 4,
 "nbformat_minor": 4
}
