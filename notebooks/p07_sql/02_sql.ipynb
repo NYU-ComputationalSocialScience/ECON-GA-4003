{
 "cells": [
  {
   "cell_type": "markdown",
   "metadata": {
    "collapsed": false,
    "slideshow": {
     "slide_type": "slide"
    }
   },
   "source": [
    "# SQL Introduction\n",
    "\n",
    "We will learn how to use SQL today (mostly by example)\n",
    "\n",
    "Our example data comes from the [Instacart dataset](./01_data_description.ipynb) we discussed previously"
   ]
  },
  {
   "cell_type": "code",
   "execution_count": 1,
   "metadata": {
    "collapsed": false,
    "slideshow": {
     "slide_type": "-"
    }
   },
   "outputs": [],
   "source": [
    "import os\n",
    "import pandas as pd\n",
    "import sqlalchemy as sa\n",
    "import zipfile\n",
    "import requests\n",
    "from io import BytesIO\n",
    "\n",
    "from sqlalchemy.ext.declarative import declarative_base"
   ]
  },
  {
   "cell_type": "markdown",
   "metadata": {
    "collapsed": false,
    "slideshow": {
     "slide_type": "slide"
    }
   },
   "source": [
    "## SQL (structured query language)\n",
    "\n",
    "SQL is a \"query language\" that can be used to communicate with (relational) databases.\n",
    "\n",
    "SQL itself is more of a standard for a language to communicate with databases rather than an implemented programming language which means that each database creates their own implementation of how SQL commands get translated into queries."
   ]
  },
  {
   "cell_type": "markdown",
   "metadata": {
    "collapsed": false,
    "slideshow": {
     "slide_type": "subslide"
    }
   },
   "source": [
    "**What problem does SQL solve?**\n",
    "\n",
    "1. Straightforward way to ingest data from a database\n",
    "2. Industry standard to make database code/requirements (nearly) compatible\n",
    "3. The implementations often provide great ways to provide multiple levels of \"access\" to a dataset\n",
    "  - Some users will be \"data users\" and will use the data in their projects -- These users can get away with \"read only access\" to the database\n",
    "  - Other users will be \"data creators\" and will maintain and update the data stored in the database -- These users will need to be able to either add data or participate through other administration roles\n",
    "4. Allows administrators to impose strict requirements across the data -- For example, could impose a uniqueness constraint if we did not want an email to correspond to more than one user etc..."
   ]
  },
  {
   "cell_type": "markdown",
   "metadata": {
    "collapsed": false,
    "slideshow": {
     "slide_type": "fragment"
    }
   },
   "source": [
    "**Our focus today**\n",
    "\n",
    "Our main focus for this class will be on introducing how to be \"database users\" rather than \"database administrators\""
   ]
  },
  {
   "cell_type": "markdown",
   "metadata": {
    "collapsed": false,
    "slideshow": {
     "slide_type": "slide"
    }
   },
   "source": [
    "## SQL and SQLAlchemy\n",
    "\n",
    "We'll now discuss a few details of SQL and SQLAlchemy:\n",
    "\n",
    "`sqlalchemy` is a Python package that allows one to generically interface with many different \"flavors\" of SQL (PostgreSQL, MySQL, SQLite, etc...) using Python code.\n",
    "\n",
    "We will only discuss it briefly today because it isn't the focus of this lecture."
   ]
  },
  {
   "cell_type": "markdown",
   "metadata": {
    "collapsed": false,
    "slideshow": {
     "slide_type": "subslide"
    }
   },
   "source": [
    "### SQL Tables and Types\n",
    "\n",
    "As we mentioned, one of the benefits of SQL is that it allows those who are creating the databases to impose tight requirements on what is contained in the data:\n",
    "\n",
    "* **Tables**: SQL allows one to specify a table with pre-defined columns, cross-table restrictions, and more\n",
    "* **Types**: Each column in a SQL table must have a specified type. These types are mostly the \"usual suspects\"\n",
    "  - Boolean\n",
    "  - Date\n",
    "  - Numeric (Float, Integer, ...)\n",
    "  - String"
   ]
  },
  {
   "cell_type": "markdown",
   "metadata": {
    "collapsed": false,
    "slideshow": {
     "slide_type": "subslide"
    }
   },
   "source": [
    "### Declaring table structures\n"
   ]
  },
  {
   "cell_type": "code",
   "execution_count": 2,
   "metadata": {
    "collapsed": false,
    "slideshow": {
     "slide_type": "-"
    }
   },
   "outputs": [],
   "source": [
    "# this is for data base administrators but we will still going to analyze it\n",
    "\n",
    "Base = declarative_base()\n",
    "\n",
    "\n",
    "# each table will have a name\n",
    "\n",
    "class Aisles(Base):\n",
    "    __tablename__ = \"aisles\"\n",
    "    aisle_id = sa.Column(sa.Integer, primary_key=True)\n",
    "    aisle = sa.Column(sa.String)\n",
    "\n",
    "    # primary_key meand that we cannot duplicate the value\n",
    "\n",
    "\n",
    "class Departments(Base):\n",
    "    __tablename__ = \"departments\"\n",
    "    department_id = sa.Column(sa.Integer, primary_key=True)\n",
    "    department = sa.Column(sa.String)\n",
    "\n",
    "\n",
    "class Products(Base):\n",
    "    __tablename__ = \"products\"\n",
    "    product_id = sa.Column(sa.Integer, primary_key=True)\n",
    "    product_name = sa.Column(sa.String)\n",
    "    aisle_id = sa.Column(sa.Integer)  # One can set these to reference the aisles/departments tables\n",
    "    department_id = sa.Column(sa.Integer)\n",
    "\n",
    "    # you cannot insert data in Products unlesss the values exist in the departments and aisles tables\n",
    "    # search foreign keys\n",
    "\n",
    "\n",
    "class Orders(Base):\n",
    "    __tablename__ = \"orders\"\n",
    "    order_id = sa.Column(sa.Integer, primary_key=True)\n",
    "    user_id = sa.Column(sa.Integer)\n",
    "    eval_set = sa.Column(sa.String)\n",
    "    order_number = sa.Column(sa.Integer)\n",
    "    order_dow = sa.Column(sa.Integer)\n",
    "    order_hour_of_day = sa.Column(sa.Integer)\n",
    "    days_since_prior_order = sa.Column(sa.Integer)\n",
    "\n",
    "\n",
    "class ProductsOrdered(Base):\n",
    "    __tablename__ = \"products_ordered\"\n",
    "    order_id = sa.Column(sa.Integer, primary_key=True)\n",
    "    product_id = sa.Column(sa.Integer, primary_key=True)\n",
    "    add_to_cart_order = sa.Column(sa.Integer)\n",
    "    reordered = sa.Column(sa.Boolean)"
   ]
  },
  {
   "cell_type": "markdown",
   "metadata": {
    "collapsed": false,
    "slideshow": {
     "slide_type": "fragment"
    }
   },
   "source": [
    "### Dump data into database\n",
    "\n",
    "We're going to postpone a detailed discussion on what happens next for now...\n",
    "\n",
    "The tl;dr is that the code cell below is completely commented out. That cell takes the csv files that we previously saw and loads them in to a SQLite database\n",
    "\n",
    "It isn't a very effiicent operation, so we've done it for you and uploaded the results.\n",
    "\n",
    "The code cell two beneath this one will check the database already exists, if not it will download it for you."
   ]
  },
  {
   "cell_type": "code",
   "execution_count": 3,
   "metadata": {
    "collapsed": false,
    "slideshow": {
     "slide_type": "-"
    }
   },
   "outputs": [],
   "source": [
    "# %%time\n",
    "# # Uncomment if the data needs to be fixed or updated\n",
    "# # Create a SQL alchemy engine and add table information to the engine\n",
    "# os.remove(\"~/Data/instacart/instacart.db\")\n",
    "# eng = sa.create_engine(\"sqlite:///instacart.db\")\n",
    "# Base.metadata.create_all(eng)\n",
    "\n",
    "# Session = sa.orm.sessionmaker(bind=eng)\n",
    "\n",
    "# # Create table -> filename pairs\n",
    "# table_to_file = [\n",
    "#     (Aisles, \"~/Data/instacart/aisles.parquet\"),\n",
    "#     (Departments, \"~/Data/instacart/departments.parquet\"),\n",
    "#     (Products, \"~/Data/instacart/products.parquet\"),\n",
    "#     (Orders, \"~/Data/instacart/orders.parquet\"),\n",
    "#     (ProductsOrdered,  \"~/Data/instacart/order_products_all.parquet\"),\n",
    "# ]\n",
    "\n",
    "# session = Session()\n",
    "# # Delete any data from previous inserts\n",
    "# for (_t, _csv) in table_to_file:\n",
    "#     session.execute(_t.__table__.delete())\n",
    "#     session.commit()\n",
    "\n",
    "# # Insert data\n",
    "# for (_t, _f) in table_to_file:\n",
    "#     # Read parquet file and put into the list of dictionaries\n",
    "#     _rows = pd.read_parquet(_f).to_sql(\n",
    "#         _t.__tablename__, eng, if_exists=\"append\", index=False\n",
    "#     )\n"
   ]
  },
  {
   "cell_type": "code",
   "execution_count": 4,
   "metadata": {},
   "outputs": [],
   "source": [
    "# we dont need python to be an intermediary\n",
    "# we can work on SQL directly\n",
    "\n",
    "def download_db():\n",
    "    if os.path.exists(\"instacart.db\"):\n",
    "        print(\"Already have file\")\n",
    "        return\n",
    "    url = \"https://compsosci-resources.s3.amazonaws.com/instacart/instacart.db.zip\"\n",
    "    res = requests.get(url)\n",
    "    if not res.ok:\n",
    "        raise Exception(\"Could not download database\")\n",
    "    \n",
    "    with zipfile.ZipFile(BytesIO(res.content)) as z:\n",
    "        z.extract(\"instacart.db\")\n",
    "    \n",
    "download_db()\n",
    "\n",
    "# we are not going to talk about this today"
   ]
  },
  {
   "cell_type": "markdown",
   "metadata": {
    "collapsed": false,
    "slideshow": {
     "slide_type": "subslide"
    }
   },
   "source": [
    "### A SQLAlchemy Engine\n",
    "\n",
    "In order to access the data in the database, we need a sqlalchemy engine\n",
    "\n",
    "This is a type provided by sqlalchemy that (1) knows how to interact with a database and (2) abstracts over the type of database so we can use the same Python code to interact with multiple database types."
   ]
  },
  {
   "cell_type": "code",
   "execution_count": 5,
   "metadata": {
    "collapsed": false,
    "slideshow": {
     "slide_type": "-"
    }
   },
   "outputs": [],
   "source": [
    "# Create a SQL alchemy engine and add table information to the engine\n",
    "# we need the sqlalchemy engine\n",
    "\n",
    "eng = sa.create_engine(\"sqlite:///instacart.db\")\n",
    "\n",
    "Session = sa.orm.sessionmaker(bind=eng)"
   ]
  },
  {
   "cell_type": "markdown",
   "metadata": {
    "collapsed": false,
    "slideshow": {
     "slide_type": "slide"
    }
   },
   "source": [
    "## Reading data from a SQL database\n",
    "\n",
    "Unless you end up becoming a data engineer, you will spend most of your time interacting with an already created database that others manage...\n",
    "\n",
    "Because of this, we will spend most of our time focused on reading data from a database"
   ]
  },
  {
   "cell_type": "markdown",
   "metadata": {
    "collapsed": false,
    "slideshow": {
     "slide_type": "fragment"
    }
   },
   "source": [
    "### SQL Read Commands\n",
    "\n",
    "We will run the raw SQL commands into the SQLAlchemy engine, but you could interact with the engine using SQLAlchemy\n",
    "\n",
    "**Note**: It is good practice to capitalize the SQL keywords -- For example, rather than write `select` or `from`, you should write `SELECT` and `FROM`"
   ]
  },
  {
   "cell_type": "code",
   "execution_count": 6,
   "metadata": {
    "collapsed": false,
    "slideshow": {
     "slide_type": "-"
    }
   },
   "outputs": [],
   "source": [
    "# most of the data as a data engeneeer will be about reading data that someone else created for me\n",
    "\n",
    "def run_query(eng, query, str_length=30):\n",
    "    with eng.connect() as conn:\n",
    "        result = conn.execute(query)\n",
    "        cols = result.keys()\n",
    "        vals = result.fetchmany(5)\n",
    "\n",
    "        fmter = (\"{\" + f\":<{str_length}\" + \"}\") * len(cols)\n",
    "        print(fmter.format(*cols))\n",
    "        for _vals in vals:\n",
    "            _pvals = map(lambda x: str(x)[:str_length], _vals)\n",
    "            print(fmter.format(*_pvals))"
   ]
  },
  {
   "cell_type": "markdown",
   "metadata": {
    "collapsed": false,
    "slideshow": {
     "slide_type": "subslide"
    }
   },
   "source": [
    "#### SELECT/FROM\n",
    "\n",
    "The most fundamental read command in SQL combines the `SELECT` statement with the `FROM` statement.\n",
    "\n",
    "* `SELECT` specifies what data to read (and what to call it)\n",
    "* `FROM` specifies where that data can be read from"
   ]
  },
  {
   "cell_type": "markdown",
   "metadata": {
    "collapsed": false,
    "slideshow": {
     "slide_type": "fragment"
    }
   },
   "source": [
    "**Select all columns from a single table**"
   ]
  },
  {
   "cell_type": "code",
   "execution_count": 7,
   "metadata": {
    "collapsed": false,
    "slideshow": {
     "slide_type": "-"
    }
   },
   "outputs": [
    {
     "name": "stdout",
     "output_type": "stream",
     "text": [
      "product_id                    product_name                  aisle_id                      department_id                 \n",
      "1                             Chocolate Sandwich Cookies    61                            19                            \n",
      "2                             All-Seasons Salt              104                           13                            \n",
      "3                             Robust Golden Unsweetened Oolo94                            7                             \n",
      "4                             Smart Ones Classic Favorites M38                            1                             \n",
      "5                             Green Chile Anytime Sauce     5                             13                            \n"
     ]
    }
   ],
   "source": [
    "# it is a good practice to capitalize SELECT and FORM\n",
    "# SELECT: what data do we need to read\n",
    "# FROM: where do we get the data from\n",
    "\n",
    "query = \"\"\"\n",
    "        SELECT *\n",
    "        FROM products\n",
    "        \"\"\"\n",
    "\n",
    "run_query(eng, query)\n"
   ]
  },
  {
   "cell_type": "markdown",
   "metadata": {
    "collapsed": false,
    "slideshow": {
     "slide_type": "fragment"
    }
   },
   "source": [
    "**Select certain columns**"
   ]
  },
  {
   "cell_type": "code",
   "execution_count": 8,
   "metadata": {
    "collapsed": false,
    "slideshow": {
     "slide_type": "-"
    }
   },
   "outputs": [
    {
     "name": "stdout",
     "output_type": "stream",
     "text": [
      "product_id                    aisle_id                      department_id                 \n",
      "1                             61                            19                            \n",
      "2                             104                           13                            \n",
      "3                             94                            7                             \n",
      "4                             38                            1                             \n",
      "5                             5                             13                            \n"
     ]
    }
   ],
   "source": [
    "# we dont always want the whole columns\n",
    "# thus, we specify the columns that we are going to need\n",
    "\n",
    "query = \"\"\"\n",
    "        SELECT product_id, aisle_id, department_id\n",
    "        FROM products\n",
    "        \"\"\"\n",
    "\n",
    "run_query(eng, query)\n"
   ]
  },
  {
   "cell_type": "markdown",
   "metadata": {
    "collapsed": false,
    "slideshow": {
     "slide_type": "fragment"
    }
   },
   "source": [
    "**Select and rename certain columns**"
   ]
  },
  {
   "cell_type": "code",
   "execution_count": 9,
   "metadata": {
    "collapsed": false,
    "slideshow": {
     "slide_type": "-"
    }
   },
   "outputs": [
    {
     "name": "stdout",
     "output_type": "stream",
     "text": [
      "pid                           aid                           did                           \n",
      "1                             61                            19                            \n",
      "2                             104                           13                            \n",
      "3                             94                            7                             \n",
      "4                             38                            1                             \n",
      "5                             5                             13                            \n"
     ]
    }
   ],
   "source": [
    "# SQL allows me rename columns that Im working with\n",
    "\n",
    "query = \"\"\"\n",
    "        SELECT product_id AS pid, aisle_id AS aid, department_id AS did\n",
    "        FROM products\n",
    "        \"\"\"\n",
    "\n",
    "run_query(eng, query)\n"
   ]
  },
  {
   "cell_type": "markdown",
   "metadata": {
    "collapsed": false,
    "slideshow": {
     "slide_type": "fragment"
    }
   },
   "source": [
    "**Reference table using abbreviation**"
   ]
  },
  {
   "cell_type": "code",
   "execution_count": 10,
   "metadata": {
    "collapsed": false,
    "slideshow": {
     "slide_type": "-"
    }
   },
   "outputs": [
    {
     "name": "stdout",
     "output_type": "stream",
     "text": [
      "pid                           aisle_id                      department_id                 \n",
      "1                             61                            19                            \n",
      "2                             104                           13                            \n",
      "3                             94                            7                             \n",
      "4                             38                            1                             \n",
      "5                             5                             13                            \n"
     ]
    }
   ],
   "source": [
    "query = \"\"\"\n",
    "        SELECT p.product_id AS pid, p.aisle_id, p.department_id\n",
    "        FROM products p\n",
    "        \"\"\"\n",
    "\n",
    "run_query(eng, query)\n"
   ]
  },
  {
   "cell_type": "markdown",
   "metadata": {
    "collapsed": false,
    "slideshow": {
     "slide_type": "fragment"
    }
   },
   "source": [
    "**Select functions of columns**"
   ]
  },
  {
   "cell_type": "code",
   "execution_count": 11,
   "metadata": {
    "collapsed": false,
    "slideshow": {
     "slide_type": "-"
    }
   },
   "outputs": [
    {
     "name": "stdout",
     "output_type": "stream",
     "text": [
      "pid                           aisle_id                      department_id                 a_d_id                        \n",
      "1                             61                            19                            80                            \n",
      "2                             104                           13                            117                           \n",
      "3                             94                            7                             101                           \n",
      "4                             38                            1                             39                            \n",
      "5                             5                             13                            18                            \n"
     ]
    }
   ],
   "source": [
    "# we can use abbreviations\n",
    "# this is a query\n",
    "# we are going to select also the sum of two columns\n",
    "\n",
    "query = \"\"\"\n",
    "        SELECT product_id AS pid, aisle_id, department_id, aisle_id + department_id AS a_d_id\n",
    "        FROM products p\n",
    "        \"\"\"\n",
    "\n",
    "run_query(eng, query)\n"
   ]
  },
  {
   "cell_type": "markdown",
   "metadata": {
    "collapsed": false,
    "slideshow": {
     "slide_type": "subslide"
    }
   },
   "source": [
    "#### JOIN\n",
    "\n",
    "SQL is a relational database which means that\n",
    "\n",
    "1. We will typically store data in multiple tables\n",
    "2. We'd like to be able to combine and manipulate data from multiple tables\n",
    "\n",
    "`JOIN` allows us bring together two (or more) datasets into a single query"
   ]
  },
  {
   "cell_type": "markdown",
   "metadata": {
    "collapsed": false,
    "slideshow": {
     "slide_type": "fragment"
    }
   },
   "source": [
    "**Select all columns from two tables**"
   ]
  },
  {
   "cell_type": "code",
   "execution_count": 12,
   "metadata": {
    "collapsed": false,
    "slideshow": {
     "slide_type": "-"
    }
   },
   "outputs": [
    {
     "name": "stdout",
     "output_type": "stream",
     "text": [
      "product_id        product_name      aisle_id          department_id     aisle_id          aisle             \n",
      "1                 Chocolate Sandwich61                19                61                cookies cakes     \n",
      "2                 All-Seasons Salt  104               13                104               spices seasonings \n",
      "3                 Robust Golden Unsw94                7                 94                tea               \n",
      "4                 Smart Ones Classic38                1                 38                frozen meals      \n",
      "5                 Green Chile Anytim5                 13                5                 marinades meat pre\n"
     ]
    }
   ],
   "source": [
    "# SQL is a relational data base\n",
    "# store data in multiple tables\n",
    "\n",
    "query = \"\"\"\n",
    "        SELECT *\n",
    "        FROM products p\n",
    "        JOIN aisles a ON (p.aisle_id=a.aisle_id)\n",
    "        \"\"\"\n",
    "\n",
    "run_query(eng, query, 18)\n"
   ]
  },
  {
   "cell_type": "markdown",
   "metadata": {
    "collapsed": false,
    "slideshow": {
     "slide_type": "fragment"
    }
   },
   "source": [
    "**Select subset of columns from each table**"
   ]
  },
  {
   "cell_type": "code",
   "execution_count": 13,
   "metadata": {
    "collapsed": false,
    "slideshow": {
     "slide_type": "-"
    }
   },
   "outputs": [
    {
     "name": "stdout",
     "output_type": "stream",
     "text": [
      "product_name                  aisle_id                      department_id                 aisle                         \n",
      "Chocolate Sandwich Cookies    61                            19                            cookies cakes                 \n",
      "All-Seasons Salt              104                           13                            spices seasonings             \n",
      "Robust Golden Unsweetened Oolo94                            7                             tea                           \n",
      "Smart Ones Classic Favorites M38                            1                             frozen meals                  \n",
      "Green Chile Anytime Sauce     5                             13                            marinades meat preparation    \n"
     ]
    }
   ],
   "source": [
    "# SELECT: we choose the columns\n",
    "\n",
    "query = \"\"\"\n",
    "        SELECT p.product_name, p.aisle_id, p.department_id, a.aisle \n",
    "        FROM products p\n",
    "        JOIN aisles a ON (p.aisle_id=a.aisle_id)\n",
    "        \"\"\"\n",
    "\n",
    "run_query(eng, query, 30)\n"
   ]
  },
  {
   "cell_type": "markdown",
   "metadata": {
    "collapsed": false,
    "slideshow": {
     "slide_type": "fragment"
    }
   },
   "source": [
    "**Select data with different joins**\n",
    "\n",
    "The merges that we've done using pandas use the same notation as SQL joins:\n",
    "\n",
    "- `LEFT`: Use values from the left table to merge datasets\n",
    "- `RIGHT`: Use values from the right table to merge datasets\n",
    "- `INNER`: Only keep values contained in both the left and right datasets\n",
    "- `OUTER`: Keep all values contained in either the left or right dataset."
   ]
  },
  {
   "cell_type": "code",
   "execution_count": 14,
   "metadata": {
    "collapsed": false,
    "slideshow": {
     "slide_type": "-"
    }
   },
   "outputs": [
    {
     "name": "stdout",
     "output_type": "stream",
     "text": [
      "product_name                  aisle_id                      department_id                 aisle                         \n",
      "Chocolate Sandwich Cookies    61                            19                            cookies cakes                 \n",
      "All-Seasons Salt              104                           13                            spices seasonings             \n",
      "Robust Golden Unsweetened Oolo94                            7                             tea                           \n",
      "Smart Ones Classic Favorites M38                            1                             frozen meals                  \n",
      "Green Chile Anytime Sauce     5                             13                            marinades meat preparation    \n"
     ]
    }
   ],
   "source": [
    "# there's 4 different merges that we can do\n",
    "# here the explanation included the diagrams that cannot be pasted here\n",
    "# the data sets are clean\n",
    "\n",
    "# left--> dataset X and Y, and both have Id. Then the two circles reprresent the values of Id that exist in both datasets\n",
    "# The merge will look at the values of Id that exist in X (dataset)\n",
    "\n",
    "\n",
    "query = \"\"\"\n",
    "        SELECT p.product_name, p.aisle_id, p.department_id, a.aisle\n",
    "        FROM products p\n",
    "        INNER JOIN aisles a ON (p.aisle_id=a.aisle_id)\n",
    "        \"\"\"\n",
    "\n",
    "# RIGHT and OUTER dont work with SQL light\n",
    "\n",
    "# In this case they're all the same because there is no\n",
    "# missing data...\n",
    "# the dattasets are clean\n",
    "run_query(eng, query, 30)\n"
   ]
  },
  {
   "cell_type": "markdown",
   "metadata": {
    "collapsed": false,
    "slideshow": {
     "slide_type": "fragment"
    }
   },
   "source": [
    "**Select data with multiple joins**\n",
    "\n",
    "We don't have to restrict ourselves to only combining two datasets -- We can combine as many as we'd like!"
   ]
  },
  {
   "cell_type": "code",
   "execution_count": 15,
   "metadata": {
    "collapsed": false,
    "slideshow": {
     "slide_type": "-"
    }
   },
   "outputs": [
    {
     "name": "stdout",
     "output_type": "stream",
     "text": [
      "product_name                  aisle                         department                    \n",
      "Chocolate Sandwich Cookies    cookies cakes                 snacks                        \n",
      "All-Seasons Salt              spices seasonings             pantry                        \n",
      "Robust Golden Unsweetened Oolotea                           beverages                     \n",
      "Smart Ones Classic Favorites Mfrozen meals                  frozen                        \n",
      "Green Chile Anytime Sauce     marinades meat preparation    pantry                        \n"
     ]
    }
   ],
   "source": [
    "query = \"\"\"\n",
    "        SELECT p.product_name, a.aisle, d.department\n",
    "        FROM products p\n",
    "        LEFT JOIN aisles a ON (p.aisle_id=a.aisle_id)\n",
    "        LEFT JOIN departments d ON (p.department_id=d.department_id)\n",
    "        \"\"\"\n",
    "\n",
    "# In this case they're all the same because there is no\n",
    "# missing data...\n",
    "run_query(eng, query, 30)\n"
   ]
  },
  {
   "cell_type": "markdown",
   "metadata": {
    "collapsed": false,
    "slideshow": {
     "slide_type": "subslide"
    }
   },
   "source": [
    "#### WHERE\n",
    "\n",
    "We are often interested in working with subsets of the data rather than selecting all of the rows.\n",
    "\n",
    "SQL allows us to specify certain conditions to restrict the set of observations that are returned using the `WHERE` clause."
   ]
  },
  {
   "cell_type": "markdown",
   "metadata": {
    "collapsed": false,
    "slideshow": {
     "slide_type": "fragment"
    }
   },
   "source": [
    "**Retrieve certain groups** (compare  strings)"
   ]
  },
  {
   "cell_type": "code",
   "execution_count": 16,
   "metadata": {
    "collapsed": false,
    "slideshow": {
     "slide_type": "-"
    }
   },
   "outputs": [
    {
     "name": "stdout",
     "output_type": "stream",
     "text": [
      "product_name                  aisle                         department                    \n",
      "Chocolate Sandwich Cookies    cookies cakes                 snacks                        \n",
      "Mint Chocolate Flavored Syrup ice cream toppings            snacks                        \n",
      "Salted Caramel Lean Protein & energy granola bars           snacks                        \n",
      "Nacho Cheese White Bean Chips chips pretzels                snacks                        \n",
      "Organic Sourdough Einkorn Craccrackers                      snacks                        \n"
     ]
    }
   ],
   "source": [
    "query = \"\"\"\n",
    "        SELECT p.product_name, a.aisle, d.department\n",
    "        FROM products p\n",
    "        LEFT JOIN aisles a ON (p.aisle_id=a.aisle_id)\n",
    "        LEFT JOIN departments d ON (p.department_id=d.department_id)\n",
    "        WHERE d.department = 'snacks'\n",
    "        \"\"\"\n",
    "\n",
    "# we can filter out snacks with !=\n",
    "\n",
    "run_query(eng, query, 30)\n"
   ]
  },
  {
   "cell_type": "markdown",
   "metadata": {
    "collapsed": false,
    "slideshow": {
     "slide_type": "fragment"
    }
   },
   "source": [
    "**Retrieve certain groups** (compare numbers)"
   ]
  },
  {
   "cell_type": "code",
   "execution_count": 17,
   "metadata": {
    "collapsed": false,
    "slideshow": {
     "slide_type": "-"
    }
   },
   "outputs": [
    {
     "name": "stdout",
     "output_type": "stream",
     "text": [
      "product_name                  aisle                         department                    aisle_id                      \n",
      "Mirabelle Brut Rose           specialty wines champagnes    alcohol                       134                           \n",
      "Brut Rosé                     specialty wines champagnes    alcohol                       134                           \n",
      "Ibuprofen Liquid Gels         muscles joints pain relief    personal care                 133                           \n",
      "Aspirin 325 Mg                muscles joints pain relief    personal care                 133                           \n",
      "Migraine Caplets              muscles joints pain relief    personal care                 133                           \n"
     ]
    }
   ],
   "source": [
    "# we could ask for particular aisles\n",
    "# higher than 132\n",
    "\n",
    "query = \"\"\"\n",
    "        SELECT p.product_name, a.aisle, d.department, a.aisle_id\n",
    "        FROM products p\n",
    "        LEFT JOIN aisles a ON (p.aisle_id=a.aisle_id)\n",
    "        LEFT JOIN departments d ON (p.department_id=d.department_id)\n",
    "        WHERE a.aisle_id > 132\n",
    "        \"\"\"\n",
    "\n",
    "run_query(eng, query, 30)\n"
   ]
  },
  {
   "cell_type": "markdown",
   "metadata": {
    "collapsed": false,
    "slideshow": {
     "slide_type": "fragment"
    }
   },
   "source": [
    "**Multiple conditions**\n",
    "\n",
    "We use `AND` and `OR` to specify the boolean condition"
   ]
  },
  {
   "cell_type": "code",
   "execution_count": 18,
   "metadata": {
    "collapsed": false,
    "slideshow": {
     "slide_type": "-"
    }
   },
   "outputs": [
    {
     "name": "stdout",
     "output_type": "stream",
     "text": [
      "product_name                  aisle                         department                    aisle_id                      department_id                 \n",
      "All-Seasons Salt              spices seasonings             pantry                        104                           13                            \n",
      "Robust Golden Unsweetened Oolotea                           beverages                     94                            7                             \n",
      "Smart Ones Classic Favorites Mfrozen meals                  frozen                        38                            1                             \n",
      "Pure Coconut Water With Orangejuice nectars                 beverages                     98                            7                             \n",
      "Cut Russet Potatoes Steam N' Mfrozen produce                frozen                        116                           1                             \n"
     ]
    }
   ],
   "source": [
    "# the last three columns of SELECT were added\n",
    "# we could also check by AND\n",
    "\n",
    "query = \"\"\"\n",
    "        SELECT p.product_name, a.aisle, d.department, a.aisle_id, d.department_id\n",
    "        FROM products p\n",
    "        LEFT JOIN aisles a ON (p.aisle_id=a.aisle_id)\n",
    "        LEFT JOIN departments d ON (p.department_id=d.department_id)\n",
    "        WHERE a.aisle_id > 100 OR d.department_id<10\n",
    "        \"\"\"\n",
    "\n",
    "# we could also check by using OR\n",
    "\n",
    "run_query(eng, query, 30)\n",
    "\n",
    "\n",
    "# BELOW WE CAN IMPOSE RESTRICTIONS TO EXTRACT OUR DATA BY USING DATETIME AS WELL (dt)\n"
   ]
  },
  {
   "cell_type": "markdown",
   "metadata": {
    "collapsed": false,
    "slideshow": {
     "slide_type": "fragment"
    }
   },
   "source": [
    "**Retrieve the most recent data** (compare datetime)\n",
    "\n",
    "Imagine we had a table that contained quarterly sales\n",
    "\n",
    "| dt | store_id | sales |\n",
    "| ---- | ---- | ---- |\n",
    "| 2020-03-31 | 1 | 100 |\n",
    "| 2020-06-30 | 1 | 200 |\n",
    "| 2020-09-30 | 1 | 300 |\n",
    "| 2020-12-31 | 1 | 400 |\n",
    "| 2020-03-31 | 2 | 1000 |\n",
    "| 2020-06-30 | 2 | 2000 |\n",
    "| 2020-09-30 | 2 | 3000 |\n",
    "| 2020-12-31 | 2 | 4000 |"
   ]
  },
  {
   "cell_type": "markdown",
   "metadata": {
    "collapsed": false,
    "slideshow": {
     "slide_type": "-"
    }
   },
   "source": [
    "If we wanted to select only the observations from quarter 1, we could write\n",
    "\n",
    "```sql\n",
    "SELECT *\n",
    "FROM sales\n",
    "WHERE dt<'2020-04-01'\n",
    "```\n",
    "\n",
    "| dt | store_id | sales |\n",
    "| ---- | ---- | ---- |\n",
    "| 2020-03-31 | 1 | 100 |\n",
    "| 2020-03-31 | 2 | 1000 |"
   ]
  },
  {
   "cell_type": "markdown",
   "metadata": {
    "collapsed": false,
    "slideshow": {
     "slide_type": "-"
    }
   },
   "source": [
    "If we wanted to select observations from Q3 and Q4, we could write\n",
    "\n",
    "```sql\n",
    "SELECT *\n",
    "FROM sales\n",
    "WHERE dt>'2020-06-31'\n",
    "```\n",
    "\n",
    "| dt | store_id | sales |\n",
    "| ---- | ---- | ---- |\n",
    "| 2020-09-30 | 1 | 300 |\n",
    "| 2020-12-31 | 1 | 400 |\n",
    "| 2020-09-30 | 2 | 3000 |\n",
    "| 2020-12-31 | 2 | 4000 |"
   ]
  },
  {
   "cell_type": "markdown",
   "metadata": {
    "collapsed": false,
    "slideshow": {
     "slide_type": "subslide"
    }
   },
   "source": [
    "#### GROUP BY\n",
    "\n",
    "The `GROUP BY` argument allows us to aggregate certain groups of values (much like the pandas `groupby` method).\n",
    "\n",
    "When you perform a `GROUP BY`, any column that is not an element of the \"group\" must have a reduction function applied to it"
   ]
  },
  {
   "cell_type": "markdown",
   "metadata": {
    "collapsed": false,
    "slideshow": {
     "slide_type": "fragment"
    }
   },
   "source": [
    "**Group by single column**"
   ]
  },
  {
   "cell_type": "code",
   "execution_count": 19,
   "metadata": {
    "collapsed": false,
    "slideshow": {
     "slide_type": "-"
    }
   },
   "outputs": [
    {
     "name": "stdout",
     "output_type": "stream",
     "text": [
      "order_dow      norder         \n",
      "0              600905         \n",
      "1              587478         \n",
      "2              467260         \n",
      "3              436972         \n",
      "4              426339         \n"
     ]
    }
   ],
   "source": [
    "# we would allow group columnms such as pandas\n",
    "\n",
    "query = \"\"\"\n",
    "        SELECT order_dow, COUNT(user_id) AS norder\n",
    "        FROM orders o\n",
    "        GROUP BY order_dow\n",
    "        \"\"\"\n",
    "\n",
    "run_query(eng, query, 15)\n"
   ]
  },
  {
   "cell_type": "markdown",
   "metadata": {
    "collapsed": false,
    "slideshow": {
     "slide_type": "fragment"
    }
   },
   "source": [
    "**Group by multiple columns**"
   ]
  },
  {
   "cell_type": "code",
   "execution_count": 20,
   "metadata": {
    "collapsed": false,
    "slideshow": {
     "slide_type": "-"
    }
   },
   "outputs": [
    {
     "name": "stdout",
     "output_type": "stream",
     "text": [
      "user_id        order_dow      norder         \n",
      "1              1              3              \n",
      "1              2              2              \n",
      "1              3              2              \n",
      "1              4              4              \n",
      "2              1              6              \n"
     ]
    }
   ],
   "source": [
    "# group by more than one column\n",
    "# the user ordered 4 times on thursday--> day 4\n",
    "\n",
    "query = \"\"\"\n",
    "        SELECT user_id, order_dow, COUNT(order_id) AS norder\n",
    "        FROM orders o\n",
    "        GROUP BY user_id, order_dow\n",
    "        \"\"\"\n",
    "\n",
    "run_query(eng, query, 15)\n"
   ]
  },
  {
   "cell_type": "markdown",
   "metadata": {
    "collapsed": false,
    "slideshow": {
     "slide_type": "fragment"
    }
   },
   "source": [
    "**Aggregate multiple columns**"
   ]
  },
  {
   "cell_type": "code",
   "execution_count": 21,
   "metadata": {
    "collapsed": false,
    "slideshow": {
     "slide_type": "-"
    }
   },
   "outputs": [
    {
     "name": "stdout",
     "output_type": "stream",
     "text": [
      "user_id        order_dow      norder         avg_days_since_order\n",
      "1              1              3              11.333333333333\n",
      "1              2              2              9.5            \n",
      "1              3              2              18.0           \n",
      "1              4              4              25.25          \n",
      "2              1              6              20.666666666666\n"
     ]
    }
   ],
   "source": [
    "# when the user orders on thursday, it waits almost 11 aprox days to order again\n",
    "\n",
    "query = \"\"\"\n",
    "        SELECT user_id, order_dow,\n",
    "               COUNT(order_id) AS norder,\n",
    "               AVG(days_since_prior_order) AS avg_days_since_order\n",
    "        FROM orders o\n",
    "        GROUP BY user_id, order_dow\n",
    "        \"\"\"\n",
    "\n",
    "run_query(eng, query, 15)\n"
   ]
  },
  {
   "cell_type": "markdown",
   "metadata": {
    "collapsed": false,
    "slideshow": {
     "slide_type": "subslide"
    }
   },
   "source": [
    "#### ORDER BY\n",
    "\n",
    "`ORDER BY` allows us to sort the output of a query"
   ]
  },
  {
   "cell_type": "markdown",
   "metadata": {
    "collapsed": false,
    "slideshow": {
     "slide_type": "fragment"
    }
   },
   "source": [
    "**Order by single column**"
   ]
  },
  {
   "cell_type": "code",
   "execution_count": 22,
   "metadata": {
    "collapsed": false,
    "slideshow": {
     "slide_type": "-"
    }
   },
   "outputs": [
    {
     "name": "stdout",
     "output_type": "stream",
     "text": [
      "order_id       user_id        order_number   days_since_prior_order\n",
      "431534         1              5              28             \n",
      "473747         1              3              21             \n",
      "550135         1              7              20             \n",
      "1187899        1              11             14             \n",
      "2254736        1              4              29             \n"
     ]
    }
   ],
   "source": [
    "# the data is out of order here--> see order_numnber\n",
    "\n",
    "query = \"\"\"\n",
    "        SELECT order_id, user_id, order_number, days_since_prior_order\n",
    "        FROM orders o\n",
    "        ORDER BY user_id\n",
    "        \"\"\"\n",
    "\n",
    "run_query(eng, query, 15)\n"
   ]
  },
  {
   "cell_type": "markdown",
   "metadata": {
    "collapsed": false,
    "slideshow": {
     "slide_type": "fragment"
    }
   },
   "source": [
    "**Order by multiple columns**"
   ]
  },
  {
   "cell_type": "code",
   "execution_count": 23,
   "metadata": {
    "collapsed": false,
    "slideshow": {
     "slide_type": "-"
    }
   },
   "outputs": [
    {
     "name": "stdout",
     "output_type": "stream",
     "text": [
      "order_id       user_id        order_number   days_since_prior_order\n",
      "2539329        1              1                             \n",
      "2398795        1              2              15             \n",
      "473747         1              3              21             \n",
      "2254736        1              4              29             \n",
      "431534         1              5              28             \n"
     ]
    }
   ],
   "source": [
    "# thus, we order by the order_number in ascending order\n",
    "\n",
    "query = \"\"\"\n",
    "        SELECT order_id, user_id, order_number, days_since_prior_order\n",
    "        FROM orders o\n",
    "        ORDER BY user_id, order_number\n",
    "        \"\"\"\n",
    "\n",
    "run_query(eng, query, 15)\n"
   ]
  },
  {
   "cell_type": "markdown",
   "metadata": {
    "collapsed": false,
    "slideshow": {
     "slide_type": "fragment"
    }
   },
   "source": [
    "**Order by ascending/descending**\n",
    "\n",
    "The keywords for specifying the order of ordering are `ASC` (for ascending) and `DESC` (for descending)"
   ]
  },
  {
   "cell_type": "code",
   "execution_count": 24,
   "metadata": {
    "collapsed": false,
    "slideshow": {
     "slide_type": "-"
    }
   },
   "outputs": [
    {
     "name": "stdout",
     "output_type": "stream",
     "text": [
      "order_id       user_id        order_number   days_since_prior_order\n",
      "2254736        1              4              29             \n",
      "749250         48             7              29             \n",
      "1643524        48             5              29             \n",
      "2994801        59             8              29             \n",
      "1019719        62             11             29             \n"
     ]
    }
   ],
   "source": [
    "# user_id is increasing\n",
    "\n",
    "query = \"\"\"\n",
    "        SELECT order_id, user_id, order_number, days_since_prior_order\n",
    "        FROM orders o\n",
    "        WHERE days_since_prior_order < 30\n",
    "        ORDER BY days_since_prior_order DESC, user_id ASC\n",
    "        \"\"\"\n",
    "\n",
    "run_query(eng, query, 15)\n"
   ]
  },
  {
   "cell_type": "markdown",
   "metadata": {
    "collapsed": false,
    "slideshow": {
     "slide_type": "subslide"
    }
   },
   "source": [
    "#### LIMIT\n",
    "\n",
    "`LIMIT` is a SQL clause that specifies the (maximum) number of rows that should be returned.\n",
    "\n",
    "It performs the same role as the pandas dataframe `head` method -- It allows you to select the $n$ largest/smallest values or simply get a preview of your data\n"
   ]
  },
  {
   "cell_type": "markdown",
   "metadata": {
    "collapsed": false,
    "slideshow": {
     "slide_type": "fragment"
    }
   },
   "source": [
    "**Retrieve first n rows**"
   ]
  },
  {
   "cell_type": "code",
   "execution_count": 25,
   "metadata": {
    "collapsed": false,
    "slideshow": {
     "slide_type": "-"
    }
   },
   "outputs": [
    {
     "name": "stdout",
     "output_type": "stream",
     "text": [
      "CPU times: user 1.4 ms, sys: 2.33 ms, total: 3.73 ms\n",
      "Wall time: 6.78 ms\n"
     ]
    }
   ],
   "source": [
    "%%time\n",
    "\n",
    "# this is used to geet a preview of the data\n",
    "\n",
    "\n",
    "query_l10 = \"\"\"\n",
    "        SELECT *\n",
    "        FROM orders o\n",
    "        LIMIT 10\n",
    "        \"\"\"\n",
    "\n",
    "_ = eng.execute(query_l10).fetchall()\n"
   ]
  },
  {
   "cell_type": "code",
   "execution_count": 26,
   "metadata": {
    "collapsed": false,
    "slideshow": {
     "slide_type": "-"
    }
   },
   "outputs": [
    {
     "name": "stdout",
     "output_type": "stream",
     "text": [
      "CPU times: user 13.2 s, sys: 2.32 s, total: 15.5 s\n",
      "Wall time: 23 s\n"
     ]
    }
   ],
   "source": [
    "%%time\n",
    "\n",
    "query_all = \"\"\"\n",
    "        SELECT *\n",
    "        FROM orders o\n",
    "        \"\"\"\n",
    "\n",
    "_ = eng.execute(query_all).fetchall()\n"
   ]
  },
  {
   "cell_type": "markdown",
   "metadata": {
    "collapsed": false,
    "slideshow": {
     "slide_type": "subslide"
    }
   },
   "source": [
    "### Reading with pandas\n",
    "\n",
    "We have directly used SQLAlchemy's engine to read in data up until this point, but we can also read from the engine using pandas!"
   ]
  },
  {
   "cell_type": "code",
   "execution_count": 27,
   "metadata": {
    "collapsed": false,
    "slideshow": {
     "slide_type": "-"
    }
   },
   "outputs": [
    {
     "data": {
      "text/html": [
       "<div>\n",
       "<style scoped>\n",
       "    .dataframe tbody tr th:only-of-type {\n",
       "        vertical-align: middle;\n",
       "    }\n",
       "\n",
       "    .dataframe tbody tr th {\n",
       "        vertical-align: top;\n",
       "    }\n",
       "\n",
       "    .dataframe thead th {\n",
       "        text-align: right;\n",
       "    }\n",
       "</style>\n",
       "<table border=\"1\" class=\"dataframe\">\n",
       "  <thead>\n",
       "    <tr style=\"text-align: right;\">\n",
       "      <th></th>\n",
       "      <th>order_id</th>\n",
       "      <th>user_id</th>\n",
       "      <th>order_number</th>\n",
       "      <th>days_since_prior_order</th>\n",
       "    </tr>\n",
       "  </thead>\n",
       "  <tbody>\n",
       "    <tr>\n",
       "      <th>0</th>\n",
       "      <td>2539329</td>\n",
       "      <td>1</td>\n",
       "      <td>1</td>\n",
       "      <td></td>\n",
       "    </tr>\n",
       "    <tr>\n",
       "      <th>1</th>\n",
       "      <td>2168274</td>\n",
       "      <td>2</td>\n",
       "      <td>1</td>\n",
       "      <td></td>\n",
       "    </tr>\n",
       "    <tr>\n",
       "      <th>2</th>\n",
       "      <td>1374495</td>\n",
       "      <td>3</td>\n",
       "      <td>1</td>\n",
       "      <td></td>\n",
       "    </tr>\n",
       "    <tr>\n",
       "      <th>3</th>\n",
       "      <td>3343014</td>\n",
       "      <td>4</td>\n",
       "      <td>1</td>\n",
       "      <td></td>\n",
       "    </tr>\n",
       "    <tr>\n",
       "      <th>4</th>\n",
       "      <td>2717275</td>\n",
       "      <td>5</td>\n",
       "      <td>1</td>\n",
       "      <td></td>\n",
       "    </tr>\n",
       "    <tr>\n",
       "      <th>...</th>\n",
       "      <td>...</td>\n",
       "      <td>...</td>\n",
       "      <td>...</td>\n",
       "      <td>...</td>\n",
       "    </tr>\n",
       "    <tr>\n",
       "      <th>3421078</th>\n",
       "      <td>648225</td>\n",
       "      <td>206206</td>\n",
       "      <td>52</td>\n",
       "      <td>0</td>\n",
       "    </tr>\n",
       "    <tr>\n",
       "      <th>3421079</th>\n",
       "      <td>1043943</td>\n",
       "      <td>206206</td>\n",
       "      <td>68</td>\n",
       "      <td>0</td>\n",
       "    </tr>\n",
       "    <tr>\n",
       "      <th>3421080</th>\n",
       "      <td>2475308</td>\n",
       "      <td>206206</td>\n",
       "      <td>58</td>\n",
       "      <td>0</td>\n",
       "    </tr>\n",
       "    <tr>\n",
       "      <th>3421081</th>\n",
       "      <td>3206698</td>\n",
       "      <td>206206</td>\n",
       "      <td>35</td>\n",
       "      <td>0</td>\n",
       "    </tr>\n",
       "    <tr>\n",
       "      <th>3421082</th>\n",
       "      <td>2079142</td>\n",
       "      <td>206208</td>\n",
       "      <td>26</td>\n",
       "      <td>0</td>\n",
       "    </tr>\n",
       "  </tbody>\n",
       "</table>\n",
       "<p>3421083 rows × 4 columns</p>\n",
       "</div>"
      ],
      "text/plain": [
       "         order_id  user_id  order_number days_since_prior_order\n",
       "0         2539329        1             1                       \n",
       "1         2168274        2             1                       \n",
       "2         1374495        3             1                       \n",
       "3         3343014        4             1                       \n",
       "4         2717275        5             1                       \n",
       "...           ...      ...           ...                    ...\n",
       "3421078    648225   206206            52                      0\n",
       "3421079   1043943   206206            68                      0\n",
       "3421080   2475308   206206            58                      0\n",
       "3421081   3206698   206206            35                      0\n",
       "3421082   2079142   206208            26                      0\n",
       "\n",
       "[3421083 rows x 4 columns]"
      ]
     },
     "execution_count": 27,
     "metadata": {},
     "output_type": "execute_result"
    }
   ],
   "source": [
    "# if we pass this query, pandas will execute this dataframe\n",
    "\n",
    "query = \"\"\"\n",
    "        SELECT order_id, user_id, order_number, days_since_prior_order\n",
    "        FROM orders o\n",
    "        ORDER BY days_since_prior_order DESC, user_id ASC\n",
    "        \"\"\"\n",
    "\n",
    "pd.read_sql(query, eng)"
   ]
  },
  {
   "cell_type": "markdown",
   "metadata": {
    "collapsed": false,
    "slideshow": {
     "slide_type": "slide"
    }
   },
   "source": [
    "## Redoing our reorder example in SQL using a `WITH` clause\n",
    "\n",
    "`WITH` clauses allow us to define a \"temporary table\" that can be used in a subsequent query"
   ]
  },
  {
   "cell_type": "code",
   "execution_count": 31,
   "metadata": {
    "collapsed": false,
    "slideshow": {
     "slide_type": "-"
    }
   },
   "outputs": [],
   "source": [
    "# with clause allows as to use the temporary table\n",
    "# we are going to use SQL only\n",
    "# we are going to do this by counting the add to cart_order and summing the reordered values\n",
    "# Then, this is coming from the product_order table\n",
    "# then it will left join from the products order table and join that on the po.order_id=o.order_id\n",
    "# we will look at columns where values are not missing\n",
    "# all of this until the first parenthesis\n",
    "\n",
    "# Now, we SELECT FROM the new table agg_po \n",
    "# as fraction\n",
    "# FROM agg_po\n",
    "# LEFT JOIN products P ON apo.product_id=p.product_id\n",
    "# PRODUCTS THAT HAVE AT LEAST 10 REORDERS\n",
    "\n",
    "query = \"\"\"\n",
    "    WITH agg_po AS (\n",
    "        SELECT po.product_id,\n",
    "               COUNT(po.add_to_cart_order) AS norder,\n",
    "               SUM(po.reordered) AS nreorder\n",
    "        FROM products_ordered po\n",
    "        LEFT JOIN orders o ON po.order_id=o.order_id\n",
    "        WHERE o.days_since_prior_order IS NOT NULL\n",
    "        GROUP BY po.product_id\n",
    "    ) \n",
    "    SELECT apo.product_id, apo.norder, apo.nreorder,\n",
    "           (apo.nreorder*1.0 / apo.norder) AS frac_reorder,\n",
    "           p.product_name, p.aisle_id, p.department_id\n",
    "    FROM agg_po as apo\n",
    "    LEFT JOIN products p ON apo.product_id=p.product_id\n",
    "    WHERE apo.nreorder > 10\n",
    "    ORDER BY frac_reorder DESC\n",
    "\"\"\"\n",
    "\n",
    "df = pd.read_sql(query, eng)"
   ]
  },
  {
   "cell_type": "code",
   "execution_count": 29,
   "metadata": {
    "collapsed": false
   },
   "outputs": [
    {
     "data": {
      "text/html": [
       "<div>\n",
       "<style scoped>\n",
       "    .dataframe tbody tr th:only-of-type {\n",
       "        vertical-align: middle;\n",
       "    }\n",
       "\n",
       "    .dataframe tbody tr th {\n",
       "        vertical-align: top;\n",
       "    }\n",
       "\n",
       "    .dataframe thead th {\n",
       "        text-align: right;\n",
       "    }\n",
       "</style>\n",
       "<table border=\"1\" class=\"dataframe\">\n",
       "  <thead>\n",
       "    <tr style=\"text-align: right;\">\n",
       "      <th></th>\n",
       "      <th>product_id</th>\n",
       "      <th>norder</th>\n",
       "      <th>nreorder</th>\n",
       "      <th>frac_reorder</th>\n",
       "      <th>product_name</th>\n",
       "      <th>aisle_id</th>\n",
       "      <th>department_id</th>\n",
       "    </tr>\n",
       "  </thead>\n",
       "  <tbody>\n",
       "    <tr>\n",
       "      <th>0</th>\n",
       "      <td>6433</td>\n",
       "      <td>69</td>\n",
       "      <td>65</td>\n",
       "      <td>0.942029</td>\n",
       "      <td>Raw Veggie Wrappers</td>\n",
       "      <td>13</td>\n",
       "      <td>20</td>\n",
       "    </tr>\n",
       "    <tr>\n",
       "      <th>1</th>\n",
       "      <td>2075</td>\n",
       "      <td>90</td>\n",
       "      <td>84</td>\n",
       "      <td>0.933333</td>\n",
       "      <td>Serenity Ultimate Extrema Overnight Pads</td>\n",
       "      <td>126</td>\n",
       "      <td>11</td>\n",
       "    </tr>\n",
       "    <tr>\n",
       "      <th>2</th>\n",
       "      <td>43553</td>\n",
       "      <td>13</td>\n",
       "      <td>12</td>\n",
       "      <td>0.923077</td>\n",
       "      <td>Orange Energy Shots</td>\n",
       "      <td>64</td>\n",
       "      <td>7</td>\n",
       "    </tr>\n",
       "    <tr>\n",
       "      <th>3</th>\n",
       "      <td>27740</td>\n",
       "      <td>102</td>\n",
       "      <td>94</td>\n",
       "      <td>0.921569</td>\n",
       "      <td>Chocolate Love Bar</td>\n",
       "      <td>45</td>\n",
       "      <td>19</td>\n",
       "    </tr>\n",
       "    <tr>\n",
       "      <th>4</th>\n",
       "      <td>14609</td>\n",
       "      <td>35</td>\n",
       "      <td>32</td>\n",
       "      <td>0.914286</td>\n",
       "      <td>Soy Powder Infant Formula</td>\n",
       "      <td>92</td>\n",
       "      <td>18</td>\n",
       "    </tr>\n",
       "    <tr>\n",
       "      <th>5</th>\n",
       "      <td>13875</td>\n",
       "      <td>45</td>\n",
       "      <td>41</td>\n",
       "      <td>0.911111</td>\n",
       "      <td>Simply Sleep Nighttime Sleep Aid</td>\n",
       "      <td>6</td>\n",
       "      <td>2</td>\n",
       "    </tr>\n",
       "    <tr>\n",
       "      <th>6</th>\n",
       "      <td>39992</td>\n",
       "      <td>22</td>\n",
       "      <td>20</td>\n",
       "      <td>0.909091</td>\n",
       "      <td>Energy Shot, Grape Flavor</td>\n",
       "      <td>64</td>\n",
       "      <td>7</td>\n",
       "    </tr>\n",
       "    <tr>\n",
       "      <th>7</th>\n",
       "      <td>5868</td>\n",
       "      <td>30</td>\n",
       "      <td>27</td>\n",
       "      <td>0.900000</td>\n",
       "      <td>Russian River Valley Reserve Pinot Noir</td>\n",
       "      <td>28</td>\n",
       "      <td>5</td>\n",
       "    </tr>\n",
       "    <tr>\n",
       "      <th>8</th>\n",
       "      <td>36543</td>\n",
       "      <td>69</td>\n",
       "      <td>62</td>\n",
       "      <td>0.898551</td>\n",
       "      <td>Bars Peanut Butter</td>\n",
       "      <td>88</td>\n",
       "      <td>13</td>\n",
       "    </tr>\n",
       "    <tr>\n",
       "      <th>9</th>\n",
       "      <td>26093</td>\n",
       "      <td>67</td>\n",
       "      <td>60</td>\n",
       "      <td>0.895522</td>\n",
       "      <td>Soy Crisps Lightly Salted</td>\n",
       "      <td>107</td>\n",
       "      <td>19</td>\n",
       "    </tr>\n",
       "  </tbody>\n",
       "</table>\n",
       "</div>"
      ],
      "text/plain": [
       "   product_id  norder  nreorder  frac_reorder  \\\n",
       "0        6433      69        65      0.942029   \n",
       "1        2075      90        84      0.933333   \n",
       "2       43553      13        12      0.923077   \n",
       "3       27740     102        94      0.921569   \n",
       "4       14609      35        32      0.914286   \n",
       "5       13875      45        41      0.911111   \n",
       "6       39992      22        20      0.909091   \n",
       "7        5868      30        27      0.900000   \n",
       "8       36543      69        62      0.898551   \n",
       "9       26093      67        60      0.895522   \n",
       "\n",
       "                               product_name  aisle_id  department_id  \n",
       "0                       Raw Veggie Wrappers        13             20  \n",
       "1  Serenity Ultimate Extrema Overnight Pads       126             11  \n",
       "2                       Orange Energy Shots        64              7  \n",
       "3                        Chocolate Love Bar        45             19  \n",
       "4                 Soy Powder Infant Formula        92             18  \n",
       "5          Simply Sleep Nighttime Sleep Aid         6              2  \n",
       "6                 Energy Shot, Grape Flavor        64              7  \n",
       "7   Russian River Valley Reserve Pinot Noir        28              5  \n",
       "8                        Bars Peanut Butter        88             13  \n",
       "9                 Soy Crisps Lightly Salted       107             19  "
      ]
     },
     "execution_count": 29,
     "metadata": {},
     "output_type": "execute_result"
    }
   ],
   "source": [
    "# we see that we have the Orange Energy Shots\n",
    "# we got the same result as in pandas\n",
    "# ask us questions\n",
    "\n",
    "df.head(10)"
   ]
  },
  {
   "cell_type": "code",
   "execution_count": null,
   "metadata": {
    "collapsed": false
   },
   "outputs": [],
   "source": []
  }
 ],
 "metadata": {
  "celltoolbar": "Slideshow",
  "interpreter": {
   "hash": "31582b9feba862c420bc95ad7fac43fb721c474490d1710b4e50ac63470f9531"
  },
  "kernelspec": {
   "display_name": "Python 3.8.8 64-bit ('base': conda)",
   "name": "python3"
  },
  "language_info": {
   "codemirror_mode": {
    "name": "ipython",
    "version": 3
   },
   "file_extension": ".py",
   "mimetype": "text/x-python",
   "name": "python",
   "nbconvert_exporter": "python",
   "pygments_lexer": "ipython3",
   "version": "3.8.8"
  }
 },
 "nbformat": 4,
 "nbformat_minor": 4
}
