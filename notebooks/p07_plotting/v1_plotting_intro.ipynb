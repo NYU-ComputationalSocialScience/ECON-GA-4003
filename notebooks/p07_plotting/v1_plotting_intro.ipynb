{
 "cells": [
  {
   "cell_type": "markdown",
   "source": [
    "# Plotting\n",
    "\n",
    "**Prerequisites**\n",
    "\n",
    "- [Introduction to Numpy](numpy_arrays.ipynb)  \n",
    "\n",
    "\n",
    "**Outcomes**\n",
    "\n",
    "- Understand components of matplotlib plots  \n",
    "- Make basic plots  "
   ],
   "metadata": {
    "slideshow": {
     "slide_type": "slide"
    }
   }
  },
  {
   "cell_type": "markdown",
   "source": [
    "## Outline\n",
    "\n",
    "- [Plotting](#Plotting)  \n",
    "  - [Visualization](#Visualization)  \n",
    "  - [`matplotlib`](#`matplotlib`)  "
   ],
   "metadata": {
    "slideshow": {
     "slide_type": "-"
    }
   }
  },
  {
   "cell_type": "markdown",
   "source": [
    "## Visualization\n",
    "\n",
    "One of the most important outputs of your analysis will be the visualizations that you choose to\n",
    "communicate what you’ve discovered.\n",
    "\n",
    "Here are what some people – whom we think have earned the right to an opinion on this\n",
    "material – have said with respect to data visualizations.\n",
    "\n",
    "> Above all else, show the data – Edward Tufte\n",
    "\n",
    "> By visualizing information, we turn it into a landscape that you can explore with your eyes. A sort of information map. And when you’re lost in information, an information map is kind of useful – David McCandless\n",
    "\n",
    "> I spend hours thinking about how to get the story across in my visualizations. I don’t mind taking that long because it’s that five minutes of presenting it or someone getting it that can make or break a deal – Goldman Sachs executive"
   ],
   "metadata": {
    "slideshow": {
     "slide_type": "slide"
    }
   }
  },
  {
   "cell_type": "markdown",
   "source": [
    "We begin by focusing on the basics of creating visualizations in Python.\n",
    "\n",
    "This will be a fast introduction, but this material appears in almost every\n",
    "lecture going forward, which will help the concepts sink in.\n",
    "\n",
    "In almost any profession that you pursue, much of what you do involves communicating ideas to others.\n",
    "\n",
    "Data visualization can help you communicate these ideas effectively, and we encourage you to learn\n",
    "more about what makes a useful visualization.\n",
    "\n",
    "We include some references that we have found useful below.\n",
    "\n",
    "- [The Functional Art: An introduction to information graphics and visualization](https://www.amazon.com/The-Functional-Art-introduction-visualization/dp/0321834739/) by Alberto Cairo  \n",
    "- [The Visual Display of Quantitative Information](https://www.amazon.com/Visual-Display-Quantitative-Information/dp/1930824130) by Edward Tufte  \n",
    "- [The Wall Street Journal Guide to Information Graphics: The Dos and Don’ts of Presenting Data, Facts, and Figures](https://www.amazon.com/Street-Journal-Guide-Information-Graphics/dp/0393347281) by Dona M Wong  \n",
    "- [Introduction to Data Visualization](http://paldhous.github.io/ucb/2016/dataviz/index.html)  "
   ],
   "metadata": {
    "slideshow": {
     "slide_type": "subslide"
    }
   }
  },
  {
   "cell_type": "markdown",
   "source": [
    "## `matplotlib`\n",
    "\n",
    "The most widely used plotting package in Python is matplotlib.\n",
    "\n",
    "The standard import alias is"
   ],
   "metadata": {
    "slideshow": {
     "slide_type": "slide"
    }
   }
  },
  {
   "cell_type": "code",
   "execution_count": 1,
   "source": [
    "import matplotlib.pyplot as plt\n",
    "import numpy as np"
   ],
   "outputs": [],
   "metadata": {
    "hide-output": false,
    "slideshow": {
     "slide_type": "-"
    }
   }
  },
  {
   "cell_type": "markdown",
   "source": [
    "Note above that we are using `matplotlib.pyplot` rather than just `matplotlib`.\n",
    "\n",
    "`pyplot` is a sub-module found in some large packages to further organize functions and types. We are able to give the `plt` alias to this sub-module.\n",
    "\n",
    "Additionally, when we are working in the notebook, we need tell matplotlib to display our images\n",
    "inside of the notebook itself instead of creating new windows with the image.\n",
    "\n",
    "This is done by"
   ],
   "metadata": {
    "slideshow": {
     "slide_type": "-"
    }
   }
  },
  {
   "cell_type": "code",
   "execution_count": 2,
   "source": [
    "%matplotlib inline"
   ],
   "outputs": [],
   "metadata": {
    "hide-output": false,
    "slideshow": {
     "slide_type": "-"
    }
   }
  },
  {
   "cell_type": "markdown",
   "source": [
    "The commands with `%` before them are called [Magics](https://ipython.readthedocs.io/en/stable/interactive/magics.html)."
   ],
   "metadata": {
    "slideshow": {
     "slide_type": "-"
    }
   }
  },
  {
   "cell_type": "markdown",
   "source": [
    "### First Plot\n",
    "\n",
    "Let’s create our first plot!\n",
    "\n",
    "After creating it, we will walk through the steps one-by-one to understand what they do."
   ],
   "metadata": {
    "slideshow": {
     "slide_type": "subslide"
    }
   }
  },
  {
   "cell_type": "code",
   "execution_count": 3,
   "source": [
    "# Step 1\n",
    "fig, ax = plt.subplots()\n",
    "\n",
    "# Step 2\n",
    "x = np.linspace(0, 2*np.pi, 100)\n",
    "y = np.sin(x)\n",
    "\n",
    "# Step 3\n",
    "ax.plot(x, y)"
   ],
   "outputs": [
    {
     "output_type": "execute_result",
     "data": {
      "text/plain": [
       "[<matplotlib.lines.Line2D at 0x7fb270db3ee0>]"
      ]
     },
     "metadata": {},
     "execution_count": 3
    },
    {
     "output_type": "display_data",
     "data": {
      "image/png": "[encoded data removed]",
      "text/plain": [
       "<Figure size 432x288 with 1 Axes>"
      ]
     },
     "metadata": {
      "needs_background": "light"
     }
    }
   ],
   "metadata": {
    "hide-output": false,
    "slideshow": {
     "slide_type": "-"
    }
   }
  },
  {
   "cell_type": "markdown",
   "source": [
    "1. Create a figure and axis object which stores the information from our graph.  \n",
    "1. Generate data that we will plot.  \n",
    "1. Use the `x` and `y` data, and make a line plot on our axis, `ax`, by calling the `plot` method.  "
   ],
   "metadata": {
    "slideshow": {
     "slide_type": "-"
    }
   }
  },
  {
   "cell_type": "markdown",
   "source": [
    "### Difference between Figure and Axis\n",
    "\n",
    "We’ve found that the easiest way for us to distinguish between the figure and axis objects is to\n",
    "think about them as a framed painting.\n",
    "\n",
    "The axis is the canvas; it is where we “draw” our plots.\n",
    "\n",
    "The figure is the entire framed painting (which inclues the axis itself!).\n",
    "\n",
    "We can also see this by setting certain elements of the figure to different colors."
   ],
   "metadata": {
    "slideshow": {
     "slide_type": "subslide"
    }
   }
  },
  {
   "cell_type": "code",
   "execution_count": 4,
   "source": [
    "fig, ax = plt.subplots()\n",
    "\n",
    "fig.set_facecolor(\"red\")\n",
    "ax.set_facecolor(\"blue\")"
   ],
   "outputs": [
    {
     "output_type": "display_data",
     "data": {
      "image/png": "[encoded data removed]",
      "text/plain": [
       "<Figure size 432x288 with 1 Axes>"
      ]
     },
     "metadata": {}
    }
   ],
   "metadata": {
    "hide-output": false,
    "slideshow": {
     "slide_type": "-"
    }
   }
  },
  {
   "cell_type": "markdown",
   "source": [
    "This difference also means that you can place more than one axis on a figure."
   ],
   "metadata": {
    "slideshow": {
     "slide_type": "subslide"
    }
   }
  },
  {
   "cell_type": "code",
   "execution_count": 5,
   "source": [
    "# We specified the shape of the axes -- It means we will have two rows and three columns\n",
    "# of axes on our figure\n",
    "fig, axes = plt.subplots(2, 3)\n",
    "\n",
    "fig.set_facecolor(\"gray\")\n",
    "\n",
    "# Can choose hex colors\n",
    "colors = [\"#065535\", \"#89ecda\", \"#ffd1dc\", \"#ff0000\", \"#6897bb\", \"#9400d3\"]\n",
    "\n",
    "# axes is a numpy array and we want to iterate over a flat version of it\n",
    "for (ax, c) in zip(axes.flat, colors):\n",
    "    ax.set_facecolor(c)\n",
    "\n",
    "fig.tight_layout()"
   ],
   "outputs": [
    {
     "output_type": "display_data",
     "data": {
      "image/png": "[encoded data removed]",
      "text/plain": [
       "<Figure size 432x288 with 6 Axes>"
      ]
     },
     "metadata": {}
    }
   ],
   "metadata": {
    "hide-output": false,
    "slideshow": {
     "slide_type": "-"
    }
   }
  },
  {
   "cell_type": "markdown",
   "source": [
    "### Functionality\n",
    "\n",
    "The matplotlib library is versatile and very flexible.\n",
    "\n",
    "You can see various examples of what it can do on the\n",
    "[matplotlib example gallery](https://matplotlib.org/gallery.html).\n",
    "\n",
    "We work though a few examples to quickly introduce some possibilities.\n",
    "\n",
    "**Bar**"
   ],
   "metadata": {
    "slideshow": {
     "slide_type": "slide"
    }
   }
  },
  {
   "cell_type": "code",
   "execution_count": 6,
   "source": [
    "countries = [\"CAN\", \"MEX\", \"USA\"]\n",
    "populations = [36.7, 129.2, 325.700]\n",
    "land_area = [3.850, 0.761, 3.790]\n",
    "\n",
    "fig, ax = plt.subplots(2, 1)\n",
    "\n",
    "ax[0].bar(countries, populations, align=\"center\")\n",
    "ax[0].set_title(\"Populations (in millions)\")\n",
    "\n",
    "ax[1].bar(countries, land_area, align=\"center\")\n",
    "ax[1].set_title(\"Land area (in millions miles squared)\")\n",
    "\n",
    "fig.tight_layout()"
   ],
   "outputs": [
    {
     "output_type": "display_data",
     "data": {
      "image/png": "[encoded data removed]",
      "text/plain": [
       "<Figure size 432x288 with 2 Axes>"
      ]
     },
     "metadata": {
      "needs_background": "light"
     }
    }
   ],
   "metadata": {
    "hide-output": false,
    "slideshow": {
     "slide_type": "-"
    }
   }
  },
  {
   "cell_type": "markdown",
   "source": [
    "**Scatter and annotation**"
   ],
   "metadata": {
    "slideshow": {
     "slide_type": "subslide"
    }
   }
  },
  {
   "cell_type": "code",
   "execution_count": 7,
   "source": [
    "N = 50\n",
    "\n",
    "np.random.seed(42)\n",
    "\n",
    "x = np.random.rand(N)\n",
    "y = np.random.rand(N)\n",
    "colors = np.random.rand(N)\n",
    "area = np.pi * (15 * np.random.rand(N))**2  # 0 to 15 point radii\n",
    "\n",
    "fig, ax = plt.subplots()\n",
    "\n",
    "ax.scatter(x, y, s=area, c=colors, alpha=0.5)\n",
    "\n",
    "ax.annotate(\n",
    "    \"First point\", xy=(x[0], y[0]), xycoords=\"data\",\n",
    "    xytext=(25, -25), textcoords=\"offset points\",\n",
    "    arrowprops=dict(arrowstyle=\"->\", connectionstyle=\"arc3,rad=0.6\")\n",
    ")"
   ],
   "outputs": [
    {
     "output_type": "execute_result",
     "data": {
      "text/plain": [
       "Text(25, -25, 'First point')"
      ]
     },
     "metadata": {},
     "execution_count": 7
    },
    {
     "output_type": "display_data",
     "data": {
      "image/png": "[encoded data removed]",
      "text/plain": [
       "<Figure size 432x288 with 1 Axes>"
      ]
     },
     "metadata": {
      "needs_background": "light"
     }
    }
   ],
   "metadata": {
    "hide-output": false,
    "slideshow": {
     "slide_type": "-"
    }
   }
  },
  {
   "cell_type": "markdown",
   "source": [
    "**Fill between**"
   ],
   "metadata": {
    "slideshow": {
     "slide_type": "subslide"
    }
   }
  },
  {
   "cell_type": "code",
   "execution_count": 8,
   "source": [
    "x = np.linspace(0, 1, 500)\n",
    "y = np.sin(4 * np.pi * x) * np.exp(-5 * x)\n",
    "y2 = np.sin(4 * np.pi * x) * np.exp(-10 * x)\n",
    "\n",
    "fig, ax = plt.subplots()\n",
    "\n",
    "ax.grid(True)\n",
    "ax.fill_between(x, y, y2)"
   ],
   "outputs": [
    {
     "output_type": "execute_result",
     "data": {
      "text/plain": [
       "<matplotlib.collections.PolyCollection at 0x7fb271418d00>"
      ]
     },
     "metadata": {},
     "execution_count": 8
    },
    {
     "output_type": "display_data",
     "data": {
      "image/png": "[encoded data removed]",
      "text/plain": [
       "<Figure size 432x288 with 1 Axes>"
      ]
     },
     "metadata": {
      "needs_background": "light"
     }
    }
   ],
   "metadata": {
    "hide-output": false,
    "slideshow": {
     "slide_type": "-"
    }
   }
  }
 ],
 "metadata": {
  "celltoolbar": "Slideshow",
  "date": 1595397099.8827949,
  "download_nb": false,
  "filename": "plotting.rst",
  "filename_with_path": "scientific/plotting",
  "kernelspec": {
   "name": "python3",
   "display_name": "Python 3.8.8 64-bit ('base': conda)"
  },
  "language_info": {
   "codemirror_mode": {
    "name": "ipython",
    "version": 3
   },
   "file_extension": ".py",
   "mimetype": "text/x-python",
   "name": "python",
   "nbconvert_exporter": "python",
   "pygments_lexer": "ipython3",
   "version": "3.8.8"
  },
  "title": "Plotting",
  "interpreter": {
   "hash": "f95ebe35f1571d5da8adf4b292d39b22e50022757c971cff12aa2107e853255e"
  }
 },
 "nbformat": 4,
 "nbformat_minor": 2
}